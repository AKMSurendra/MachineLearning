{
  "nbformat": 4,
  "nbformat_minor": 0,
  "metadata": {
    "colab": {
      "provenance": [],
      "mount_file_id": "10bQ9nZT_sIrr0-LXhJAT2r0-gutvQGU4",
      "authorship_tag": "ABX9TyNOBg/YX9PPHCpLclNGL6tl",
      "include_colab_link": true
    },
    "kernelspec": {
      "name": "python3",
      "display_name": "Python 3"
    },
    "language_info": {
      "name": "python"
    }
  },
  "cells": [
    {
      "cell_type": "markdown",
      "metadata": {
        "id": "view-in-github",
        "colab_type": "text"
      },
      "source": [
        "<a href=\"https://colab.research.google.com/github/AKMSurendra/MachineLearning/blob/main/ML.ipynb\" target=\"_parent\"><img src=\"https://colab.research.google.com/assets/colab-badge.svg\" alt=\"Open In Colab\"/></a>"
      ]
    },
    {
      "cell_type": "markdown",
      "source": [
        "Simple Linear Regression\n",
        "\n",
        "Predicting the percentage of marks that a student scores based upon the number of hours they have studied."
      ],
      "metadata": {
        "id": "UWIn53USjWyz"
      }
    },
    {
      "cell_type": "code",
      "source": [
        "from google.colab import drive\n",
        "drive.mount('/content/drive')"
      ],
      "metadata": {
        "colab": {
          "base_uri": "https://localhost:8080/"
        },
        "id": "j9jeAKX-_6wp",
        "outputId": "37a3e6b5-50b0-4b35-96bb-4391f4b7d51f"
      },
      "execution_count": null,
      "outputs": [
        {
          "output_type": "stream",
          "name": "stdout",
          "text": [
            "Drive already mounted at /content/drive; to attempt to forcibly remount, call drive.mount(\"/content/drive\", force_remount=True).\n"
          ]
        }
      ]
    },
    {
      "cell_type": "code",
      "execution_count": null,
      "metadata": {
        "id": "vC3zEUzmjT84"
      },
      "outputs": [],
      "source": [
        "import numpy as np\n",
        "import pandas as pd\n",
        "import matplotlib.pyplot as plt\n",
        "import seaborn as sns\n",
        "import warnings\n",
        "warnings.filterwarnings('ignore'      )"
      ]
    },
    {
      "cell_type": "code",
      "source": [
        "dataset = pd.read_csv('/content/drive/MyDrive/ML data/student_scores.csv')\n",
        "dataset.shape"
      ],
      "metadata": {
        "id": "73pNmHuejq6E",
        "colab": {
          "base_uri": "https://localhost:8080/"
        },
        "outputId": "93ce8e1f-d746-4b9a-a389-f1de526ed7b9"
      },
      "execution_count": null,
      "outputs": [
        {
          "output_type": "execute_result",
          "data": {
            "text/plain": [
              "(25, 2)"
            ]
          },
          "metadata": {},
          "execution_count": 4
        }
      ]
    },
    {
      "cell_type": "code",
      "source": [
        "dataset.head()"
      ],
      "metadata": {
        "id": "Ss-4B9ZckwhE",
        "colab": {
          "base_uri": "https://localhost:8080/",
          "height": 206
        },
        "outputId": "75cff127-e343-4673-909d-80c5394d9ec1"
      },
      "execution_count": null,
      "outputs": [
        {
          "output_type": "execute_result",
          "data": {
            "text/plain": [
              "   Hours  Scores\n",
              "0    2.5      21\n",
              "1    5.1      47\n",
              "2    3.2      27\n",
              "3    8.5      75\n",
              "4    3.5      30"
            ],
            "text/html": [
              "\n",
              "  <div id=\"df-b89241f4-1613-4a02-b570-182f83424909\">\n",
              "    <div class=\"colab-df-container\">\n",
              "      <div>\n",
              "<style scoped>\n",
              "    .dataframe tbody tr th:only-of-type {\n",
              "        vertical-align: middle;\n",
              "    }\n",
              "\n",
              "    .dataframe tbody tr th {\n",
              "        vertical-align: top;\n",
              "    }\n",
              "\n",
              "    .dataframe thead th {\n",
              "        text-align: right;\n",
              "    }\n",
              "</style>\n",
              "<table border=\"1\" class=\"dataframe\">\n",
              "  <thead>\n",
              "    <tr style=\"text-align: right;\">\n",
              "      <th></th>\n",
              "      <th>Hours</th>\n",
              "      <th>Scores</th>\n",
              "    </tr>\n",
              "  </thead>\n",
              "  <tbody>\n",
              "    <tr>\n",
              "      <th>0</th>\n",
              "      <td>2.5</td>\n",
              "      <td>21</td>\n",
              "    </tr>\n",
              "    <tr>\n",
              "      <th>1</th>\n",
              "      <td>5.1</td>\n",
              "      <td>47</td>\n",
              "    </tr>\n",
              "    <tr>\n",
              "      <th>2</th>\n",
              "      <td>3.2</td>\n",
              "      <td>27</td>\n",
              "    </tr>\n",
              "    <tr>\n",
              "      <th>3</th>\n",
              "      <td>8.5</td>\n",
              "      <td>75</td>\n",
              "    </tr>\n",
              "    <tr>\n",
              "      <th>4</th>\n",
              "      <td>3.5</td>\n",
              "      <td>30</td>\n",
              "    </tr>\n",
              "  </tbody>\n",
              "</table>\n",
              "</div>\n",
              "      <button class=\"colab-df-convert\" onclick=\"convertToInteractive('df-b89241f4-1613-4a02-b570-182f83424909')\"\n",
              "              title=\"Convert this dataframe to an interactive table.\"\n",
              "              style=\"display:none;\">\n",
              "        \n",
              "  <svg xmlns=\"http://www.w3.org/2000/svg\" height=\"24px\"viewBox=\"0 0 24 24\"\n",
              "       width=\"24px\">\n",
              "    <path d=\"M0 0h24v24H0V0z\" fill=\"none\"/>\n",
              "    <path d=\"M18.56 5.44l.94 2.06.94-2.06 2.06-.94-2.06-.94-.94-2.06-.94 2.06-2.06.94zm-11 1L8.5 8.5l.94-2.06 2.06-.94-2.06-.94L8.5 2.5l-.94 2.06-2.06.94zm10 10l.94 2.06.94-2.06 2.06-.94-2.06-.94-.94-2.06-.94 2.06-2.06.94z\"/><path d=\"M17.41 7.96l-1.37-1.37c-.4-.4-.92-.59-1.43-.59-.52 0-1.04.2-1.43.59L10.3 9.45l-7.72 7.72c-.78.78-.78 2.05 0 2.83L4 21.41c.39.39.9.59 1.41.59.51 0 1.02-.2 1.41-.59l7.78-7.78 2.81-2.81c.8-.78.8-2.07 0-2.86zM5.41 20L4 18.59l7.72-7.72 1.47 1.35L5.41 20z\"/>\n",
              "  </svg>\n",
              "      </button>\n",
              "      \n",
              "  <style>\n",
              "    .colab-df-container {\n",
              "      display:flex;\n",
              "      flex-wrap:wrap;\n",
              "      gap: 12px;\n",
              "    }\n",
              "\n",
              "    .colab-df-convert {\n",
              "      background-color: #E8F0FE;\n",
              "      border: none;\n",
              "      border-radius: 50%;\n",
              "      cursor: pointer;\n",
              "      display: none;\n",
              "      fill: #1967D2;\n",
              "      height: 32px;\n",
              "      padding: 0 0 0 0;\n",
              "      width: 32px;\n",
              "    }\n",
              "\n",
              "    .colab-df-convert:hover {\n",
              "      background-color: #E2EBFA;\n",
              "      box-shadow: 0px 1px 2px rgba(60, 64, 67, 0.3), 0px 1px 3px 1px rgba(60, 64, 67, 0.15);\n",
              "      fill: #174EA6;\n",
              "    }\n",
              "\n",
              "    [theme=dark] .colab-df-convert {\n",
              "      background-color: #3B4455;\n",
              "      fill: #D2E3FC;\n",
              "    }\n",
              "\n",
              "    [theme=dark] .colab-df-convert:hover {\n",
              "      background-color: #434B5C;\n",
              "      box-shadow: 0px 1px 3px 1px rgba(0, 0, 0, 0.15);\n",
              "      filter: drop-shadow(0px 1px 2px rgba(0, 0, 0, 0.3));\n",
              "      fill: #FFFFFF;\n",
              "    }\n",
              "  </style>\n",
              "\n",
              "      <script>\n",
              "        const buttonEl =\n",
              "          document.querySelector('#df-b89241f4-1613-4a02-b570-182f83424909 button.colab-df-convert');\n",
              "        buttonEl.style.display =\n",
              "          google.colab.kernel.accessAllowed ? 'block' : 'none';\n",
              "\n",
              "        async function convertToInteractive(key) {\n",
              "          const element = document.querySelector('#df-b89241f4-1613-4a02-b570-182f83424909');\n",
              "          const dataTable =\n",
              "            await google.colab.kernel.invokeFunction('convertToInteractive',\n",
              "                                                     [key], {});\n",
              "          if (!dataTable) return;\n",
              "\n",
              "          const docLinkHtml = 'Like what you see? Visit the ' +\n",
              "            '<a target=\"_blank\" href=https://colab.research.google.com/notebooks/data_table.ipynb>data table notebook</a>'\n",
              "            + ' to learn more about interactive tables.';\n",
              "          element.innerHTML = '';\n",
              "          dataTable['output_type'] = 'display_data';\n",
              "          await google.colab.output.renderOutput(dataTable, element);\n",
              "          const docLink = document.createElement('div');\n",
              "          docLink.innerHTML = docLinkHtml;\n",
              "          element.appendChild(docLink);\n",
              "        }\n",
              "      </script>\n",
              "    </div>\n",
              "  </div>\n",
              "  "
            ]
          },
          "metadata": {},
          "execution_count": 6
        }
      ]
    },
    {
      "cell_type": "code",
      "source": [
        "dataset.describe()\n",
        "dataset.columns"
      ],
      "metadata": {
        "id": "lhEhIvEvk1vK",
        "colab": {
          "base_uri": "https://localhost:8080/"
        },
        "outputId": "1db3d138-83d0-4392-a6a3-6c97eb62e0a9"
      },
      "execution_count": null,
      "outputs": [
        {
          "output_type": "execute_result",
          "data": {
            "text/plain": [
              "Index(['Hours', 'Scores'], dtype='object')"
            ]
          },
          "metadata": {},
          "execution_count": 7
        }
      ]
    },
    {
      "cell_type": "code",
      "source": [
        "dataset.plot(x='Hours', y='Scores', style='*', c='g')\n",
        "plt.title(\"Hours vs Percentage\")\n",
        "plt.xlabel(\"Hours studied\")\n",
        "plt.ylabel(\"Percentage scored\")\n",
        "plt.show();"
      ],
      "metadata": {
        "id": "zrB3kqPRk8eO",
        "colab": {
          "base_uri": "https://localhost:8080/",
          "height": 472
        },
        "outputId": "4a597281-89fa-4434-bf49-c9d52b445990"
      },
      "execution_count": null,
      "outputs": [
        {
          "output_type": "display_data",
          "data": {
            "text/plain": [
              "<Figure size 640x480 with 1 Axes>"
            ],
            "image/png": "[encoded data removed]"
          },
          "metadata": {}
        }
      ]
    },
    {
      "cell_type": "code",
      "source": [
        "# prepare my data\n",
        "X = dataset.iloc[:,:-1]\n",
        "y = dataset.iloc[:,1]"
      ],
      "metadata": {
        "id": "Kp8OiavblG7q"
      },
      "execution_count": null,
      "outputs": []
    },
    {
      "cell_type": "code",
      "source": [
        "X.head()"
      ],
      "metadata": {
        "colab": {
          "base_uri": "https://localhost:8080/",
          "height": 206
        },
        "id": "WBys-bv6l0rc",
        "outputId": "e2ad3712-ee90-493a-9693-ad58c56f1e6a"
      },
      "execution_count": null,
      "outputs": [
        {
          "output_type": "execute_result",
          "data": {
            "text/plain": [
              "   Hours\n",
              "0    2.5\n",
              "1    5.1\n",
              "2    3.2\n",
              "3    8.5\n",
              "4    3.5"
            ],
            "text/html": [
              "\n",
              "  <div id=\"df-b7c0ee54-fc2c-448e-804b-5e5ffad7b797\">\n",
              "    <div class=\"colab-df-container\">\n",
              "      <div>\n",
              "<style scoped>\n",
              "    .dataframe tbody tr th:only-of-type {\n",
              "        vertical-align: middle;\n",
              "    }\n",
              "\n",
              "    .dataframe tbody tr th {\n",
              "        vertical-align: top;\n",
              "    }\n",
              "\n",
              "    .dataframe thead th {\n",
              "        text-align: right;\n",
              "    }\n",
              "</style>\n",
              "<table border=\"1\" class=\"dataframe\">\n",
              "  <thead>\n",
              "    <tr style=\"text-align: right;\">\n",
              "      <th></th>\n",
              "      <th>Hours</th>\n",
              "    </tr>\n",
              "  </thead>\n",
              "  <tbody>\n",
              "    <tr>\n",
              "      <th>0</th>\n",
              "      <td>2.5</td>\n",
              "    </tr>\n",
              "    <tr>\n",
              "      <th>1</th>\n",
              "      <td>5.1</td>\n",
              "    </tr>\n",
              "    <tr>\n",
              "      <th>2</th>\n",
              "      <td>3.2</td>\n",
              "    </tr>\n",
              "    <tr>\n",
              "      <th>3</th>\n",
              "      <td>8.5</td>\n",
              "    </tr>\n",
              "    <tr>\n",
              "      <th>4</th>\n",
              "      <td>3.5</td>\n",
              "    </tr>\n",
              "  </tbody>\n",
              "</table>\n",
              "</div>\n",
              "      <button class=\"colab-df-convert\" onclick=\"convertToInteractive('df-b7c0ee54-fc2c-448e-804b-5e5ffad7b797')\"\n",
              "              title=\"Convert this dataframe to an interactive table.\"\n",
              "              style=\"display:none;\">\n",
              "        \n",
              "  <svg xmlns=\"http://www.w3.org/2000/svg\" height=\"24px\"viewBox=\"0 0 24 24\"\n",
              "       width=\"24px\">\n",
              "    <path d=\"M0 0h24v24H0V0z\" fill=\"none\"/>\n",
              "    <path d=\"M18.56 5.44l.94 2.06.94-2.06 2.06-.94-2.06-.94-.94-2.06-.94 2.06-2.06.94zm-11 1L8.5 8.5l.94-2.06 2.06-.94-2.06-.94L8.5 2.5l-.94 2.06-2.06.94zm10 10l.94 2.06.94-2.06 2.06-.94-2.06-.94-.94-2.06-.94 2.06-2.06.94z\"/><path d=\"M17.41 7.96l-1.37-1.37c-.4-.4-.92-.59-1.43-.59-.52 0-1.04.2-1.43.59L10.3 9.45l-7.72 7.72c-.78.78-.78 2.05 0 2.83L4 21.41c.39.39.9.59 1.41.59.51 0 1.02-.2 1.41-.59l7.78-7.78 2.81-2.81c.8-.78.8-2.07 0-2.86zM5.41 20L4 18.59l7.72-7.72 1.47 1.35L5.41 20z\"/>\n",
              "  </svg>\n",
              "      </button>\n",
              "      \n",
              "  <style>\n",
              "    .colab-df-container {\n",
              "      display:flex;\n",
              "      flex-wrap:wrap;\n",
              "      gap: 12px;\n",
              "    }\n",
              "\n",
              "    .colab-df-convert {\n",
              "      background-color: #E8F0FE;\n",
              "      border: none;\n",
              "      border-radius: 50%;\n",
              "      cursor: pointer;\n",
              "      display: none;\n",
              "      fill: #1967D2;\n",
              "      height: 32px;\n",
              "      padding: 0 0 0 0;\n",
              "      width: 32px;\n",
              "    }\n",
              "\n",
              "    .colab-df-convert:hover {\n",
              "      background-color: #E2EBFA;\n",
              "      box-shadow: 0px 1px 2px rgba(60, 64, 67, 0.3), 0px 1px 3px 1px rgba(60, 64, 67, 0.15);\n",
              "      fill: #174EA6;\n",
              "    }\n",
              "\n",
              "    [theme=dark] .colab-df-convert {\n",
              "      background-color: #3B4455;\n",
              "      fill: #D2E3FC;\n",
              "    }\n",
              "\n",
              "    [theme=dark] .colab-df-convert:hover {\n",
              "      background-color: #434B5C;\n",
              "      box-shadow: 0px 1px 3px 1px rgba(0, 0, 0, 0.15);\n",
              "      filter: drop-shadow(0px 1px 2px rgba(0, 0, 0, 0.3));\n",
              "      fill: #FFFFFF;\n",
              "    }\n",
              "  </style>\n",
              "\n",
              "      <script>\n",
              "        const buttonEl =\n",
              "          document.querySelector('#df-b7c0ee54-fc2c-448e-804b-5e5ffad7b797 button.colab-df-convert');\n",
              "        buttonEl.style.display =\n",
              "          google.colab.kernel.accessAllowed ? 'block' : 'none';\n",
              "\n",
              "        async function convertToInteractive(key) {\n",
              "          const element = document.querySelector('#df-b7c0ee54-fc2c-448e-804b-5e5ffad7b797');\n",
              "          const dataTable =\n",
              "            await google.colab.kernel.invokeFunction('convertToInteractive',\n",
              "                                                     [key], {});\n",
              "          if (!dataTable) return;\n",
              "\n",
              "          const docLinkHtml = 'Like what you see? Visit the ' +\n",
              "            '<a target=\"_blank\" href=https://colab.research.google.com/notebooks/data_table.ipynb>data table notebook</a>'\n",
              "            + ' to learn more about interactive tables.';\n",
              "          element.innerHTML = '';\n",
              "          dataTable['output_type'] = 'display_data';\n",
              "          await google.colab.output.renderOutput(dataTable, element);\n",
              "          const docLink = document.createElement('div');\n",
              "          docLink.innerHTML = docLinkHtml;\n",
              "          element.appendChild(docLink);\n",
              "        }\n",
              "      </script>\n",
              "    </div>\n",
              "  </div>\n",
              "  "
            ]
          },
          "metadata": {},
          "execution_count": 10
        }
      ]
    },
    {
      "cell_type": "code",
      "source": [
        "X.shape"
      ],
      "metadata": {
        "colab": {
          "base_uri": "https://localhost:8080/"
        },
        "id": "QG7-GW0rfLvP",
        "outputId": "d3690c20-33e0-47ad-9506-391746473c3a"
      },
      "execution_count": null,
      "outputs": [
        {
          "output_type": "execute_result",
          "data": {
            "text/plain": [
              "(25, 1)"
            ]
          },
          "metadata": {},
          "execution_count": 11
        }
      ]
    },
    {
      "cell_type": "code",
      "source": [
        "y.head()"
      ],
      "metadata": {
        "colab": {
          "base_uri": "https://localhost:8080/"
        },
        "id": "GYg_U5x5fRnR",
        "outputId": "b07e1f14-0c7d-4cb1-e629-1a32adee0c43"
      },
      "execution_count": null,
      "outputs": [
        {
          "output_type": "execute_result",
          "data": {
            "text/plain": [
              "0    21\n",
              "1    47\n",
              "2    27\n",
              "3    75\n",
              "4    30\n",
              "Name: Scores, dtype: int64"
            ]
          },
          "metadata": {},
          "execution_count": 12
        }
      ]
    },
    {
      "cell_type": "code",
      "source": [
        "y.shape"
      ],
      "metadata": {
        "colab": {
          "base_uri": "https://localhost:8080/"
        },
        "id": "OhfdLzPSi_ch",
        "outputId": "faf49496-6f9a-4acd-97d6-aeac058209d0"
      },
      "execution_count": null,
      "outputs": [
        {
          "output_type": "execute_result",
          "data": {
            "text/plain": [
              "(25,)"
            ]
          },
          "metadata": {},
          "execution_count": 13
        }
      ]
    },
    {
      "cell_type": "code",
      "source": [
        "np.random.rand(3,2)"
      ],
      "metadata": {
        "colab": {
          "base_uri": "https://localhost:8080/"
        },
        "id": "BwSAYouBjWAG",
        "outputId": "ff1102bc-8d6c-4925-a910-20003cdf3249"
      },
      "execution_count": null,
      "outputs": [
        {
          "output_type": "execute_result",
          "data": {
            "text/plain": [
              "array([[0.12662724, 0.93072322],\n",
              "       [0.76988883, 0.65919706],\n",
              "       [0.18049834, 0.6894673 ]])"
            ]
          },
          "metadata": {},
          "execution_count": 15
        }
      ]
    },
    {
      "cell_type": "code",
      "source": [
        "np.random.seed(0)\n",
        "np.random.rand(3,2)"
      ],
      "metadata": {
        "colab": {
          "base_uri": "https://localhost:8080/"
        },
        "id": "JZeHq0YHjb83",
        "outputId": "befa3be0-dc90-40c3-f4db-099b5a9ee6f5"
      },
      "execution_count": null,
      "outputs": [
        {
          "output_type": "execute_result",
          "data": {
            "text/plain": [
              "array([[0.5488135 , 0.71518937],\n",
              "       [0.60276338, 0.54488318],\n",
              "       [0.4236548 , 0.64589411]])"
            ]
          },
          "metadata": {},
          "execution_count": 16
        }
      ]
    },
    {
      "cell_type": "code",
      "source": [
        "np.random.seed(990)\n",
        "np.random.rand(3,2)"
      ],
      "metadata": {
        "colab": {
          "base_uri": "https://localhost:8080/"
        },
        "id": "tZwT1ePcjhJg",
        "outputId": "774263a9-e35a-4d9d-899c-37003363f9e2"
      },
      "execution_count": null,
      "outputs": [
        {
          "output_type": "execute_result",
          "data": {
            "text/plain": [
              "array([[0.9806089 , 0.26989058],\n",
              "       [0.09874419, 0.42379487],\n",
              "       [0.11342195, 0.61825621]])"
            ]
          },
          "metadata": {},
          "execution_count": 17
        }
      ]
    },
    {
      "cell_type": "code",
      "source": [
        "# TTS\n",
        "\n",
        "from sklearn.model_selection import train_test_split\n",
        "X_train, X_test, y_train, y_test = train_test_split(X, y, test_size=0.25, random_state=0)"
      ],
      "metadata": {
        "id": "YiUWuNlRjnfq"
      },
      "execution_count": null,
      "outputs": []
    },
    {
      "cell_type": "code",
      "source": [
        "X_train.head()"
      ],
      "metadata": {
        "id": "Hjjt_oL2jxO7",
        "colab": {
          "base_uri": "https://localhost:8080/",
          "height": 206
        },
        "outputId": "bd5ff3b6-76f7-47e0-d1b0-e80d20d7401a"
      },
      "execution_count": null,
      "outputs": [
        {
          "output_type": "execute_result",
          "data": {
            "text/plain": [
              "    Hours\n",
              "24    7.8\n",
              "23    6.9\n",
              "14    1.1\n",
              "1     5.1\n",
              "10    7.7"
            ],
            "text/html": [
              "\n",
              "  <div id=\"df-3e84c81d-47ae-46d7-a79d-586cc9f4cb48\">\n",
              "    <div class=\"colab-df-container\">\n",
              "      <div>\n",
              "<style scoped>\n",
              "    .dataframe tbody tr th:only-of-type {\n",
              "        vertical-align: middle;\n",
              "    }\n",
              "\n",
              "    .dataframe tbody tr th {\n",
              "        vertical-align: top;\n",
              "    }\n",
              "\n",
              "    .dataframe thead th {\n",
              "        text-align: right;\n",
              "    }\n",
              "</style>\n",
              "<table border=\"1\" class=\"dataframe\">\n",
              "  <thead>\n",
              "    <tr style=\"text-align: right;\">\n",
              "      <th></th>\n",
              "      <th>Hours</th>\n",
              "    </tr>\n",
              "  </thead>\n",
              "  <tbody>\n",
              "    <tr>\n",
              "      <th>24</th>\n",
              "      <td>7.8</td>\n",
              "    </tr>\n",
              "    <tr>\n",
              "      <th>23</th>\n",
              "      <td>6.9</td>\n",
              "    </tr>\n",
              "    <tr>\n",
              "      <th>14</th>\n",
              "      <td>1.1</td>\n",
              "    </tr>\n",
              "    <tr>\n",
              "      <th>1</th>\n",
              "      <td>5.1</td>\n",
              "    </tr>\n",
              "    <tr>\n",
              "      <th>10</th>\n",
              "      <td>7.7</td>\n",
              "    </tr>\n",
              "  </tbody>\n",
              "</table>\n",
              "</div>\n",
              "      <button class=\"colab-df-convert\" onclick=\"convertToInteractive('df-3e84c81d-47ae-46d7-a79d-586cc9f4cb48')\"\n",
              "              title=\"Convert this dataframe to an interactive table.\"\n",
              "              style=\"display:none;\">\n",
              "        \n",
              "  <svg xmlns=\"http://www.w3.org/2000/svg\" height=\"24px\"viewBox=\"0 0 24 24\"\n",
              "       width=\"24px\">\n",
              "    <path d=\"M0 0h24v24H0V0z\" fill=\"none\"/>\n",
              "    <path d=\"M18.56 5.44l.94 2.06.94-2.06 2.06-.94-2.06-.94-.94-2.06-.94 2.06-2.06.94zm-11 1L8.5 8.5l.94-2.06 2.06-.94-2.06-.94L8.5 2.5l-.94 2.06-2.06.94zm10 10l.94 2.06.94-2.06 2.06-.94-2.06-.94-.94-2.06-.94 2.06-2.06.94z\"/><path d=\"M17.41 7.96l-1.37-1.37c-.4-.4-.92-.59-1.43-.59-.52 0-1.04.2-1.43.59L10.3 9.45l-7.72 7.72c-.78.78-.78 2.05 0 2.83L4 21.41c.39.39.9.59 1.41.59.51 0 1.02-.2 1.41-.59l7.78-7.78 2.81-2.81c.8-.78.8-2.07 0-2.86zM5.41 20L4 18.59l7.72-7.72 1.47 1.35L5.41 20z\"/>\n",
              "  </svg>\n",
              "      </button>\n",
              "      \n",
              "  <style>\n",
              "    .colab-df-container {\n",
              "      display:flex;\n",
              "      flex-wrap:wrap;\n",
              "      gap: 12px;\n",
              "    }\n",
              "\n",
              "    .colab-df-convert {\n",
              "      background-color: #E8F0FE;\n",
              "      border: none;\n",
              "      border-radius: 50%;\n",
              "      cursor: pointer;\n",
              "      display: none;\n",
              "      fill: #1967D2;\n",
              "      height: 32px;\n",
              "      padding: 0 0 0 0;\n",
              "      width: 32px;\n",
              "    }\n",
              "\n",
              "    .colab-df-convert:hover {\n",
              "      background-color: #E2EBFA;\n",
              "      box-shadow: 0px 1px 2px rgba(60, 64, 67, 0.3), 0px 1px 3px 1px rgba(60, 64, 67, 0.15);\n",
              "      fill: #174EA6;\n",
              "    }\n",
              "\n",
              "    [theme=dark] .colab-df-convert {\n",
              "      background-color: #3B4455;\n",
              "      fill: #D2E3FC;\n",
              "    }\n",
              "\n",
              "    [theme=dark] .colab-df-convert:hover {\n",
              "      background-color: #434B5C;\n",
              "      box-shadow: 0px 1px 3px 1px rgba(0, 0, 0, 0.15);\n",
              "      filter: drop-shadow(0px 1px 2px rgba(0, 0, 0, 0.3));\n",
              "      fill: #FFFFFF;\n",
              "    }\n",
              "  </style>\n",
              "\n",
              "      <script>\n",
              "        const buttonEl =\n",
              "          document.querySelector('#df-3e84c81d-47ae-46d7-a79d-586cc9f4cb48 button.colab-df-convert');\n",
              "        buttonEl.style.display =\n",
              "          google.colab.kernel.accessAllowed ? 'block' : 'none';\n",
              "\n",
              "        async function convertToInteractive(key) {\n",
              "          const element = document.querySelector('#df-3e84c81d-47ae-46d7-a79d-586cc9f4cb48');\n",
              "          const dataTable =\n",
              "            await google.colab.kernel.invokeFunction('convertToInteractive',\n",
              "                                                     [key], {});\n",
              "          if (!dataTable) return;\n",
              "\n",
              "          const docLinkHtml = 'Like what you see? Visit the ' +\n",
              "            '<a target=\"_blank\" href=https://colab.research.google.com/notebooks/data_table.ipynb>data table notebook</a>'\n",
              "            + ' to learn more about interactive tables.';\n",
              "          element.innerHTML = '';\n",
              "          dataTable['output_type'] = 'display_data';\n",
              "          await google.colab.output.renderOutput(dataTable, element);\n",
              "          const docLink = document.createElement('div');\n",
              "          docLink.innerHTML = docLinkHtml;\n",
              "          element.appendChild(docLink);\n",
              "        }\n",
              "      </script>\n",
              "    </div>\n",
              "  </div>\n",
              "  "
            ]
          },
          "metadata": {},
          "execution_count": 19
        }
      ]
    },
    {
      "cell_type": "code",
      "source": [
        "y_train.head()"
      ],
      "metadata": {
        "id": "SwegFfZ_j00L",
        "colab": {
          "base_uri": "https://localhost:8080/"
        },
        "outputId": "bd18a058-672a-447c-b6e6-12281d0038a3"
      },
      "execution_count": null,
      "outputs": [
        {
          "output_type": "execute_result",
          "data": {
            "text/plain": [
              "24    86\n",
              "23    76\n",
              "14    17\n",
              "1     47\n",
              "10    85\n",
              "Name: Scores, dtype: int64"
            ]
          },
          "metadata": {},
          "execution_count": 20
        }
      ]
    },
    {
      "cell_type": "code",
      "source": [
        "X_test.head()"
      ],
      "metadata": {
        "id": "M73k_y9Yj9qw"
      },
      "execution_count": null,
      "outputs": []
    },
    {
      "cell_type": "code",
      "source": [
        "y_test.head()"
      ],
      "metadata": {
        "id": "tCCDtpfpkEYZ"
      },
      "execution_count": null,
      "outputs": []
    },
    {
      "cell_type": "code",
      "source": [
        "X_train.shape"
      ],
      "metadata": {
        "id": "wFu-3owbkVnc"
      },
      "execution_count": null,
      "outputs": []
    },
    {
      "cell_type": "code",
      "source": [
        "X_test.shape"
      ],
      "metadata": {
        "id": "lGO49QxVkfxr"
      },
      "execution_count": null,
      "outputs": []
    },
    {
      "cell_type": "code",
      "source": [
        "# Train the algorithm\n",
        "\n",
        "from sklearn.linear_model import LinearRegression\n",
        "regressor = LinearRegression()\n",
        "regressor.fit(X_train, y_train)"
      ],
      "metadata": {
        "colab": {
          "base_uri": "https://localhost:8080/",
          "height": 75
        },
        "id": "jadDAKpcklhZ",
        "outputId": "e266aa33-3f3f-4576-c3e1-e99bf7ab8bd6"
      },
      "execution_count": null,
      "outputs": [
        {
          "output_type": "execute_result",
          "data": {
            "text/plain": [
              "LinearRegression()"
            ],
            "text/html": [
              "<style>#sk-container-id-1 {color: black;background-color: white;}#sk-container-id-1 pre{padding: 0;}#sk-container-id-1 div.sk-toggleable {background-color: white;}#sk-container-id-1 label.sk-toggleable__label {cursor: pointer;display: block;width: 100%;margin-bottom: 0;padding: 0.3em;box-sizing: border-box;text-align: center;}#sk-container-id-1 label.sk-toggleable__label-arrow:before {content: \"▸\";float: left;margin-right: 0.25em;color: #696969;}#sk-container-id-1 label.sk-toggleable__label-arrow:hover:before {color: black;}#sk-container-id-1 div.sk-estimator:hover label.sk-toggleable__label-arrow:before {color: black;}#sk-container-id-1 div.sk-toggleable__content {max-height: 0;max-width: 0;overflow: hidden;text-align: left;background-color: #f0f8ff;}#sk-container-id-1 div.sk-toggleable__content pre {margin: 0.2em;color: black;border-radius: 0.25em;background-color: #f0f8ff;}#sk-container-id-1 input.sk-toggleable__control:checked~div.sk-toggleable__content {max-height: 200px;max-width: 100%;overflow: auto;}#sk-container-id-1 input.sk-toggleable__control:checked~label.sk-toggleable__label-arrow:before {content: \"▾\";}#sk-container-id-1 div.sk-estimator input.sk-toggleable__control:checked~label.sk-toggleable__label {background-color: #d4ebff;}#sk-container-id-1 div.sk-label input.sk-toggleable__control:checked~label.sk-toggleable__label {background-color: #d4ebff;}#sk-container-id-1 input.sk-hidden--visually {border: 0;clip: rect(1px 1px 1px 1px);clip: rect(1px, 1px, 1px, 1px);height: 1px;margin: -1px;overflow: hidden;padding: 0;position: absolute;width: 1px;}#sk-container-id-1 div.sk-estimator {font-family: monospace;background-color: #f0f8ff;border: 1px dotted black;border-radius: 0.25em;box-sizing: border-box;margin-bottom: 0.5em;}#sk-container-id-1 div.sk-estimator:hover {background-color: #d4ebff;}#sk-container-id-1 div.sk-parallel-item::after {content: \"\";width: 100%;border-bottom: 1px solid gray;flex-grow: 1;}#sk-container-id-1 div.sk-label:hover label.sk-toggleable__label {background-color: #d4ebff;}#sk-container-id-1 div.sk-serial::before {content: \"\";position: absolute;border-left: 1px solid gray;box-sizing: border-box;top: 0;bottom: 0;left: 50%;z-index: 0;}#sk-container-id-1 div.sk-serial {display: flex;flex-direction: column;align-items: center;background-color: white;padding-right: 0.2em;padding-left: 0.2em;position: relative;}#sk-container-id-1 div.sk-item {position: relative;z-index: 1;}#sk-container-id-1 div.sk-parallel {display: flex;align-items: stretch;justify-content: center;background-color: white;position: relative;}#sk-container-id-1 div.sk-item::before, #sk-container-id-1 div.sk-parallel-item::before {content: \"\";position: absolute;border-left: 1px solid gray;box-sizing: border-box;top: 0;bottom: 0;left: 50%;z-index: -1;}#sk-container-id-1 div.sk-parallel-item {display: flex;flex-direction: column;z-index: 1;position: relative;background-color: white;}#sk-container-id-1 div.sk-parallel-item:first-child::after {align-self: flex-end;width: 50%;}#sk-container-id-1 div.sk-parallel-item:last-child::after {align-self: flex-start;width: 50%;}#sk-container-id-1 div.sk-parallel-item:only-child::after {width: 0;}#sk-container-id-1 div.sk-dashed-wrapped {border: 1px dashed gray;margin: 0 0.4em 0.5em 0.4em;box-sizing: border-box;padding-bottom: 0.4em;background-color: white;}#sk-container-id-1 div.sk-label label {font-family: monospace;font-weight: bold;display: inline-block;line-height: 1.2em;}#sk-container-id-1 div.sk-label-container {text-align: center;}#sk-container-id-1 div.sk-container {/* jupyter's `normalize.less` sets `[hidden] { display: none; }` but bootstrap.min.css set `[hidden] { display: none !important; }` so we also need the `!important` here to be able to override the default hidden behavior on the sphinx rendered scikit-learn.org. See: https://github.com/scikit-learn/scikit-learn/issues/21755 */display: inline-block !important;position: relative;}#sk-container-id-1 div.sk-text-repr-fallback {display: none;}</style><div id=\"sk-container-id-1\" class=\"sk-top-container\"><div class=\"sk-text-repr-fallback\"><pre>LinearRegression()</pre><b>In a Jupyter environment, please rerun this cell to show the HTML representation or trust the notebook. <br />On GitHub, the HTML representation is unable to render, please try loading this page with nbviewer.org.</b></div><div class=\"sk-container\" hidden><div class=\"sk-item\"><div class=\"sk-estimator sk-toggleable\"><input class=\"sk-toggleable__control sk-hidden--visually\" id=\"sk-estimator-id-1\" type=\"checkbox\" checked><label for=\"sk-estimator-id-1\" class=\"sk-toggleable__label sk-toggleable__label-arrow\">LinearRegression</label><div class=\"sk-toggleable__content\"><pre>LinearRegression()</pre></div></div></div></div></div>"
            ]
          },
          "metadata": {},
          "execution_count": 27
        }
      ]
    },
    {
      "cell_type": "code",
      "source": [
        "print(\"Intercept:\",regressor.intercept_)"
      ],
      "metadata": {
        "colab": {
          "base_uri": "https://localhost:8080/"
        },
        "id": "2yAz3jVakrv4",
        "outputId": "81ef4852-68dc-4cc2-a94a-ad819dbe8ea9"
      },
      "execution_count": null,
      "outputs": [
        {
          "output_type": "stream",
          "name": "stdout",
          "text": [
            "Intercept: 1.9322042531516601\n"
          ]
        }
      ]
    },
    {
      "cell_type": "code",
      "source": [
        "print(\"Slope:\",regressor.coef_)"
      ],
      "metadata": {
        "colab": {
          "base_uri": "https://localhost:8080/"
        },
        "id": "xtNUiz0Nkv4T",
        "outputId": "c5b77563-01d6-47ec-a0c7-bde5009c0002"
      },
      "execution_count": null,
      "outputs": [
        {
          "output_type": "stream",
          "name": "stdout",
          "text": [
            "Slope: [9.94167834]\n"
          ]
        }
      ]
    },
    {
      "cell_type": "markdown",
      "source": [
        "y = 9.94167834 * x + 1.932204253151646 "
      ],
      "metadata": {
        "id": "ndQCNvGwpphc"
      }
    },
    {
      "cell_type": "code",
      "source": [
        "9.94167834 * 5.5 + 1.932204253151646"
      ],
      "metadata": {
        "colab": {
          "base_uri": "https://localhost:8080/"
        },
        "id": "qZZNb0SQk3Rj",
        "outputId": "2153c759-4b93-4beb-cdc3-aef187412ef1"
      },
      "execution_count": null,
      "outputs": [
        {
          "output_type": "execute_result",
          "data": {
            "text/plain": [
              "56.611435123151644"
            ]
          },
          "metadata": {},
          "execution_count": 31
        }
      ]
    },
    {
      "cell_type": "code",
      "source": [
        "9.91 * 6.9 + 2.018"
      ],
      "metadata": {
        "colab": {
          "base_uri": "https://localhost:8080/"
        },
        "id": "Y1Mh6LCvpyR3",
        "outputId": "8c85a6e2-2f0e-47ed-9264-88e7830aa2c3"
      },
      "execution_count": null,
      "outputs": [
        {
          "output_type": "execute_result",
          "data": {
            "text/plain": [
              "70.397"
            ]
          },
          "metadata": {},
          "execution_count": 32
        }
      ]
    },
    {
      "cell_type": "code",
      "source": [
        "# Predictions\n",
        "\n",
        "y_pred = regressor.predict(X_test)\n",
        "y_pred"
      ],
      "metadata": {
        "colab": {
          "base_uri": "https://localhost:8080/"
        },
        "id": "KNsnwZFTqAT3",
        "outputId": "808febb5-9593-497d-ab84-6d3cacd541e0"
      },
      "execution_count": null,
      "outputs": [
        {
          "output_type": "execute_result",
          "data": {
            "text/plain": [
              "array([16.84472176, 33.74557494, 75.50062397, 26.7864001 , 60.58810646,\n",
              "       39.71058194, 20.8213931 ])"
            ]
          },
          "metadata": {},
          "execution_count": 33
        }
      ]
    },
    {
      "cell_type": "code",
      "source": [
        "y_test"
      ],
      "metadata": {
        "colab": {
          "base_uri": "https://localhost:8080/"
        },
        "id": "1EfON06KqEWv",
        "outputId": "31090915-172e-45a3-bc67-c52d0022b985"
      },
      "execution_count": null,
      "outputs": [
        {
          "output_type": "execute_result",
          "data": {
            "text/plain": [
              "5     20\n",
              "2     27\n",
              "19    69\n",
              "16    30\n",
              "11    62\n",
              "22    35\n",
              "17    24\n",
              "Name: Scores, dtype: int64"
            ]
          },
          "metadata": {},
          "execution_count": 34
        }
      ]
    },
    {
      "cell_type": "code",
      "source": [
        "df = pd.DataFrame({\n",
        "    'Actual':y_test,\n",
        "    'Predicted':y_pred\n",
        "})\n",
        "df"
      ],
      "metadata": {
        "colab": {
          "base_uri": "https://localhost:8080/",
          "height": 269
        },
        "id": "9GHlTi9aqL0e",
        "outputId": "1a07ab1c-6e15-40b4-aaee-7d6cf674296a"
      },
      "execution_count": null,
      "outputs": [
        {
          "output_type": "execute_result",
          "data": {
            "text/plain": [
              "    Actual  Predicted\n",
              "5       20  16.844722\n",
              "2       27  33.745575\n",
              "19      69  75.500624\n",
              "16      30  26.786400\n",
              "11      62  60.588106\n",
              "22      35  39.710582\n",
              "17      24  20.821393"
            ],
            "text/html": [
              "\n",
              "  <div id=\"df-ab6c5fe3-5ce7-4a06-b804-9775075f44d6\">\n",
              "    <div class=\"colab-df-container\">\n",
              "      <div>\n",
              "<style scoped>\n",
              "    .dataframe tbody tr th:only-of-type {\n",
              "        vertical-align: middle;\n",
              "    }\n",
              "\n",
              "    .dataframe tbody tr th {\n",
              "        vertical-align: top;\n",
              "    }\n",
              "\n",
              "    .dataframe thead th {\n",
              "        text-align: right;\n",
              "    }\n",
              "</style>\n",
              "<table border=\"1\" class=\"dataframe\">\n",
              "  <thead>\n",
              "    <tr style=\"text-align: right;\">\n",
              "      <th></th>\n",
              "      <th>Actual</th>\n",
              "      <th>Predicted</th>\n",
              "    </tr>\n",
              "  </thead>\n",
              "  <tbody>\n",
              "    <tr>\n",
              "      <th>5</th>\n",
              "      <td>20</td>\n",
              "      <td>16.844722</td>\n",
              "    </tr>\n",
              "    <tr>\n",
              "      <th>2</th>\n",
              "      <td>27</td>\n",
              "      <td>33.745575</td>\n",
              "    </tr>\n",
              "    <tr>\n",
              "      <th>19</th>\n",
              "      <td>69</td>\n",
              "      <td>75.500624</td>\n",
              "    </tr>\n",
              "    <tr>\n",
              "      <th>16</th>\n",
              "      <td>30</td>\n",
              "      <td>26.786400</td>\n",
              "    </tr>\n",
              "    <tr>\n",
              "      <th>11</th>\n",
              "      <td>62</td>\n",
              "      <td>60.588106</td>\n",
              "    </tr>\n",
              "    <tr>\n",
              "      <th>22</th>\n",
              "      <td>35</td>\n",
              "      <td>39.710582</td>\n",
              "    </tr>\n",
              "    <tr>\n",
              "      <th>17</th>\n",
              "      <td>24</td>\n",
              "      <td>20.821393</td>\n",
              "    </tr>\n",
              "  </tbody>\n",
              "</table>\n",
              "</div>\n",
              "      <button class=\"colab-df-convert\" onclick=\"convertToInteractive('df-ab6c5fe3-5ce7-4a06-b804-9775075f44d6')\"\n",
              "              title=\"Convert this dataframe to an interactive table.\"\n",
              "              style=\"display:none;\">\n",
              "        \n",
              "  <svg xmlns=\"http://www.w3.org/2000/svg\" height=\"24px\"viewBox=\"0 0 24 24\"\n",
              "       width=\"24px\">\n",
              "    <path d=\"M0 0h24v24H0V0z\" fill=\"none\"/>\n",
              "    <path d=\"M18.56 5.44l.94 2.06.94-2.06 2.06-.94-2.06-.94-.94-2.06-.94 2.06-2.06.94zm-11 1L8.5 8.5l.94-2.06 2.06-.94-2.06-.94L8.5 2.5l-.94 2.06-2.06.94zm10 10l.94 2.06.94-2.06 2.06-.94-2.06-.94-.94-2.06-.94 2.06-2.06.94z\"/><path d=\"M17.41 7.96l-1.37-1.37c-.4-.4-.92-.59-1.43-.59-.52 0-1.04.2-1.43.59L10.3 9.45l-7.72 7.72c-.78.78-.78 2.05 0 2.83L4 21.41c.39.39.9.59 1.41.59.51 0 1.02-.2 1.41-.59l7.78-7.78 2.81-2.81c.8-.78.8-2.07 0-2.86zM5.41 20L4 18.59l7.72-7.72 1.47 1.35L5.41 20z\"/>\n",
              "  </svg>\n",
              "      </button>\n",
              "      \n",
              "  <style>\n",
              "    .colab-df-container {\n",
              "      display:flex;\n",
              "      flex-wrap:wrap;\n",
              "      gap: 12px;\n",
              "    }\n",
              "\n",
              "    .colab-df-convert {\n",
              "      background-color: #E8F0FE;\n",
              "      border: none;\n",
              "      border-radius: 50%;\n",
              "      cursor: pointer;\n",
              "      display: none;\n",
              "      fill: #1967D2;\n",
              "      height: 32px;\n",
              "      padding: 0 0 0 0;\n",
              "      width: 32px;\n",
              "    }\n",
              "\n",
              "    .colab-df-convert:hover {\n",
              "      background-color: #E2EBFA;\n",
              "      box-shadow: 0px 1px 2px rgba(60, 64, 67, 0.3), 0px 1px 3px 1px rgba(60, 64, 67, 0.15);\n",
              "      fill: #174EA6;\n",
              "    }\n",
              "\n",
              "    [theme=dark] .colab-df-convert {\n",
              "      background-color: #3B4455;\n",
              "      fill: #D2E3FC;\n",
              "    }\n",
              "\n",
              "    [theme=dark] .colab-df-convert:hover {\n",
              "      background-color: #434B5C;\n",
              "      box-shadow: 0px 1px 3px 1px rgba(0, 0, 0, 0.15);\n",
              "      filter: drop-shadow(0px 1px 2px rgba(0, 0, 0, 0.3));\n",
              "      fill: #FFFFFF;\n",
              "    }\n",
              "  </style>\n",
              "\n",
              "      <script>\n",
              "        const buttonEl =\n",
              "          document.querySelector('#df-ab6c5fe3-5ce7-4a06-b804-9775075f44d6 button.colab-df-convert');\n",
              "        buttonEl.style.display =\n",
              "          google.colab.kernel.accessAllowed ? 'block' : 'none';\n",
              "\n",
              "        async function convertToInteractive(key) {\n",
              "          const element = document.querySelector('#df-ab6c5fe3-5ce7-4a06-b804-9775075f44d6');\n",
              "          const dataTable =\n",
              "            await google.colab.kernel.invokeFunction('convertToInteractive',\n",
              "                                                     [key], {});\n",
              "          if (!dataTable) return;\n",
              "\n",
              "          const docLinkHtml = 'Like what you see? Visit the ' +\n",
              "            '<a target=\"_blank\" href=https://colab.research.google.com/notebooks/data_table.ipynb>data table notebook</a>'\n",
              "            + ' to learn more about interactive tables.';\n",
              "          element.innerHTML = '';\n",
              "          dataTable['output_type'] = 'display_data';\n",
              "          await google.colab.output.renderOutput(dataTable, element);\n",
              "          const docLink = document.createElement('div');\n",
              "          docLink.innerHTML = docLinkHtml;\n",
              "          element.appendChild(docLink);\n",
              "        }\n",
              "      </script>\n",
              "    </div>\n",
              "  </div>\n",
              "  "
            ]
          },
          "metadata": {},
          "execution_count": 35
        }
      ]
    },
    {
      "cell_type": "code",
      "source": [
        "# Evaluate\n",
        "\n",
        "from sklearn import metrics\n",
        "print(\"Mean Absolute Error:\", metrics.mean_absolute_error(y_test, y_pred))\n",
        "print(\"Mean Squared Error:\", metrics.mean_squared_error(y_test, y_pred))\n",
        "print(\"Root Mean Squared Error:\", np.sqrt(metrics.mean_squared_error(y_test, y_pred)))"
      ],
      "metadata": {
        "colab": {
          "base_uri": "https://localhost:8080/"
        },
        "id": "PjYZcvM-qSQ1",
        "outputId": "86efdc27-05f7-4a44-dd2d-221c599eddc3"
      },
      "execution_count": null,
      "outputs": [
        {
          "output_type": "stream",
          "name": "stdout",
          "text": [
            "Mean Absolute Error: 4.130879918502482\n",
            "Mean Squared Error: 20.33292367497996\n",
            "Root Mean Squared Error: 4.509204328368805\n"
          ]
        }
      ]
    },
    {
      "cell_type": "code",
      "source": [
        "from sklearn.metrics import r2_score\n",
        "print(\"R2 Error:\", metrics.r2_score(y_test, y_pred))"
      ],
      "metadata": {
        "colab": {
          "base_uri": "https://localhost:8080/"
        },
        "id": "nxetrVgDriR8",
        "outputId": "2423e8da-8306-48ea-a97f-4c78ecb6f2a4"
      },
      "execution_count": null,
      "outputs": [
        {
          "output_type": "stream",
          "name": "stdout",
          "text": [
            "R2 Error: 0.9367661043365056\n"
          ]
        }
      ]
    },
    {
      "cell_type": "code",
      "source": [
        "type(float((metrics.r2_score(y_test, y_pred))))"
      ],
      "metadata": {
        "colab": {
          "base_uri": "https://localhost:8080/"
        },
        "id": "nihn2-YzrqJC",
        "outputId": "4369bcfc-206d-417a-96b1-7c42ca040d8a"
      },
      "execution_count": null,
      "outputs": [
        {
          "output_type": "execute_result",
          "data": {
            "text/plain": [
              "float"
            ]
          },
          "metadata": {},
          "execution_count": 39
        }
      ]
    },
    {
      "cell_type": "code",
      "source": [
        "r2 = (metrics.r2_score(y_test, y_pred))\n",
        "n = 5\n",
        "k = 1\n",
        "adj_r2 = 1 - (((1-r2)*(n-1))/(n-k-1))\n",
        "print(\"Adjusted R2 Error:\", adj_r2)"
      ],
      "metadata": {
        "colab": {
          "base_uri": "https://localhost:8080/"
        },
        "id": "K6Jq4i85rxrW",
        "outputId": "4e2fc9de-56ea-4458-a691-fd42881c5073"
      },
      "execution_count": null,
      "outputs": [
        {
          "output_type": "stream",
          "name": "stdout",
          "text": [
            "Adjusted R2 Error: 0.9156881391153409\n"
          ]
        }
      ]
    },
    {
      "cell_type": "markdown",
      "source": [
        "Multiple Linear Regression:\n",
        "\n",
        "Predict the gas consumption (in million of gallons) in 48 US states based upon the gas taxes, per capita income, paved highways (in miles), and the proportion of population that has driving license."
      ],
      "metadata": {
        "id": "u4jOTO1jr9ee"
      }
    },
    {
      "cell_type": "code",
      "source": [
        "dataset = pd.read_csv(\"/content/drive/MyDrive/ML data/petrol_consumption.csv\")"
      ],
      "metadata": {
        "id": "x-Txq1obr3US"
      },
      "execution_count": null,
      "outputs": []
    },
    {
      "cell_type": "code",
      "source": [
        "dataset.head()"
      ],
      "metadata": {
        "colab": {
          "base_uri": "https://localhost:8080/",
          "height": 206
        },
        "id": "wpXmQGFVsanc",
        "outputId": "26e5ab4c-d406-459a-c951-1cc5fc70306f"
      },
      "execution_count": null,
      "outputs": [
        {
          "output_type": "execute_result",
          "data": {
            "text/plain": [
              "   Petrol_tax  Average_income  Paved_Highways  Population_Driver_licence(%)  \\\n",
              "0         9.0            3571            1976                         0.525   \n",
              "1         9.0            4092            1250                         0.572   \n",
              "2         9.0            3865            1586                         0.580   \n",
              "3         7.5            4870            2351                         0.529   \n",
              "4         8.0            4399             431                         0.544   \n",
              "\n",
              "   Petrol_Consumption  \n",
              "0                 541  \n",
              "1                 524  \n",
              "2                 561  \n",
              "3                 414  \n",
              "4                 410  "
            ],
            "text/html": [
              "\n",
              "  <div id=\"df-396c837a-8773-4235-ba9b-69d80360b4da\">\n",
              "    <div class=\"colab-df-container\">\n",
              "      <div>\n",
              "<style scoped>\n",
              "    .dataframe tbody tr th:only-of-type {\n",
              "        vertical-align: middle;\n",
              "    }\n",
              "\n",
              "    .dataframe tbody tr th {\n",
              "        vertical-align: top;\n",
              "    }\n",
              "\n",
              "    .dataframe thead th {\n",
              "        text-align: right;\n",
              "    }\n",
              "</style>\n",
              "<table border=\"1\" class=\"dataframe\">\n",
              "  <thead>\n",
              "    <tr style=\"text-align: right;\">\n",
              "      <th></th>\n",
              "      <th>Petrol_tax</th>\n",
              "      <th>Average_income</th>\n",
              "      <th>Paved_Highways</th>\n",
              "      <th>Population_Driver_licence(%)</th>\n",
              "      <th>Petrol_Consumption</th>\n",
              "    </tr>\n",
              "  </thead>\n",
              "  <tbody>\n",
              "    <tr>\n",
              "      <th>0</th>\n",
              "      <td>9.0</td>\n",
              "      <td>3571</td>\n",
              "      <td>1976</td>\n",
              "      <td>0.525</td>\n",
              "      <td>541</td>\n",
              "    </tr>\n",
              "    <tr>\n",
              "      <th>1</th>\n",
              "      <td>9.0</td>\n",
              "      <td>4092</td>\n",
              "      <td>1250</td>\n",
              "      <td>0.572</td>\n",
              "      <td>524</td>\n",
              "    </tr>\n",
              "    <tr>\n",
              "      <th>2</th>\n",
              "      <td>9.0</td>\n",
              "      <td>3865</td>\n",
              "      <td>1586</td>\n",
              "      <td>0.580</td>\n",
              "      <td>561</td>\n",
              "    </tr>\n",
              "    <tr>\n",
              "      <th>3</th>\n",
              "      <td>7.5</td>\n",
              "      <td>4870</td>\n",
              "      <td>2351</td>\n",
              "      <td>0.529</td>\n",
              "      <td>414</td>\n",
              "    </tr>\n",
              "    <tr>\n",
              "      <th>4</th>\n",
              "      <td>8.0</td>\n",
              "      <td>4399</td>\n",
              "      <td>431</td>\n",
              "      <td>0.544</td>\n",
              "      <td>410</td>\n",
              "    </tr>\n",
              "  </tbody>\n",
              "</table>\n",
              "</div>\n",
              "      <button class=\"colab-df-convert\" onclick=\"convertToInteractive('df-396c837a-8773-4235-ba9b-69d80360b4da')\"\n",
              "              title=\"Convert this dataframe to an interactive table.\"\n",
              "              style=\"display:none;\">\n",
              "        \n",
              "  <svg xmlns=\"http://www.w3.org/2000/svg\" height=\"24px\"viewBox=\"0 0 24 24\"\n",
              "       width=\"24px\">\n",
              "    <path d=\"M0 0h24v24H0V0z\" fill=\"none\"/>\n",
              "    <path d=\"M18.56 5.44l.94 2.06.94-2.06 2.06-.94-2.06-.94-.94-2.06-.94 2.06-2.06.94zm-11 1L8.5 8.5l.94-2.06 2.06-.94-2.06-.94L8.5 2.5l-.94 2.06-2.06.94zm10 10l.94 2.06.94-2.06 2.06-.94-2.06-.94-.94-2.06-.94 2.06-2.06.94z\"/><path d=\"M17.41 7.96l-1.37-1.37c-.4-.4-.92-.59-1.43-.59-.52 0-1.04.2-1.43.59L10.3 9.45l-7.72 7.72c-.78.78-.78 2.05 0 2.83L4 21.41c.39.39.9.59 1.41.59.51 0 1.02-.2 1.41-.59l7.78-7.78 2.81-2.81c.8-.78.8-2.07 0-2.86zM5.41 20L4 18.59l7.72-7.72 1.47 1.35L5.41 20z\"/>\n",
              "  </svg>\n",
              "      </button>\n",
              "      \n",
              "  <style>\n",
              "    .colab-df-container {\n",
              "      display:flex;\n",
              "      flex-wrap:wrap;\n",
              "      gap: 12px;\n",
              "    }\n",
              "\n",
              "    .colab-df-convert {\n",
              "      background-color: #E8F0FE;\n",
              "      border: none;\n",
              "      border-radius: 50%;\n",
              "      cursor: pointer;\n",
              "      display: none;\n",
              "      fill: #1967D2;\n",
              "      height: 32px;\n",
              "      padding: 0 0 0 0;\n",
              "      width: 32px;\n",
              "    }\n",
              "\n",
              "    .colab-df-convert:hover {\n",
              "      background-color: #E2EBFA;\n",
              "      box-shadow: 0px 1px 2px rgba(60, 64, 67, 0.3), 0px 1px 3px 1px rgba(60, 64, 67, 0.15);\n",
              "      fill: #174EA6;\n",
              "    }\n",
              "\n",
              "    [theme=dark] .colab-df-convert {\n",
              "      background-color: #3B4455;\n",
              "      fill: #D2E3FC;\n",
              "    }\n",
              "\n",
              "    [theme=dark] .colab-df-convert:hover {\n",
              "      background-color: #434B5C;\n",
              "      box-shadow: 0px 1px 3px 1px rgba(0, 0, 0, 0.15);\n",
              "      filter: drop-shadow(0px 1px 2px rgba(0, 0, 0, 0.3));\n",
              "      fill: #FFFFFF;\n",
              "    }\n",
              "  </style>\n",
              "\n",
              "      <script>\n",
              "        const buttonEl =\n",
              "          document.querySelector('#df-396c837a-8773-4235-ba9b-69d80360b4da button.colab-df-convert');\n",
              "        buttonEl.style.display =\n",
              "          google.colab.kernel.accessAllowed ? 'block' : 'none';\n",
              "\n",
              "        async function convertToInteractive(key) {\n",
              "          const element = document.querySelector('#df-396c837a-8773-4235-ba9b-69d80360b4da');\n",
              "          const dataTable =\n",
              "            await google.colab.kernel.invokeFunction('convertToInteractive',\n",
              "                                                     [key], {});\n",
              "          if (!dataTable) return;\n",
              "\n",
              "          const docLinkHtml = 'Like what you see? Visit the ' +\n",
              "            '<a target=\"_blank\" href=https://colab.research.google.com/notebooks/data_table.ipynb>data table notebook</a>'\n",
              "            + ' to learn more about interactive tables.';\n",
              "          element.innerHTML = '';\n",
              "          dataTable['output_type'] = 'display_data';\n",
              "          await google.colab.output.renderOutput(dataTable, element);\n",
              "          const docLink = document.createElement('div');\n",
              "          docLink.innerHTML = docLinkHtml;\n",
              "          element.appendChild(docLink);\n",
              "        }\n",
              "      </script>\n",
              "    </div>\n",
              "  </div>\n",
              "  "
            ]
          },
          "metadata": {},
          "execution_count": 42
        }
      ]
    },
    {
      "cell_type": "code",
      "source": [
        "plt.scatter('Petrol_tax','Petrol_Consumption', data=dataset);"
      ],
      "metadata": {
        "colab": {
          "base_uri": "https://localhost:8080/",
          "height": 430
        },
        "id": "9nN82oHEsfvr",
        "outputId": "702af2d3-27c4-431a-8f19-c9ef906be415"
      },
      "execution_count": null,
      "outputs": [
        {
          "output_type": "display_data",
          "data": {
            "text/plain": [
              "<Figure size 640x480 with 1 Axes>"
            ],
            "image/png": "[encoded data removed]"
          },
          "metadata": {}
        }
      ]
    },
    {
      "cell_type": "code",
      "source": [
        "plt.scatter('Population_Driver_licence(%)','Petrol_Consumption', data=dataset);"
      ],
      "metadata": {
        "colab": {
          "base_uri": "https://localhost:8080/",
          "height": 430
        },
        "id": "v1dacHuZsr5e",
        "outputId": "9c667ebd-84b4-4758-8712-466d0fb052ca"
      },
      "execution_count": null,
      "outputs": [
        {
          "output_type": "display_data",
          "data": {
            "text/plain": [
              "<Figure size 640x480 with 1 Axes>"
            ],
            "image/png": "[encoded data removed]"
          },
          "metadata": {}
        }
      ]
    },
    {
      "cell_type": "code",
      "source": [
        "plt.scatter('Average_income','Petrol_Consumption', data=dataset);"
      ],
      "metadata": {
        "colab": {
          "base_uri": "https://localhost:8080/",
          "height": 430
        },
        "id": "1ZjCq7Jhs2Fo",
        "outputId": "844fe6e8-29db-45e8-82c7-428085fde114"
      },
      "execution_count": null,
      "outputs": [
        {
          "output_type": "display_data",
          "data": {
            "text/plain": [
              "<Figure size 640x480 with 1 Axes>"
            ],
            "image/png": "[encoded data removed]"
          },
          "metadata": {}
        }
      ]
    },
    {
      "cell_type": "code",
      "source": [
        "plt.scatter('Paved_Highways','Petrol_Consumption', data=dataset);"
      ],
      "metadata": {
        "colab": {
          "base_uri": "https://localhost:8080/",
          "height": 430
        },
        "id": "mrZgzikgtAaM",
        "outputId": "3aa71086-2caa-4e41-be6f-902be82406d8"
      },
      "execution_count": null,
      "outputs": [
        {
          "output_type": "display_data",
          "data": {
            "text/plain": [
              "<Figure size 640x480 with 1 Axes>"
            ],
            "image/png": "[encoded data removed]"
          },
          "metadata": {}
        }
      ]
    },
    {
      "cell_type": "code",
      "source": [
        "dataset.shape"
      ],
      "metadata": {
        "id": "RvfG_p3WtI9_",
        "colab": {
          "base_uri": "https://localhost:8080/"
        },
        "outputId": "4b09a379-21fb-4772-c8a8-9a0b14f418fc"
      },
      "execution_count": null,
      "outputs": [
        {
          "output_type": "execute_result",
          "data": {
            "text/plain": [
              "(48, 5)"
            ]
          },
          "metadata": {},
          "execution_count": 27
        }
      ]
    },
    {
      "cell_type": "code",
      "source": [
        "dataset.size"
      ],
      "metadata": {
        "id": "ravh5xF4tVZC",
        "colab": {
          "base_uri": "https://localhost:8080/"
        },
        "outputId": "3168a3ba-7eca-47ab-e758-863c6d0854af"
      },
      "execution_count": null,
      "outputs": [
        {
          "output_type": "execute_result",
          "data": {
            "text/plain": [
              "240"
            ]
          },
          "metadata": {},
          "execution_count": 28
        }
      ]
    },
    {
      "cell_type": "code",
      "source": [
        "dataset.describe()"
      ],
      "metadata": {
        "id": "RpnhPhx0tYbE",
        "colab": {
          "base_uri": "https://localhost:8080/",
          "height": 300
        },
        "outputId": "598f8db1-e980-4091-f9e1-0704472b4dd8"
      },
      "execution_count": null,
      "outputs": [
        {
          "output_type": "execute_result",
          "data": {
            "text/plain": [
              "       Petrol_tax  Average_income  Paved_Highways  \\\n",
              "count   48.000000       48.000000       48.000000   \n",
              "mean     7.668333     4241.833333     5565.416667   \n",
              "std      0.950770      573.623768     3491.507166   \n",
              "min      5.000000     3063.000000      431.000000   \n",
              "25%      7.000000     3739.000000     3110.250000   \n",
              "50%      7.500000     4298.000000     4735.500000   \n",
              "75%      8.125000     4578.750000     7156.000000   \n",
              "max     10.000000     5342.000000    17782.000000   \n",
              "\n",
              "       Population_Driver_licence(%)  Petrol_Consumption  \n",
              "count                     48.000000           48.000000  \n",
              "mean                       0.570333          576.770833  \n",
              "std                        0.055470          111.885816  \n",
              "min                        0.451000          344.000000  \n",
              "25%                        0.529750          509.500000  \n",
              "50%                        0.564500          568.500000  \n",
              "75%                        0.595250          632.750000  \n",
              "max                        0.724000          968.000000  "
            ],
            "text/html": [
              "\n",
              "  <div id=\"df-b69a035b-307b-4f42-96e6-8edecb1702f4\">\n",
              "    <div class=\"colab-df-container\">\n",
              "      <div>\n",
              "<style scoped>\n",
              "    .dataframe tbody tr th:only-of-type {\n",
              "        vertical-align: middle;\n",
              "    }\n",
              "\n",
              "    .dataframe tbody tr th {\n",
              "        vertical-align: top;\n",
              "    }\n",
              "\n",
              "    .dataframe thead th {\n",
              "        text-align: right;\n",
              "    }\n",
              "</style>\n",
              "<table border=\"1\" class=\"dataframe\">\n",
              "  <thead>\n",
              "    <tr style=\"text-align: right;\">\n",
              "      <th></th>\n",
              "      <th>Petrol_tax</th>\n",
              "      <th>Average_income</th>\n",
              "      <th>Paved_Highways</th>\n",
              "      <th>Population_Driver_licence(%)</th>\n",
              "      <th>Petrol_Consumption</th>\n",
              "    </tr>\n",
              "  </thead>\n",
              "  <tbody>\n",
              "    <tr>\n",
              "      <th>count</th>\n",
              "      <td>48.000000</td>\n",
              "      <td>48.000000</td>\n",
              "      <td>48.000000</td>\n",
              "      <td>48.000000</td>\n",
              "      <td>48.000000</td>\n",
              "    </tr>\n",
              "    <tr>\n",
              "      <th>mean</th>\n",
              "      <td>7.668333</td>\n",
              "      <td>4241.833333</td>\n",
              "      <td>5565.416667</td>\n",
              "      <td>0.570333</td>\n",
              "      <td>576.770833</td>\n",
              "    </tr>\n",
              "    <tr>\n",
              "      <th>std</th>\n",
              "      <td>0.950770</td>\n",
              "      <td>573.623768</td>\n",
              "      <td>3491.507166</td>\n",
              "      <td>0.055470</td>\n",
              "      <td>111.885816</td>\n",
              "    </tr>\n",
              "    <tr>\n",
              "      <th>min</th>\n",
              "      <td>5.000000</td>\n",
              "      <td>3063.000000</td>\n",
              "      <td>431.000000</td>\n",
              "      <td>0.451000</td>\n",
              "      <td>344.000000</td>\n",
              "    </tr>\n",
              "    <tr>\n",
              "      <th>25%</th>\n",
              "      <td>7.000000</td>\n",
              "      <td>3739.000000</td>\n",
              "      <td>3110.250000</td>\n",
              "      <td>0.529750</td>\n",
              "      <td>509.500000</td>\n",
              "    </tr>\n",
              "    <tr>\n",
              "      <th>50%</th>\n",
              "      <td>7.500000</td>\n",
              "      <td>4298.000000</td>\n",
              "      <td>4735.500000</td>\n",
              "      <td>0.564500</td>\n",
              "      <td>568.500000</td>\n",
              "    </tr>\n",
              "    <tr>\n",
              "      <th>75%</th>\n",
              "      <td>8.125000</td>\n",
              "      <td>4578.750000</td>\n",
              "      <td>7156.000000</td>\n",
              "      <td>0.595250</td>\n",
              "      <td>632.750000</td>\n",
              "    </tr>\n",
              "    <tr>\n",
              "      <th>max</th>\n",
              "      <td>10.000000</td>\n",
              "      <td>5342.000000</td>\n",
              "      <td>17782.000000</td>\n",
              "      <td>0.724000</td>\n",
              "      <td>968.000000</td>\n",
              "    </tr>\n",
              "  </tbody>\n",
              "</table>\n",
              "</div>\n",
              "      <button class=\"colab-df-convert\" onclick=\"convertToInteractive('df-b69a035b-307b-4f42-96e6-8edecb1702f4')\"\n",
              "              title=\"Convert this dataframe to an interactive table.\"\n",
              "              style=\"display:none;\">\n",
              "        \n",
              "  <svg xmlns=\"http://www.w3.org/2000/svg\" height=\"24px\"viewBox=\"0 0 24 24\"\n",
              "       width=\"24px\">\n",
              "    <path d=\"M0 0h24v24H0V0z\" fill=\"none\"/>\n",
              "    <path d=\"M18.56 5.44l.94 2.06.94-2.06 2.06-.94-2.06-.94-.94-2.06-.94 2.06-2.06.94zm-11 1L8.5 8.5l.94-2.06 2.06-.94-2.06-.94L8.5 2.5l-.94 2.06-2.06.94zm10 10l.94 2.06.94-2.06 2.06-.94-2.06-.94-.94-2.06-.94 2.06-2.06.94z\"/><path d=\"M17.41 7.96l-1.37-1.37c-.4-.4-.92-.59-1.43-.59-.52 0-1.04.2-1.43.59L10.3 9.45l-7.72 7.72c-.78.78-.78 2.05 0 2.83L4 21.41c.39.39.9.59 1.41.59.51 0 1.02-.2 1.41-.59l7.78-7.78 2.81-2.81c.8-.78.8-2.07 0-2.86zM5.41 20L4 18.59l7.72-7.72 1.47 1.35L5.41 20z\"/>\n",
              "  </svg>\n",
              "      </button>\n",
              "      \n",
              "  <style>\n",
              "    .colab-df-container {\n",
              "      display:flex;\n",
              "      flex-wrap:wrap;\n",
              "      gap: 12px;\n",
              "    }\n",
              "\n",
              "    .colab-df-convert {\n",
              "      background-color: #E8F0FE;\n",
              "      border: none;\n",
              "      border-radius: 50%;\n",
              "      cursor: pointer;\n",
              "      display: none;\n",
              "      fill: #1967D2;\n",
              "      height: 32px;\n",
              "      padding: 0 0 0 0;\n",
              "      width: 32px;\n",
              "    }\n",
              "\n",
              "    .colab-df-convert:hover {\n",
              "      background-color: #E2EBFA;\n",
              "      box-shadow: 0px 1px 2px rgba(60, 64, 67, 0.3), 0px 1px 3px 1px rgba(60, 64, 67, 0.15);\n",
              "      fill: #174EA6;\n",
              "    }\n",
              "\n",
              "    [theme=dark] .colab-df-convert {\n",
              "      background-color: #3B4455;\n",
              "      fill: #D2E3FC;\n",
              "    }\n",
              "\n",
              "    [theme=dark] .colab-df-convert:hover {\n",
              "      background-color: #434B5C;\n",
              "      box-shadow: 0px 1px 3px 1px rgba(0, 0, 0, 0.15);\n",
              "      filter: drop-shadow(0px 1px 2px rgba(0, 0, 0, 0.3));\n",
              "      fill: #FFFFFF;\n",
              "    }\n",
              "  </style>\n",
              "\n",
              "      <script>\n",
              "        const buttonEl =\n",
              "          document.querySelector('#df-b69a035b-307b-4f42-96e6-8edecb1702f4 button.colab-df-convert');\n",
              "        buttonEl.style.display =\n",
              "          google.colab.kernel.accessAllowed ? 'block' : 'none';\n",
              "\n",
              "        async function convertToInteractive(key) {\n",
              "          const element = document.querySelector('#df-b69a035b-307b-4f42-96e6-8edecb1702f4');\n",
              "          const dataTable =\n",
              "            await google.colab.kernel.invokeFunction('convertToInteractive',\n",
              "                                                     [key], {});\n",
              "          if (!dataTable) return;\n",
              "\n",
              "          const docLinkHtml = 'Like what you see? Visit the ' +\n",
              "            '<a target=\"_blank\" href=https://colab.research.google.com/notebooks/data_table.ipynb>data table notebook</a>'\n",
              "            + ' to learn more about interactive tables.';\n",
              "          element.innerHTML = '';\n",
              "          dataTable['output_type'] = 'display_data';\n",
              "          await google.colab.output.renderOutput(dataTable, element);\n",
              "          const docLink = document.createElement('div');\n",
              "          docLink.innerHTML = docLinkHtml;\n",
              "          element.appendChild(docLink);\n",
              "        }\n",
              "      </script>\n",
              "    </div>\n",
              "  </div>\n",
              "  "
            ]
          },
          "metadata": {},
          "execution_count": 29
        }
      ]
    },
    {
      "cell_type": "code",
      "source": [
        "X = dataset.drop(['Petrol_tax','Petrol_Consumption','Average_income','Paved_Highways'], axis=1)\n",
        "# X = dataset.drop(['Petrol_Consumption','Average_income','Paved_Highways'], axis=1)\n",
        "X.head()"
      ],
      "metadata": {
        "id": "aiIsq3V6tfrr",
        "colab": {
          "base_uri": "https://localhost:8080/",
          "height": 206
        },
        "outputId": "990c75b6-0dc9-4b35-c05c-8045d207788c"
      },
      "execution_count": null,
      "outputs": [
        {
          "output_type": "execute_result",
          "data": {
            "text/plain": [
              "   Population_Driver_licence(%)\n",
              "0                         0.525\n",
              "1                         0.572\n",
              "2                         0.580\n",
              "3                         0.529\n",
              "4                         0.544"
            ],
            "text/html": [
              "\n",
              "  <div id=\"df-5e867293-a1da-42ec-9617-70ec552578ec\">\n",
              "    <div class=\"colab-df-container\">\n",
              "      <div>\n",
              "<style scoped>\n",
              "    .dataframe tbody tr th:only-of-type {\n",
              "        vertical-align: middle;\n",
              "    }\n",
              "\n",
              "    .dataframe tbody tr th {\n",
              "        vertical-align: top;\n",
              "    }\n",
              "\n",
              "    .dataframe thead th {\n",
              "        text-align: right;\n",
              "    }\n",
              "</style>\n",
              "<table border=\"1\" class=\"dataframe\">\n",
              "  <thead>\n",
              "    <tr style=\"text-align: right;\">\n",
              "      <th></th>\n",
              "      <th>Population_Driver_licence(%)</th>\n",
              "    </tr>\n",
              "  </thead>\n",
              "  <tbody>\n",
              "    <tr>\n",
              "      <th>0</th>\n",
              "      <td>0.525</td>\n",
              "    </tr>\n",
              "    <tr>\n",
              "      <th>1</th>\n",
              "      <td>0.572</td>\n",
              "    </tr>\n",
              "    <tr>\n",
              "      <th>2</th>\n",
              "      <td>0.580</td>\n",
              "    </tr>\n",
              "    <tr>\n",
              "      <th>3</th>\n",
              "      <td>0.529</td>\n",
              "    </tr>\n",
              "    <tr>\n",
              "      <th>4</th>\n",
              "      <td>0.544</td>\n",
              "    </tr>\n",
              "  </tbody>\n",
              "</table>\n",
              "</div>\n",
              "      <button class=\"colab-df-convert\" onclick=\"convertToInteractive('df-5e867293-a1da-42ec-9617-70ec552578ec')\"\n",
              "              title=\"Convert this dataframe to an interactive table.\"\n",
              "              style=\"display:none;\">\n",
              "        \n",
              "  <svg xmlns=\"http://www.w3.org/2000/svg\" height=\"24px\"viewBox=\"0 0 24 24\"\n",
              "       width=\"24px\">\n",
              "    <path d=\"M0 0h24v24H0V0z\" fill=\"none\"/>\n",
              "    <path d=\"M18.56 5.44l.94 2.06.94-2.06 2.06-.94-2.06-.94-.94-2.06-.94 2.06-2.06.94zm-11 1L8.5 8.5l.94-2.06 2.06-.94-2.06-.94L8.5 2.5l-.94 2.06-2.06.94zm10 10l.94 2.06.94-2.06 2.06-.94-2.06-.94-.94-2.06-.94 2.06-2.06.94z\"/><path d=\"M17.41 7.96l-1.37-1.37c-.4-.4-.92-.59-1.43-.59-.52 0-1.04.2-1.43.59L10.3 9.45l-7.72 7.72c-.78.78-.78 2.05 0 2.83L4 21.41c.39.39.9.59 1.41.59.51 0 1.02-.2 1.41-.59l7.78-7.78 2.81-2.81c.8-.78.8-2.07 0-2.86zM5.41 20L4 18.59l7.72-7.72 1.47 1.35L5.41 20z\"/>\n",
              "  </svg>\n",
              "      </button>\n",
              "      \n",
              "  <style>\n",
              "    .colab-df-container {\n",
              "      display:flex;\n",
              "      flex-wrap:wrap;\n",
              "      gap: 12px;\n",
              "    }\n",
              "\n",
              "    .colab-df-convert {\n",
              "      background-color: #E8F0FE;\n",
              "      border: none;\n",
              "      border-radius: 50%;\n",
              "      cursor: pointer;\n",
              "      display: none;\n",
              "      fill: #1967D2;\n",
              "      height: 32px;\n",
              "      padding: 0 0 0 0;\n",
              "      width: 32px;\n",
              "    }\n",
              "\n",
              "    .colab-df-convert:hover {\n",
              "      background-color: #E2EBFA;\n",
              "      box-shadow: 0px 1px 2px rgba(60, 64, 67, 0.3), 0px 1px 3px 1px rgba(60, 64, 67, 0.15);\n",
              "      fill: #174EA6;\n",
              "    }\n",
              "\n",
              "    [theme=dark] .colab-df-convert {\n",
              "      background-color: #3B4455;\n",
              "      fill: #D2E3FC;\n",
              "    }\n",
              "\n",
              "    [theme=dark] .colab-df-convert:hover {\n",
              "      background-color: #434B5C;\n",
              "      box-shadow: 0px 1px 3px 1px rgba(0, 0, 0, 0.15);\n",
              "      filter: drop-shadow(0px 1px 2px rgba(0, 0, 0, 0.3));\n",
              "      fill: #FFFFFF;\n",
              "    }\n",
              "  </style>\n",
              "\n",
              "      <script>\n",
              "        const buttonEl =\n",
              "          document.querySelector('#df-5e867293-a1da-42ec-9617-70ec552578ec button.colab-df-convert');\n",
              "        buttonEl.style.display =\n",
              "          google.colab.kernel.accessAllowed ? 'block' : 'none';\n",
              "\n",
              "        async function convertToInteractive(key) {\n",
              "          const element = document.querySelector('#df-5e867293-a1da-42ec-9617-70ec552578ec');\n",
              "          const dataTable =\n",
              "            await google.colab.kernel.invokeFunction('convertToInteractive',\n",
              "                                                     [key], {});\n",
              "          if (!dataTable) return;\n",
              "\n",
              "          const docLinkHtml = 'Like what you see? Visit the ' +\n",
              "            '<a target=\"_blank\" href=https://colab.research.google.com/notebooks/data_table.ipynb>data table notebook</a>'\n",
              "            + ' to learn more about interactive tables.';\n",
              "          element.innerHTML = '';\n",
              "          dataTable['output_type'] = 'display_data';\n",
              "          await google.colab.output.renderOutput(dataTable, element);\n",
              "          const docLink = document.createElement('div');\n",
              "          docLink.innerHTML = docLinkHtml;\n",
              "          element.appendChild(docLink);\n",
              "        }\n",
              "      </script>\n",
              "    </div>\n",
              "  </div>\n",
              "  "
            ]
          },
          "metadata": {},
          "execution_count": 30
        }
      ]
    },
    {
      "cell_type": "code",
      "source": [
        "y = dataset['Petrol_Consumption']\n",
        "y.head()"
      ],
      "metadata": {
        "id": "_8Ue5eawtk-o"
      },
      "execution_count": null,
      "outputs": []
    },
    {
      "cell_type": "code",
      "source": [
        "X.shape"
      ],
      "metadata": {
        "colab": {
          "base_uri": "https://localhost:8080/"
        },
        "id": "PHVM0Emxtq_R",
        "outputId": "de1bf492-c95d-453b-eb3d-8a02724ae046"
      },
      "execution_count": null,
      "outputs": [
        {
          "output_type": "execute_result",
          "data": {
            "text/plain": [
              "(48, 1)"
            ]
          },
          "metadata": {},
          "execution_count": 32
        }
      ]
    },
    {
      "cell_type": "code",
      "source": [
        "y.shape"
      ],
      "metadata": {
        "colab": {
          "base_uri": "https://localhost:8080/"
        },
        "id": "o9zEMVmDtx_G",
        "outputId": "9f11999d-aad8-4caf-cd92-fead00d478a3"
      },
      "execution_count": null,
      "outputs": [
        {
          "output_type": "execute_result",
          "data": {
            "text/plain": [
              "(48,)"
            ]
          },
          "metadata": {},
          "execution_count": 33
        }
      ]
    },
    {
      "cell_type": "code",
      "source": [
        "# TTS\n",
        "\n",
        "from sklearn.model_selection import train_test_split\n",
        "X_train, X_test, y_train, y_test = train_test_split(X, y, test_size=0.2, random_state=0)"
      ],
      "metadata": {
        "id": "r8BRJt73t0zJ"
      },
      "execution_count": null,
      "outputs": []
    },
    {
      "cell_type": "code",
      "source": [
        "X_train.shape"
      ],
      "metadata": {
        "colab": {
          "base_uri": "https://localhost:8080/"
        },
        "id": "kyNUEEH1t6tT",
        "outputId": "f1534b02-7793-46a0-aa8c-a24276709eda"
      },
      "execution_count": null,
      "outputs": [
        {
          "output_type": "execute_result",
          "data": {
            "text/plain": [
              "(38, 1)"
            ]
          },
          "metadata": {},
          "execution_count": 35
        }
      ]
    },
    {
      "cell_type": "code",
      "source": [
        "X_test.shape"
      ],
      "metadata": {
        "colab": {
          "base_uri": "https://localhost:8080/"
        },
        "id": "sjXhz6qSt_H-",
        "outputId": "a0ecb2d4-185b-495b-daa9-d297c1049cea"
      },
      "execution_count": null,
      "outputs": [
        {
          "output_type": "execute_result",
          "data": {
            "text/plain": [
              "(10, 1)"
            ]
          },
          "metadata": {},
          "execution_count": 36
        }
      ]
    },
    {
      "cell_type": "code",
      "source": [
        "# Train the algorithm\n",
        "\n",
        "from sklearn.linear_model import LinearRegression\n",
        "regressor = LinearRegression()\n",
        "regressor.fit(X_train, y_train)"
      ],
      "metadata": {
        "colab": {
          "base_uri": "https://localhost:8080/",
          "height": 74
        },
        "id": "90a-bQ9zuB5T",
        "outputId": "9c8ad5d2-d6be-4dcd-b73d-dc40e2cf5b9e"
      },
      "execution_count": null,
      "outputs": [
        {
          "output_type": "execute_result",
          "data": {
            "text/plain": [
              "LinearRegression()"
            ],
            "text/html": [
              "<style>#sk-container-id-1 {color: black;background-color: white;}#sk-container-id-1 pre{padding: 0;}#sk-container-id-1 div.sk-toggleable {background-color: white;}#sk-container-id-1 label.sk-toggleable__label {cursor: pointer;display: block;width: 100%;margin-bottom: 0;padding: 0.3em;box-sizing: border-box;text-align: center;}#sk-container-id-1 label.sk-toggleable__label-arrow:before {content: \"▸\";float: left;margin-right: 0.25em;color: #696969;}#sk-container-id-1 label.sk-toggleable__label-arrow:hover:before {color: black;}#sk-container-id-1 div.sk-estimator:hover label.sk-toggleable__label-arrow:before {color: black;}#sk-container-id-1 div.sk-toggleable__content {max-height: 0;max-width: 0;overflow: hidden;text-align: left;background-color: #f0f8ff;}#sk-container-id-1 div.sk-toggleable__content pre {margin: 0.2em;color: black;border-radius: 0.25em;background-color: #f0f8ff;}#sk-container-id-1 input.sk-toggleable__control:checked~div.sk-toggleable__content {max-height: 200px;max-width: 100%;overflow: auto;}#sk-container-id-1 input.sk-toggleable__control:checked~label.sk-toggleable__label-arrow:before {content: \"▾\";}#sk-container-id-1 div.sk-estimator input.sk-toggleable__control:checked~label.sk-toggleable__label {background-color: #d4ebff;}#sk-container-id-1 div.sk-label input.sk-toggleable__control:checked~label.sk-toggleable__label {background-color: #d4ebff;}#sk-container-id-1 input.sk-hidden--visually {border: 0;clip: rect(1px 1px 1px 1px);clip: rect(1px, 1px, 1px, 1px);height: 1px;margin: -1px;overflow: hidden;padding: 0;position: absolute;width: 1px;}#sk-container-id-1 div.sk-estimator {font-family: monospace;background-color: #f0f8ff;border: 1px dotted black;border-radius: 0.25em;box-sizing: border-box;margin-bottom: 0.5em;}#sk-container-id-1 div.sk-estimator:hover {background-color: #d4ebff;}#sk-container-id-1 div.sk-parallel-item::after {content: \"\";width: 100%;border-bottom: 1px solid gray;flex-grow: 1;}#sk-container-id-1 div.sk-label:hover label.sk-toggleable__label {background-color: #d4ebff;}#sk-container-id-1 div.sk-serial::before {content: \"\";position: absolute;border-left: 1px solid gray;box-sizing: border-box;top: 0;bottom: 0;left: 50%;z-index: 0;}#sk-container-id-1 div.sk-serial {display: flex;flex-direction: column;align-items: center;background-color: white;padding-right: 0.2em;padding-left: 0.2em;position: relative;}#sk-container-id-1 div.sk-item {position: relative;z-index: 1;}#sk-container-id-1 div.sk-parallel {display: flex;align-items: stretch;justify-content: center;background-color: white;position: relative;}#sk-container-id-1 div.sk-item::before, #sk-container-id-1 div.sk-parallel-item::before {content: \"\";position: absolute;border-left: 1px solid gray;box-sizing: border-box;top: 0;bottom: 0;left: 50%;z-index: -1;}#sk-container-id-1 div.sk-parallel-item {display: flex;flex-direction: column;z-index: 1;position: relative;background-color: white;}#sk-container-id-1 div.sk-parallel-item:first-child::after {align-self: flex-end;width: 50%;}#sk-container-id-1 div.sk-parallel-item:last-child::after {align-self: flex-start;width: 50%;}#sk-container-id-1 div.sk-parallel-item:only-child::after {width: 0;}#sk-container-id-1 div.sk-dashed-wrapped {border: 1px dashed gray;margin: 0 0.4em 0.5em 0.4em;box-sizing: border-box;padding-bottom: 0.4em;background-color: white;}#sk-container-id-1 div.sk-label label {font-family: monospace;font-weight: bold;display: inline-block;line-height: 1.2em;}#sk-container-id-1 div.sk-label-container {text-align: center;}#sk-container-id-1 div.sk-container {/* jupyter's `normalize.less` sets `[hidden] { display: none; }` but bootstrap.min.css set `[hidden] { display: none !important; }` so we also need the `!important` here to be able to override the default hidden behavior on the sphinx rendered scikit-learn.org. See: https://github.com/scikit-learn/scikit-learn/issues/21755 */display: inline-block !important;position: relative;}#sk-container-id-1 div.sk-text-repr-fallback {display: none;}</style><div id=\"sk-container-id-1\" class=\"sk-top-container\"><div class=\"sk-text-repr-fallback\"><pre>LinearRegression()</pre><b>In a Jupyter environment, please rerun this cell to show the HTML representation or trust the notebook. <br />On GitHub, the HTML representation is unable to render, please try loading this page with nbviewer.org.</b></div><div class=\"sk-container\" hidden><div class=\"sk-item\"><div class=\"sk-estimator sk-toggleable\"><input class=\"sk-toggleable__control sk-hidden--visually\" id=\"sk-estimator-id-1\" type=\"checkbox\" checked><label for=\"sk-estimator-id-1\" class=\"sk-toggleable__label sk-toggleable__label-arrow\">LinearRegression</label><div class=\"sk-toggleable__content\"><pre>LinearRegression()</pre></div></div></div></div></div>"
            ]
          },
          "metadata": {},
          "execution_count": 37
        }
      ]
    },
    {
      "cell_type": "code",
      "source": [
        "regressor.coef_"
      ],
      "metadata": {
        "colab": {
          "base_uri": "https://localhost:8080/"
        },
        "id": "sO6BKn7SuFpa",
        "outputId": "36487000-52a5-4ab2-e19f-f1d8193da236"
      },
      "execution_count": null,
      "outputs": [
        {
          "output_type": "execute_result",
          "data": {
            "text/plain": [
              "array([1508.07066816])"
            ]
          },
          "metadata": {},
          "execution_count": 38
        }
      ]
    },
    {
      "cell_type": "code",
      "source": [
        "regressor.intercept_"
      ],
      "metadata": {
        "colab": {
          "base_uri": "https://localhost:8080/"
        },
        "id": "QpXNEsisuvHr",
        "outputId": "6a3ddffb-2b43-4ddf-fc20-1b6e9705c398"
      },
      "execution_count": null,
      "outputs": [
        {
          "output_type": "execute_result",
          "data": {
            "text/plain": [
              "-285.66717240517744"
            ]
          },
          "metadata": {},
          "execution_count": 39
        }
      ]
    },
    {
      "cell_type": "code",
      "source": [
        "coeff_df = pd.DataFrame(regressor.coef_, X.columns, columns=['Coefficient'])\n",
        "# pd.DataFrame(data, rowname, colname)\n",
        "coeff_df"
      ],
      "metadata": {
        "colab": {
          "base_uri": "https://localhost:8080/",
          "height": 81
        },
        "id": "Vb6QLhA7uzdx",
        "outputId": "476b6e6a-8c27-4570-a518-6a91cb87b448"
      },
      "execution_count": null,
      "outputs": [
        {
          "output_type": "execute_result",
          "data": {
            "text/plain": [
              "                              Coefficient\n",
              "Population_Driver_licence(%)  1508.070668"
            ],
            "text/html": [
              "\n",
              "  <div id=\"df-ef86c16d-eb30-4b0a-8ba3-1c0ce451e4f3\">\n",
              "    <div class=\"colab-df-container\">\n",
              "      <div>\n",
              "<style scoped>\n",
              "    .dataframe tbody tr th:only-of-type {\n",
              "        vertical-align: middle;\n",
              "    }\n",
              "\n",
              "    .dataframe tbody tr th {\n",
              "        vertical-align: top;\n",
              "    }\n",
              "\n",
              "    .dataframe thead th {\n",
              "        text-align: right;\n",
              "    }\n",
              "</style>\n",
              "<table border=\"1\" class=\"dataframe\">\n",
              "  <thead>\n",
              "    <tr style=\"text-align: right;\">\n",
              "      <th></th>\n",
              "      <th>Coefficient</th>\n",
              "    </tr>\n",
              "  </thead>\n",
              "  <tbody>\n",
              "    <tr>\n",
              "      <th>Population_Driver_licence(%)</th>\n",
              "      <td>1508.070668</td>\n",
              "    </tr>\n",
              "  </tbody>\n",
              "</table>\n",
              "</div>\n",
              "      <button class=\"colab-df-convert\" onclick=\"convertToInteractive('df-ef86c16d-eb30-4b0a-8ba3-1c0ce451e4f3')\"\n",
              "              title=\"Convert this dataframe to an interactive table.\"\n",
              "              style=\"display:none;\">\n",
              "        \n",
              "  <svg xmlns=\"http://www.w3.org/2000/svg\" height=\"24px\"viewBox=\"0 0 24 24\"\n",
              "       width=\"24px\">\n",
              "    <path d=\"M0 0h24v24H0V0z\" fill=\"none\"/>\n",
              "    <path d=\"M18.56 5.44l.94 2.06.94-2.06 2.06-.94-2.06-.94-.94-2.06-.94 2.06-2.06.94zm-11 1L8.5 8.5l.94-2.06 2.06-.94-2.06-.94L8.5 2.5l-.94 2.06-2.06.94zm10 10l.94 2.06.94-2.06 2.06-.94-2.06-.94-.94-2.06-.94 2.06-2.06.94z\"/><path d=\"M17.41 7.96l-1.37-1.37c-.4-.4-.92-.59-1.43-.59-.52 0-1.04.2-1.43.59L10.3 9.45l-7.72 7.72c-.78.78-.78 2.05 0 2.83L4 21.41c.39.39.9.59 1.41.59.51 0 1.02-.2 1.41-.59l7.78-7.78 2.81-2.81c.8-.78.8-2.07 0-2.86zM5.41 20L4 18.59l7.72-7.72 1.47 1.35L5.41 20z\"/>\n",
              "  </svg>\n",
              "      </button>\n",
              "      \n",
              "  <style>\n",
              "    .colab-df-container {\n",
              "      display:flex;\n",
              "      flex-wrap:wrap;\n",
              "      gap: 12px;\n",
              "    }\n",
              "\n",
              "    .colab-df-convert {\n",
              "      background-color: #E8F0FE;\n",
              "      border: none;\n",
              "      border-radius: 50%;\n",
              "      cursor: pointer;\n",
              "      display: none;\n",
              "      fill: #1967D2;\n",
              "      height: 32px;\n",
              "      padding: 0 0 0 0;\n",
              "      width: 32px;\n",
              "    }\n",
              "\n",
              "    .colab-df-convert:hover {\n",
              "      background-color: #E2EBFA;\n",
              "      box-shadow: 0px 1px 2px rgba(60, 64, 67, 0.3), 0px 1px 3px 1px rgba(60, 64, 67, 0.15);\n",
              "      fill: #174EA6;\n",
              "    }\n",
              "\n",
              "    [theme=dark] .colab-df-convert {\n",
              "      background-color: #3B4455;\n",
              "      fill: #D2E3FC;\n",
              "    }\n",
              "\n",
              "    [theme=dark] .colab-df-convert:hover {\n",
              "      background-color: #434B5C;\n",
              "      box-shadow: 0px 1px 3px 1px rgba(0, 0, 0, 0.15);\n",
              "      filter: drop-shadow(0px 1px 2px rgba(0, 0, 0, 0.3));\n",
              "      fill: #FFFFFF;\n",
              "    }\n",
              "  </style>\n",
              "\n",
              "      <script>\n",
              "        const buttonEl =\n",
              "          document.querySelector('#df-ef86c16d-eb30-4b0a-8ba3-1c0ce451e4f3 button.colab-df-convert');\n",
              "        buttonEl.style.display =\n",
              "          google.colab.kernel.accessAllowed ? 'block' : 'none';\n",
              "\n",
              "        async function convertToInteractive(key) {\n",
              "          const element = document.querySelector('#df-ef86c16d-eb30-4b0a-8ba3-1c0ce451e4f3');\n",
              "          const dataTable =\n",
              "            await google.colab.kernel.invokeFunction('convertToInteractive',\n",
              "                                                     [key], {});\n",
              "          if (!dataTable) return;\n",
              "\n",
              "          const docLinkHtml = 'Like what you see? Visit the ' +\n",
              "            '<a target=\"_blank\" href=https://colab.research.google.com/notebooks/data_table.ipynb>data table notebook</a>'\n",
              "            + ' to learn more about interactive tables.';\n",
              "          element.innerHTML = '';\n",
              "          dataTable['output_type'] = 'display_data';\n",
              "          await google.colab.output.renderOutput(dataTable, element);\n",
              "          const docLink = document.createElement('div');\n",
              "          docLink.innerHTML = docLinkHtml;\n",
              "          element.appendChild(docLink);\n",
              "        }\n",
              "      </script>\n",
              "    </div>\n",
              "  </div>\n",
              "  "
            ]
          },
          "metadata": {},
          "execution_count": 60
        }
      ]
    },
    {
      "cell_type": "code",
      "source": [
        "y_pred = regressor.predict(X_test)\n",
        "df = pd.DataFrame({\n",
        "    'Actual':y_test,\n",
        "    'Predicted':y_pred\n",
        "})\n",
        "df"
      ],
      "metadata": {
        "colab": {
          "base_uri": "https://localhost:8080/",
          "height": 363
        },
        "id": "tk-BzOpju6d3",
        "outputId": "582f3a01-3a74-4da8-a085-aa87fd490372"
      },
      "execution_count": null,
      "outputs": [
        {
          "output_type": "execute_result",
          "data": {
            "text/plain": [
              "    Actual   Predicted\n",
              "29     534  457.811667\n",
              "4      410  534.723271\n",
              "26     577  540.755554\n",
              "30     571  495.513434\n",
              "32     577  585.997674\n",
              "37     704  598.062239\n",
              "34     487  448.763243\n",
              "40     587  658.385066\n",
              "7      467  548.295907\n",
              "10     580  513.610282"
            ],
            "text/html": [
              "\n",
              "  <div id=\"df-0682e553-d5ff-44dc-ad1f-85f992ecb2f9\">\n",
              "    <div class=\"colab-df-container\">\n",
              "      <div>\n",
              "<style scoped>\n",
              "    .dataframe tbody tr th:only-of-type {\n",
              "        vertical-align: middle;\n",
              "    }\n",
              "\n",
              "    .dataframe tbody tr th {\n",
              "        vertical-align: top;\n",
              "    }\n",
              "\n",
              "    .dataframe thead th {\n",
              "        text-align: right;\n",
              "    }\n",
              "</style>\n",
              "<table border=\"1\" class=\"dataframe\">\n",
              "  <thead>\n",
              "    <tr style=\"text-align: right;\">\n",
              "      <th></th>\n",
              "      <th>Actual</th>\n",
              "      <th>Predicted</th>\n",
              "    </tr>\n",
              "  </thead>\n",
              "  <tbody>\n",
              "    <tr>\n",
              "      <th>29</th>\n",
              "      <td>534</td>\n",
              "      <td>457.811667</td>\n",
              "    </tr>\n",
              "    <tr>\n",
              "      <th>4</th>\n",
              "      <td>410</td>\n",
              "      <td>534.723271</td>\n",
              "    </tr>\n",
              "    <tr>\n",
              "      <th>26</th>\n",
              "      <td>577</td>\n",
              "      <td>540.755554</td>\n",
              "    </tr>\n",
              "    <tr>\n",
              "      <th>30</th>\n",
              "      <td>571</td>\n",
              "      <td>495.513434</td>\n",
              "    </tr>\n",
              "    <tr>\n",
              "      <th>32</th>\n",
              "      <td>577</td>\n",
              "      <td>585.997674</td>\n",
              "    </tr>\n",
              "    <tr>\n",
              "      <th>37</th>\n",
              "      <td>704</td>\n",
              "      <td>598.062239</td>\n",
              "    </tr>\n",
              "    <tr>\n",
              "      <th>34</th>\n",
              "      <td>487</td>\n",
              "      <td>448.763243</td>\n",
              "    </tr>\n",
              "    <tr>\n",
              "      <th>40</th>\n",
              "      <td>587</td>\n",
              "      <td>658.385066</td>\n",
              "    </tr>\n",
              "    <tr>\n",
              "      <th>7</th>\n",
              "      <td>467</td>\n",
              "      <td>548.295907</td>\n",
              "    </tr>\n",
              "    <tr>\n",
              "      <th>10</th>\n",
              "      <td>580</td>\n",
              "      <td>513.610282</td>\n",
              "    </tr>\n",
              "  </tbody>\n",
              "</table>\n",
              "</div>\n",
              "      <button class=\"colab-df-convert\" onclick=\"convertToInteractive('df-0682e553-d5ff-44dc-ad1f-85f992ecb2f9')\"\n",
              "              title=\"Convert this dataframe to an interactive table.\"\n",
              "              style=\"display:none;\">\n",
              "        \n",
              "  <svg xmlns=\"http://www.w3.org/2000/svg\" height=\"24px\"viewBox=\"0 0 24 24\"\n",
              "       width=\"24px\">\n",
              "    <path d=\"M0 0h24v24H0V0z\" fill=\"none\"/>\n",
              "    <path d=\"M18.56 5.44l.94 2.06.94-2.06 2.06-.94-2.06-.94-.94-2.06-.94 2.06-2.06.94zm-11 1L8.5 8.5l.94-2.06 2.06-.94-2.06-.94L8.5 2.5l-.94 2.06-2.06.94zm10 10l.94 2.06.94-2.06 2.06-.94-2.06-.94-.94-2.06-.94 2.06-2.06.94z\"/><path d=\"M17.41 7.96l-1.37-1.37c-.4-.4-.92-.59-1.43-.59-.52 0-1.04.2-1.43.59L10.3 9.45l-7.72 7.72c-.78.78-.78 2.05 0 2.83L4 21.41c.39.39.9.59 1.41.59.51 0 1.02-.2 1.41-.59l7.78-7.78 2.81-2.81c.8-.78.8-2.07 0-2.86zM5.41 20L4 18.59l7.72-7.72 1.47 1.35L5.41 20z\"/>\n",
              "  </svg>\n",
              "      </button>\n",
              "      \n",
              "  <style>\n",
              "    .colab-df-container {\n",
              "      display:flex;\n",
              "      flex-wrap:wrap;\n",
              "      gap: 12px;\n",
              "    }\n",
              "\n",
              "    .colab-df-convert {\n",
              "      background-color: #E8F0FE;\n",
              "      border: none;\n",
              "      border-radius: 50%;\n",
              "      cursor: pointer;\n",
              "      display: none;\n",
              "      fill: #1967D2;\n",
              "      height: 32px;\n",
              "      padding: 0 0 0 0;\n",
              "      width: 32px;\n",
              "    }\n",
              "\n",
              "    .colab-df-convert:hover {\n",
              "      background-color: #E2EBFA;\n",
              "      box-shadow: 0px 1px 2px rgba(60, 64, 67, 0.3), 0px 1px 3px 1px rgba(60, 64, 67, 0.15);\n",
              "      fill: #174EA6;\n",
              "    }\n",
              "\n",
              "    [theme=dark] .colab-df-convert {\n",
              "      background-color: #3B4455;\n",
              "      fill: #D2E3FC;\n",
              "    }\n",
              "\n",
              "    [theme=dark] .colab-df-convert:hover {\n",
              "      background-color: #434B5C;\n",
              "      box-shadow: 0px 1px 3px 1px rgba(0, 0, 0, 0.15);\n",
              "      filter: drop-shadow(0px 1px 2px rgba(0, 0, 0, 0.3));\n",
              "      fill: #FFFFFF;\n",
              "    }\n",
              "  </style>\n",
              "\n",
              "      <script>\n",
              "        const buttonEl =\n",
              "          document.querySelector('#df-0682e553-d5ff-44dc-ad1f-85f992ecb2f9 button.colab-df-convert');\n",
              "        buttonEl.style.display =\n",
              "          google.colab.kernel.accessAllowed ? 'block' : 'none';\n",
              "\n",
              "        async function convertToInteractive(key) {\n",
              "          const element = document.querySelector('#df-0682e553-d5ff-44dc-ad1f-85f992ecb2f9');\n",
              "          const dataTable =\n",
              "            await google.colab.kernel.invokeFunction('convertToInteractive',\n",
              "                                                     [key], {});\n",
              "          if (!dataTable) return;\n",
              "\n",
              "          const docLinkHtml = 'Like what you see? Visit the ' +\n",
              "            '<a target=\"_blank\" href=https://colab.research.google.com/notebooks/data_table.ipynb>data table notebook</a>'\n",
              "            + ' to learn more about interactive tables.';\n",
              "          element.innerHTML = '';\n",
              "          dataTable['output_type'] = 'display_data';\n",
              "          await google.colab.output.renderOutput(dataTable, element);\n",
              "          const docLink = document.createElement('div');\n",
              "          docLink.innerHTML = docLinkHtml;\n",
              "          element.appendChild(docLink);\n",
              "        }\n",
              "      </script>\n",
              "    </div>\n",
              "  </div>\n",
              "  "
            ]
          },
          "metadata": {},
          "execution_count": 61
        }
      ]
    },
    {
      "cell_type": "code",
      "source": [
        "# Evaluate\n",
        "\n",
        "from sklearn import metrics\n",
        "print(\"Mean Absolute Error:\", metrics.mean_absolute_error(y_test, y_pred))\n",
        "print(\"Mean Squared Error:\", metrics.mean_squared_error(y_test, y_pred))\n",
        "print(\"Root Mean Squared Error:\", np.sqrt(metrics.mean_squared_error(y_test, y_pred)))"
      ],
      "metadata": {
        "colab": {
          "base_uri": "https://localhost:8080/"
        },
        "id": "JVfn5TeIu-x1",
        "outputId": "b1038620-b6e0-40c5-bd1c-98f555699d98"
      },
      "execution_count": null,
      "outputs": [
        {
          "output_type": "stream",
          "name": "stdout",
          "text": [
            "Mean Absolute Error: 68.4885499524333\n",
            "Mean Squared Error: 5725.070173663769\n",
            "Root Mean Squared Error: 75.66419347130959\n"
          ]
        }
      ]
    },
    {
      "cell_type": "code",
      "source": [
        "from sklearn.metrics import r2_score\n",
        "print(\"R2 Error:\", metrics.r2_score(y_test, y_pred))"
      ],
      "metadata": {
        "colab": {
          "base_uri": "https://localhost:8080/"
        },
        "id": "jkUO-f-OvFLs",
        "outputId": "68aeeb17-0370-49a7-ae71-6127f1a878f2"
      },
      "execution_count": null,
      "outputs": [
        {
          "output_type": "stream",
          "name": "stdout",
          "text": [
            "R2 Error: 0.022932195966889557\n"
          ]
        }
      ]
    },
    {
      "cell_type": "code",
      "source": [
        "r2 = (metrics.r2_score(y_test, y_pred))\n",
        "n = 5\n",
        "k = 1\n",
        "adj_r2 = 1 - (((1-r2)*(n-1))/(n-k-1))\n",
        "print(\"Adjusted R2 Error:\", adj_r2)"
      ],
      "metadata": {
        "colab": {
          "base_uri": "https://localhost:8080/"
        },
        "id": "K79H1DIdvLjP",
        "outputId": "c5206c40-0869-47b9-c3ac-de2c0e396705"
      },
      "execution_count": null,
      "outputs": [
        {
          "output_type": "stream",
          "name": "stdout",
          "text": [
            "Adjusted R2 Error: -0.30275707204414726\n"
          ]
        }
      ]
    },
    {
      "cell_type": "markdown",
      "source": [
        "Retrain"
      ],
      "metadata": {
        "id": "p4goMdysv1WK"
      }
    },
    {
      "cell_type": "code",
      "source": [
        "# TTS\n",
        "\n",
        "from sklearn.model_selection import train_test_split\n",
        "X_train, X_test, y_train, y_test = train_test_split(X, y, test_size=0.3, random_state=0)"
      ],
      "metadata": {
        "id": "Ryh-3eecvmMU"
      },
      "execution_count": null,
      "outputs": []
    },
    {
      "cell_type": "code",
      "source": [
        "X_train.shape"
      ],
      "metadata": {
        "colab": {
          "base_uri": "https://localhost:8080/"
        },
        "id": "Jddst3BwwG9S",
        "outputId": "100106fa-2392-41b5-98c4-810dfd7ce545"
      },
      "execution_count": null,
      "outputs": [
        {
          "output_type": "execute_result",
          "data": {
            "text/plain": [
              "(24, 4)"
            ]
          },
          "metadata": {},
          "execution_count": 19
        }
      ]
    },
    {
      "cell_type": "code",
      "source": [
        "X_test.shape"
      ],
      "metadata": {
        "colab": {
          "base_uri": "https://localhost:8080/"
        },
        "id": "WrJETtXOwNte",
        "outputId": "c0be45b8-98be-4c93-93ec-89a3ec4c1578"
      },
      "execution_count": null,
      "outputs": [
        {
          "output_type": "execute_result",
          "data": {
            "text/plain": [
              "(15, 1)"
            ]
          },
          "metadata": {},
          "execution_count": 68
        }
      ]
    },
    {
      "cell_type": "code",
      "source": [
        "# Train the algorithm\n",
        "\n",
        "from sklearn.linear_model import LinearRegression\n",
        "regressor = LinearRegression()\n",
        "regressor.fit(X_train, y_train)"
      ],
      "metadata": {
        "colab": {
          "base_uri": "https://localhost:8080/",
          "height": 75
        },
        "id": "4mTq_w3NwTLW",
        "outputId": "5e361179-86af-437d-9694-8db4ce7ae1b1"
      },
      "execution_count": null,
      "outputs": [
        {
          "output_type": "execute_result",
          "data": {
            "text/plain": [
              "LinearRegression()"
            ],
            "text/html": [
              "<style>#sk-container-id-3 {color: black;background-color: white;}#sk-container-id-3 pre{padding: 0;}#sk-container-id-3 div.sk-toggleable {background-color: white;}#sk-container-id-3 label.sk-toggleable__label {cursor: pointer;display: block;width: 100%;margin-bottom: 0;padding: 0.3em;box-sizing: border-box;text-align: center;}#sk-container-id-3 label.sk-toggleable__label-arrow:before {content: \"▸\";float: left;margin-right: 0.25em;color: #696969;}#sk-container-id-3 label.sk-toggleable__label-arrow:hover:before {color: black;}#sk-container-id-3 div.sk-estimator:hover label.sk-toggleable__label-arrow:before {color: black;}#sk-container-id-3 div.sk-toggleable__content {max-height: 0;max-width: 0;overflow: hidden;text-align: left;background-color: #f0f8ff;}#sk-container-id-3 div.sk-toggleable__content pre {margin: 0.2em;color: black;border-radius: 0.25em;background-color: #f0f8ff;}#sk-container-id-3 input.sk-toggleable__control:checked~div.sk-toggleable__content {max-height: 200px;max-width: 100%;overflow: auto;}#sk-container-id-3 input.sk-toggleable__control:checked~label.sk-toggleable__label-arrow:before {content: \"▾\";}#sk-container-id-3 div.sk-estimator input.sk-toggleable__control:checked~label.sk-toggleable__label {background-color: #d4ebff;}#sk-container-id-3 div.sk-label input.sk-toggleable__control:checked~label.sk-toggleable__label {background-color: #d4ebff;}#sk-container-id-3 input.sk-hidden--visually {border: 0;clip: rect(1px 1px 1px 1px);clip: rect(1px, 1px, 1px, 1px);height: 1px;margin: -1px;overflow: hidden;padding: 0;position: absolute;width: 1px;}#sk-container-id-3 div.sk-estimator {font-family: monospace;background-color: #f0f8ff;border: 1px dotted black;border-radius: 0.25em;box-sizing: border-box;margin-bottom: 0.5em;}#sk-container-id-3 div.sk-estimator:hover {background-color: #d4ebff;}#sk-container-id-3 div.sk-parallel-item::after {content: \"\";width: 100%;border-bottom: 1px solid gray;flex-grow: 1;}#sk-container-id-3 div.sk-label:hover label.sk-toggleable__label {background-color: #d4ebff;}#sk-container-id-3 div.sk-serial::before {content: \"\";position: absolute;border-left: 1px solid gray;box-sizing: border-box;top: 0;bottom: 0;left: 50%;z-index: 0;}#sk-container-id-3 div.sk-serial {display: flex;flex-direction: column;align-items: center;background-color: white;padding-right: 0.2em;padding-left: 0.2em;position: relative;}#sk-container-id-3 div.sk-item {position: relative;z-index: 1;}#sk-container-id-3 div.sk-parallel {display: flex;align-items: stretch;justify-content: center;background-color: white;position: relative;}#sk-container-id-3 div.sk-item::before, #sk-container-id-3 div.sk-parallel-item::before {content: \"\";position: absolute;border-left: 1px solid gray;box-sizing: border-box;top: 0;bottom: 0;left: 50%;z-index: -1;}#sk-container-id-3 div.sk-parallel-item {display: flex;flex-direction: column;z-index: 1;position: relative;background-color: white;}#sk-container-id-3 div.sk-parallel-item:first-child::after {align-self: flex-end;width: 50%;}#sk-container-id-3 div.sk-parallel-item:last-child::after {align-self: flex-start;width: 50%;}#sk-container-id-3 div.sk-parallel-item:only-child::after {width: 0;}#sk-container-id-3 div.sk-dashed-wrapped {border: 1px dashed gray;margin: 0 0.4em 0.5em 0.4em;box-sizing: border-box;padding-bottom: 0.4em;background-color: white;}#sk-container-id-3 div.sk-label label {font-family: monospace;font-weight: bold;display: inline-block;line-height: 1.2em;}#sk-container-id-3 div.sk-label-container {text-align: center;}#sk-container-id-3 div.sk-container {/* jupyter's `normalize.less` sets `[hidden] { display: none; }` but bootstrap.min.css set `[hidden] { display: none !important; }` so we also need the `!important` here to be able to override the default hidden behavior on the sphinx rendered scikit-learn.org. See: https://github.com/scikit-learn/scikit-learn/issues/21755 */display: inline-block !important;position: relative;}#sk-container-id-3 div.sk-text-repr-fallback {display: none;}</style><div id=\"sk-container-id-3\" class=\"sk-top-container\"><div class=\"sk-text-repr-fallback\"><pre>LinearRegression()</pre><b>In a Jupyter environment, please rerun this cell to show the HTML representation or trust the notebook. <br />On GitHub, the HTML representation is unable to render, please try loading this page with nbviewer.org.</b></div><div class=\"sk-container\" hidden><div class=\"sk-item\"><div class=\"sk-estimator sk-toggleable\"><input class=\"sk-toggleable__control sk-hidden--visually\" id=\"sk-estimator-id-3\" type=\"checkbox\" checked><label for=\"sk-estimator-id-3\" class=\"sk-toggleable__label sk-toggleable__label-arrow\">LinearRegression</label><div class=\"sk-toggleable__content\"><pre>LinearRegression()</pre></div></div></div></div></div>"
            ]
          },
          "metadata": {},
          "execution_count": 69
        }
      ]
    },
    {
      "cell_type": "code",
      "source": [
        "regressor.coef_"
      ],
      "metadata": {
        "colab": {
          "base_uri": "https://localhost:8080/"
        },
        "id": "Q4m8wmFPwcsL",
        "outputId": "463c399a-e821-45b4-a515-67a3a1d56921"
      },
      "execution_count": null,
      "outputs": [
        {
          "output_type": "execute_result",
          "data": {
            "text/plain": [
              "array([1566.75730759])"
            ]
          },
          "metadata": {},
          "execution_count": 70
        }
      ]
    },
    {
      "cell_type": "code",
      "source": [
        "regressor.intercept_"
      ],
      "metadata": {
        "colab": {
          "base_uri": "https://localhost:8080/"
        },
        "id": "BZ98YtLhwhPp",
        "outputId": "1b9f38c8-4898-497f-a88d-6a6649f3e6c2"
      },
      "execution_count": null,
      "outputs": [
        {
          "output_type": "execute_result",
          "data": {
            "text/plain": [
              "-322.1152419439519"
            ]
          },
          "metadata": {},
          "execution_count": 71
        }
      ]
    },
    {
      "cell_type": "code",
      "source": [
        "coeff_df = pd.DataFrame(regressor.coef_, X.columns, columns=['Coefficient'])\n",
        "# pd.DataFrame(data, rowname, colname)\n",
        "coeff_df"
      ],
      "metadata": {
        "colab": {
          "base_uri": "https://localhost:8080/",
          "height": 81
        },
        "id": "5Z8bGjiCwk18",
        "outputId": "e9cc396d-4105-4543-e7a7-0bc5fffba832"
      },
      "execution_count": null,
      "outputs": [
        {
          "output_type": "execute_result",
          "data": {
            "text/plain": [
              "                              Coefficient\n",
              "Population_Driver_licence(%)  1566.757308"
            ],
            "text/html": [
              "\n",
              "  <div id=\"df-75fb2189-ed3b-4b37-aa1d-d52a498be2d7\">\n",
              "    <div class=\"colab-df-container\">\n",
              "      <div>\n",
              "<style scoped>\n",
              "    .dataframe tbody tr th:only-of-type {\n",
              "        vertical-align: middle;\n",
              "    }\n",
              "\n",
              "    .dataframe tbody tr th {\n",
              "        vertical-align: top;\n",
              "    }\n",
              "\n",
              "    .dataframe thead th {\n",
              "        text-align: right;\n",
              "    }\n",
              "</style>\n",
              "<table border=\"1\" class=\"dataframe\">\n",
              "  <thead>\n",
              "    <tr style=\"text-align: right;\">\n",
              "      <th></th>\n",
              "      <th>Coefficient</th>\n",
              "    </tr>\n",
              "  </thead>\n",
              "  <tbody>\n",
              "    <tr>\n",
              "      <th>Population_Driver_licence(%)</th>\n",
              "      <td>1566.757308</td>\n",
              "    </tr>\n",
              "  </tbody>\n",
              "</table>\n",
              "</div>\n",
              "      <button class=\"colab-df-convert\" onclick=\"convertToInteractive('df-75fb2189-ed3b-4b37-aa1d-d52a498be2d7')\"\n",
              "              title=\"Convert this dataframe to an interactive table.\"\n",
              "              style=\"display:none;\">\n",
              "        \n",
              "  <svg xmlns=\"http://www.w3.org/2000/svg\" height=\"24px\"viewBox=\"0 0 24 24\"\n",
              "       width=\"24px\">\n",
              "    <path d=\"M0 0h24v24H0V0z\" fill=\"none\"/>\n",
              "    <path d=\"M18.56 5.44l.94 2.06.94-2.06 2.06-.94-2.06-.94-.94-2.06-.94 2.06-2.06.94zm-11 1L8.5 8.5l.94-2.06 2.06-.94-2.06-.94L8.5 2.5l-.94 2.06-2.06.94zm10 10l.94 2.06.94-2.06 2.06-.94-2.06-.94-.94-2.06-.94 2.06-2.06.94z\"/><path d=\"M17.41 7.96l-1.37-1.37c-.4-.4-.92-.59-1.43-.59-.52 0-1.04.2-1.43.59L10.3 9.45l-7.72 7.72c-.78.78-.78 2.05 0 2.83L4 21.41c.39.39.9.59 1.41.59.51 0 1.02-.2 1.41-.59l7.78-7.78 2.81-2.81c.8-.78.8-2.07 0-2.86zM5.41 20L4 18.59l7.72-7.72 1.47 1.35L5.41 20z\"/>\n",
              "  </svg>\n",
              "      </button>\n",
              "      \n",
              "  <style>\n",
              "    .colab-df-container {\n",
              "      display:flex;\n",
              "      flex-wrap:wrap;\n",
              "      gap: 12px;\n",
              "    }\n",
              "\n",
              "    .colab-df-convert {\n",
              "      background-color: #E8F0FE;\n",
              "      border: none;\n",
              "      border-radius: 50%;\n",
              "      cursor: pointer;\n",
              "      display: none;\n",
              "      fill: #1967D2;\n",
              "      height: 32px;\n",
              "      padding: 0 0 0 0;\n",
              "      width: 32px;\n",
              "    }\n",
              "\n",
              "    .colab-df-convert:hover {\n",
              "      background-color: #E2EBFA;\n",
              "      box-shadow: 0px 1px 2px rgba(60, 64, 67, 0.3), 0px 1px 3px 1px rgba(60, 64, 67, 0.15);\n",
              "      fill: #174EA6;\n",
              "    }\n",
              "\n",
              "    [theme=dark] .colab-df-convert {\n",
              "      background-color: #3B4455;\n",
              "      fill: #D2E3FC;\n",
              "    }\n",
              "\n",
              "    [theme=dark] .colab-df-convert:hover {\n",
              "      background-color: #434B5C;\n",
              "      box-shadow: 0px 1px 3px 1px rgba(0, 0, 0, 0.15);\n",
              "      filter: drop-shadow(0px 1px 2px rgba(0, 0, 0, 0.3));\n",
              "      fill: #FFFFFF;\n",
              "    }\n",
              "  </style>\n",
              "\n",
              "      <script>\n",
              "        const buttonEl =\n",
              "          document.querySelector('#df-75fb2189-ed3b-4b37-aa1d-d52a498be2d7 button.colab-df-convert');\n",
              "        buttonEl.style.display =\n",
              "          google.colab.kernel.accessAllowed ? 'block' : 'none';\n",
              "\n",
              "        async function convertToInteractive(key) {\n",
              "          const element = document.querySelector('#df-75fb2189-ed3b-4b37-aa1d-d52a498be2d7');\n",
              "          const dataTable =\n",
              "            await google.colab.kernel.invokeFunction('convertToInteractive',\n",
              "                                                     [key], {});\n",
              "          if (!dataTable) return;\n",
              "\n",
              "          const docLinkHtml = 'Like what you see? Visit the ' +\n",
              "            '<a target=\"_blank\" href=https://colab.research.google.com/notebooks/data_table.ipynb>data table notebook</a>'\n",
              "            + ' to learn more about interactive tables.';\n",
              "          element.innerHTML = '';\n",
              "          dataTable['output_type'] = 'display_data';\n",
              "          await google.colab.output.renderOutput(dataTable, element);\n",
              "          const docLink = document.createElement('div');\n",
              "          docLink.innerHTML = docLinkHtml;\n",
              "          element.appendChild(docLink);\n",
              "        }\n",
              "      </script>\n",
              "    </div>\n",
              "  </div>\n",
              "  "
            ]
          },
          "metadata": {},
          "execution_count": 72
        }
      ]
    },
    {
      "cell_type": "code",
      "source": [
        "y_pred = regressor.predict(X_test)\n",
        "df = pd.DataFrame({\n",
        "    'Actual':y_test,\n",
        "    'Predicted':y_pred\n",
        "})\n",
        "df"
      ],
      "metadata": {
        "colab": {
          "base_uri": "https://localhost:8080/",
          "height": 520
        },
        "id": "cnamF_-Vwrin",
        "outputId": "b306c5e0-13ec-48d0-d1a0-3bad2b6306d1"
      },
      "execution_count": null,
      "outputs": [
        {
          "output_type": "execute_result",
          "data": {
            "text/plain": [
              "    Actual   Predicted\n",
              "29     534  450.296111\n",
              "4      410  530.200733\n",
              "26     577  536.467763\n",
              "30     571  489.465043\n",
              "32     577  583.470482\n",
              "37     704  596.004540\n",
              "34     487  440.895567\n",
              "40     587  658.674833\n",
              "7      467  544.301549\n",
              "10     580  508.266131\n",
              "11     471  500.432345\n",
              "31     554  481.631257\n",
              "33     628  534.901005\n",
              "27     631  585.037239\n",
              "47     524  606.971841"
            ],
            "text/html": [
              "\n",
              "  <div id=\"df-52feb585-4085-4eca-b1ec-380790e27320\">\n",
              "    <div class=\"colab-df-container\">\n",
              "      <div>\n",
              "<style scoped>\n",
              "    .dataframe tbody tr th:only-of-type {\n",
              "        vertical-align: middle;\n",
              "    }\n",
              "\n",
              "    .dataframe tbody tr th {\n",
              "        vertical-align: top;\n",
              "    }\n",
              "\n",
              "    .dataframe thead th {\n",
              "        text-align: right;\n",
              "    }\n",
              "</style>\n",
              "<table border=\"1\" class=\"dataframe\">\n",
              "  <thead>\n",
              "    <tr style=\"text-align: right;\">\n",
              "      <th></th>\n",
              "      <th>Actual</th>\n",
              "      <th>Predicted</th>\n",
              "    </tr>\n",
              "  </thead>\n",
              "  <tbody>\n",
              "    <tr>\n",
              "      <th>29</th>\n",
              "      <td>534</td>\n",
              "      <td>450.296111</td>\n",
              "    </tr>\n",
              "    <tr>\n",
              "      <th>4</th>\n",
              "      <td>410</td>\n",
              "      <td>530.200733</td>\n",
              "    </tr>\n",
              "    <tr>\n",
              "      <th>26</th>\n",
              "      <td>577</td>\n",
              "      <td>536.467763</td>\n",
              "    </tr>\n",
              "    <tr>\n",
              "      <th>30</th>\n",
              "      <td>571</td>\n",
              "      <td>489.465043</td>\n",
              "    </tr>\n",
              "    <tr>\n",
              "      <th>32</th>\n",
              "      <td>577</td>\n",
              "      <td>583.470482</td>\n",
              "    </tr>\n",
              "    <tr>\n",
              "      <th>37</th>\n",
              "      <td>704</td>\n",
              "      <td>596.004540</td>\n",
              "    </tr>\n",
              "    <tr>\n",
              "      <th>34</th>\n",
              "      <td>487</td>\n",
              "      <td>440.895567</td>\n",
              "    </tr>\n",
              "    <tr>\n",
              "      <th>40</th>\n",
              "      <td>587</td>\n",
              "      <td>658.674833</td>\n",
              "    </tr>\n",
              "    <tr>\n",
              "      <th>7</th>\n",
              "      <td>467</td>\n",
              "      <td>544.301549</td>\n",
              "    </tr>\n",
              "    <tr>\n",
              "      <th>10</th>\n",
              "      <td>580</td>\n",
              "      <td>508.266131</td>\n",
              "    </tr>\n",
              "    <tr>\n",
              "      <th>11</th>\n",
              "      <td>471</td>\n",
              "      <td>500.432345</td>\n",
              "    </tr>\n",
              "    <tr>\n",
              "      <th>31</th>\n",
              "      <td>554</td>\n",
              "      <td>481.631257</td>\n",
              "    </tr>\n",
              "    <tr>\n",
              "      <th>33</th>\n",
              "      <td>628</td>\n",
              "      <td>534.901005</td>\n",
              "    </tr>\n",
              "    <tr>\n",
              "      <th>27</th>\n",
              "      <td>631</td>\n",
              "      <td>585.037239</td>\n",
              "    </tr>\n",
              "    <tr>\n",
              "      <th>47</th>\n",
              "      <td>524</td>\n",
              "      <td>606.971841</td>\n",
              "    </tr>\n",
              "  </tbody>\n",
              "</table>\n",
              "</div>\n",
              "      <button class=\"colab-df-convert\" onclick=\"convertToInteractive('df-52feb585-4085-4eca-b1ec-380790e27320')\"\n",
              "              title=\"Convert this dataframe to an interactive table.\"\n",
              "              style=\"display:none;\">\n",
              "        \n",
              "  <svg xmlns=\"http://www.w3.org/2000/svg\" height=\"24px\"viewBox=\"0 0 24 24\"\n",
              "       width=\"24px\">\n",
              "    <path d=\"M0 0h24v24H0V0z\" fill=\"none\"/>\n",
              "    <path d=\"M18.56 5.44l.94 2.06.94-2.06 2.06-.94-2.06-.94-.94-2.06-.94 2.06-2.06.94zm-11 1L8.5 8.5l.94-2.06 2.06-.94-2.06-.94L8.5 2.5l-.94 2.06-2.06.94zm10 10l.94 2.06.94-2.06 2.06-.94-2.06-.94-.94-2.06-.94 2.06-2.06.94z\"/><path d=\"M17.41 7.96l-1.37-1.37c-.4-.4-.92-.59-1.43-.59-.52 0-1.04.2-1.43.59L10.3 9.45l-7.72 7.72c-.78.78-.78 2.05 0 2.83L4 21.41c.39.39.9.59 1.41.59.51 0 1.02-.2 1.41-.59l7.78-7.78 2.81-2.81c.8-.78.8-2.07 0-2.86zM5.41 20L4 18.59l7.72-7.72 1.47 1.35L5.41 20z\"/>\n",
              "  </svg>\n",
              "      </button>\n",
              "      \n",
              "  <style>\n",
              "    .colab-df-container {\n",
              "      display:flex;\n",
              "      flex-wrap:wrap;\n",
              "      gap: 12px;\n",
              "    }\n",
              "\n",
              "    .colab-df-convert {\n",
              "      background-color: #E8F0FE;\n",
              "      border: none;\n",
              "      border-radius: 50%;\n",
              "      cursor: pointer;\n",
              "      display: none;\n",
              "      fill: #1967D2;\n",
              "      height: 32px;\n",
              "      padding: 0 0 0 0;\n",
              "      width: 32px;\n",
              "    }\n",
              "\n",
              "    .colab-df-convert:hover {\n",
              "      background-color: #E2EBFA;\n",
              "      box-shadow: 0px 1px 2px rgba(60, 64, 67, 0.3), 0px 1px 3px 1px rgba(60, 64, 67, 0.15);\n",
              "      fill: #174EA6;\n",
              "    }\n",
              "\n",
              "    [theme=dark] .colab-df-convert {\n",
              "      background-color: #3B4455;\n",
              "      fill: #D2E3FC;\n",
              "    }\n",
              "\n",
              "    [theme=dark] .colab-df-convert:hover {\n",
              "      background-color: #434B5C;\n",
              "      box-shadow: 0px 1px 3px 1px rgba(0, 0, 0, 0.15);\n",
              "      filter: drop-shadow(0px 1px 2px rgba(0, 0, 0, 0.3));\n",
              "      fill: #FFFFFF;\n",
              "    }\n",
              "  </style>\n",
              "\n",
              "      <script>\n",
              "        const buttonEl =\n",
              "          document.querySelector('#df-52feb585-4085-4eca-b1ec-380790e27320 button.colab-df-convert');\n",
              "        buttonEl.style.display =\n",
              "          google.colab.kernel.accessAllowed ? 'block' : 'none';\n",
              "\n",
              "        async function convertToInteractive(key) {\n",
              "          const element = document.querySelector('#df-52feb585-4085-4eca-b1ec-380790e27320');\n",
              "          const dataTable =\n",
              "            await google.colab.kernel.invokeFunction('convertToInteractive',\n",
              "                                                     [key], {});\n",
              "          if (!dataTable) return;\n",
              "\n",
              "          const docLinkHtml = 'Like what you see? Visit the ' +\n",
              "            '<a target=\"_blank\" href=https://colab.research.google.com/notebooks/data_table.ipynb>data table notebook</a>'\n",
              "            + ' to learn more about interactive tables.';\n",
              "          element.innerHTML = '';\n",
              "          dataTable['output_type'] = 'display_data';\n",
              "          await google.colab.output.renderOutput(dataTable, element);\n",
              "          const docLink = document.createElement('div');\n",
              "          docLink.innerHTML = docLinkHtml;\n",
              "          element.appendChild(docLink);\n",
              "        }\n",
              "      </script>\n",
              "    </div>\n",
              "  </div>\n",
              "  "
            ]
          },
          "metadata": {},
          "execution_count": 73
        }
      ]
    },
    {
      "cell_type": "code",
      "source": [
        "# Evaluate\n",
        "\n",
        "from sklearn import metrics\n",
        "print(\"Mean Absolute Error:\", metrics.mean_absolute_error(y_test, y_pred))\n",
        "print(\"Mean Squared Error:\", metrics.mean_squared_error(y_test, y_pred))\n",
        "print(\"Root Mean Squared Error:\", np.sqrt(metrics.mean_squared_error(y_test, y_pred)))"
      ],
      "metadata": {
        "colab": {
          "base_uri": "https://localhost:8080/"
        },
        "id": "XUKtwyT6ww-A",
        "outputId": "51de7170-b6be-47fb-b596-ae359157a8d5"
      },
      "execution_count": null,
      "outputs": [
        {
          "output_type": "stream",
          "name": "stdout",
          "text": [
            "Mean Absolute Error: 68.73914178304157\n",
            "Mean Squared Error: 5573.483710556493\n",
            "Root Mean Squared Error: 74.65576809970207\n"
          ]
        }
      ]
    },
    {
      "cell_type": "code",
      "source": [
        "from sklearn.metrics import r2_score\n",
        "print(\"R2 Error:\", metrics.r2_score(y_test, y_pred))"
      ],
      "metadata": {
        "colab": {
          "base_uri": "https://localhost:8080/"
        },
        "id": "q7HTIz2Cw2sL",
        "outputId": "0318e105-b78c-40b2-d768-1cf81e8ce912"
      },
      "execution_count": null,
      "outputs": [
        {
          "output_type": "stream",
          "name": "stdout",
          "text": [
            "R2 Error: -0.07188242337633088\n"
          ]
        }
      ]
    },
    {
      "cell_type": "code",
      "source": [
        "r2 = (metrics.r2_score(y_test, y_pred))\n",
        "n = 5\n",
        "k = 1\n",
        "adj_r2 = 1 - (((1-r2)*(n-1))/(n-k-1))\n",
        "print(\"Adjusted R2 Error:\", adj_r2)"
      ],
      "metadata": {
        "colab": {
          "base_uri": "https://localhost:8080/"
        },
        "id": "BED4wqqjw-Y_",
        "outputId": "263b8da8-0f9c-45d3-d59f-b8104c167346"
      },
      "execution_count": null,
      "outputs": [
        {
          "output_type": "stream",
          "name": "stdout",
          "text": [
            "Adjusted R2 Error: -0.42917656450177444\n"
          ]
        }
      ]
    },
    {
      "cell_type": "markdown",
      "source": [
        "Factors\n",
        "\n",
        "1)Need more data: What we have is just one year data, whereas multiple years data would have helped in getting a better model.\n",
        "\n",
        "2)Bad Assumptions: We made the assumption that the data has linear relationship, which may not be the case. Visualizing that first would have been a better idea.\n",
        "\n",
        "3)Poor features The features we used may not have had a high corelation to the values we are trting to predict.\n",
        "\n",
        "4)Granularity."
      ],
      "metadata": {
        "id": "DelDwLKoxHNi"
      }
    },
    {
      "cell_type": "code",
      "source": [],
      "metadata": {
        "id": "HytFlvG24Nfg"
      },
      "execution_count": null,
      "outputs": []
    },
    {
      "cell_type": "markdown",
      "source": [
        "Logistic\n",
        "\n",
        "Student Grant Recommendation"
      ],
      "metadata": {
        "id": "QqgAhnoP-6Yp"
      }
    },
    {
      "cell_type": "code",
      "source": [
        "# 1. Data Retrieval\n",
        "df = pd.read_csv(\"/content/drive/MyDrive/ML data/student_records.csv\")\n",
        "df"
      ],
      "metadata": {
        "colab": {
          "base_uri": "https://localhost:8080/",
          "height": 300
        },
        "id": "h_tI86q_4QGj",
        "outputId": "4cac70ea-dcb0-43a2-8724-b9c218b37e56"
      },
      "execution_count": null,
      "outputs": [
        {
          "output_type": "execute_result",
          "data": {
            "text/plain": [
              "     Name OverallGrade Obedient  ResearchScore  ProjectScore Recommend\n",
              "0   Henry            A        Y             90            85       Yes\n",
              "1    John            C        N             85            51       Yes\n",
              "2   David            F        N             10            17        No\n",
              "3  Holmes            B        Y             75            71        No\n",
              "4  Marvin            E        N             20            30        No\n",
              "5   Simon            A        Y             92            79       Yes\n",
              "6  Robert            B        Y             60            59        No\n",
              "7   Trent            C        Y             75            33        No"
            ],
            "text/html": [
              "\n",
              "  <div id=\"df-0816ba02-7b3a-4720-b1d9-2191b15086d2\">\n",
              "    <div class=\"colab-df-container\">\n",
              "      <div>\n",
              "<style scoped>\n",
              "    .dataframe tbody tr th:only-of-type {\n",
              "        vertical-align: middle;\n",
              "    }\n",
              "\n",
              "    .dataframe tbody tr th {\n",
              "        vertical-align: top;\n",
              "    }\n",
              "\n",
              "    .dataframe thead th {\n",
              "        text-align: right;\n",
              "    }\n",
              "</style>\n",
              "<table border=\"1\" class=\"dataframe\">\n",
              "  <thead>\n",
              "    <tr style=\"text-align: right;\">\n",
              "      <th></th>\n",
              "      <th>Name</th>\n",
              "      <th>OverallGrade</th>\n",
              "      <th>Obedient</th>\n",
              "      <th>ResearchScore</th>\n",
              "      <th>ProjectScore</th>\n",
              "      <th>Recommend</th>\n",
              "    </tr>\n",
              "  </thead>\n",
              "  <tbody>\n",
              "    <tr>\n",
              "      <th>0</th>\n",
              "      <td>Henry</td>\n",
              "      <td>A</td>\n",
              "      <td>Y</td>\n",
              "      <td>90</td>\n",
              "      <td>85</td>\n",
              "      <td>Yes</td>\n",
              "    </tr>\n",
              "    <tr>\n",
              "      <th>1</th>\n",
              "      <td>John</td>\n",
              "      <td>C</td>\n",
              "      <td>N</td>\n",
              "      <td>85</td>\n",
              "      <td>51</td>\n",
              "      <td>Yes</td>\n",
              "    </tr>\n",
              "    <tr>\n",
              "      <th>2</th>\n",
              "      <td>David</td>\n",
              "      <td>F</td>\n",
              "      <td>N</td>\n",
              "      <td>10</td>\n",
              "      <td>17</td>\n",
              "      <td>No</td>\n",
              "    </tr>\n",
              "    <tr>\n",
              "      <th>3</th>\n",
              "      <td>Holmes</td>\n",
              "      <td>B</td>\n",
              "      <td>Y</td>\n",
              "      <td>75</td>\n",
              "      <td>71</td>\n",
              "      <td>No</td>\n",
              "    </tr>\n",
              "    <tr>\n",
              "      <th>4</th>\n",
              "      <td>Marvin</td>\n",
              "      <td>E</td>\n",
              "      <td>N</td>\n",
              "      <td>20</td>\n",
              "      <td>30</td>\n",
              "      <td>No</td>\n",
              "    </tr>\n",
              "    <tr>\n",
              "      <th>5</th>\n",
              "      <td>Simon</td>\n",
              "      <td>A</td>\n",
              "      <td>Y</td>\n",
              "      <td>92</td>\n",
              "      <td>79</td>\n",
              "      <td>Yes</td>\n",
              "    </tr>\n",
              "    <tr>\n",
              "      <th>6</th>\n",
              "      <td>Robert</td>\n",
              "      <td>B</td>\n",
              "      <td>Y</td>\n",
              "      <td>60</td>\n",
              "      <td>59</td>\n",
              "      <td>No</td>\n",
              "    </tr>\n",
              "    <tr>\n",
              "      <th>7</th>\n",
              "      <td>Trent</td>\n",
              "      <td>C</td>\n",
              "      <td>Y</td>\n",
              "      <td>75</td>\n",
              "      <td>33</td>\n",
              "      <td>No</td>\n",
              "    </tr>\n",
              "  </tbody>\n",
              "</table>\n",
              "</div>\n",
              "      <button class=\"colab-df-convert\" onclick=\"convertToInteractive('df-0816ba02-7b3a-4720-b1d9-2191b15086d2')\"\n",
              "              title=\"Convert this dataframe to an interactive table.\"\n",
              "              style=\"display:none;\">\n",
              "        \n",
              "  <svg xmlns=\"http://www.w3.org/2000/svg\" height=\"24px\"viewBox=\"0 0 24 24\"\n",
              "       width=\"24px\">\n",
              "    <path d=\"M0 0h24v24H0V0z\" fill=\"none\"/>\n",
              "    <path d=\"M18.56 5.44l.94 2.06.94-2.06 2.06-.94-2.06-.94-.94-2.06-.94 2.06-2.06.94zm-11 1L8.5 8.5l.94-2.06 2.06-.94-2.06-.94L8.5 2.5l-.94 2.06-2.06.94zm10 10l.94 2.06.94-2.06 2.06-.94-2.06-.94-.94-2.06-.94 2.06-2.06.94z\"/><path d=\"M17.41 7.96l-1.37-1.37c-.4-.4-.92-.59-1.43-.59-.52 0-1.04.2-1.43.59L10.3 9.45l-7.72 7.72c-.78.78-.78 2.05 0 2.83L4 21.41c.39.39.9.59 1.41.59.51 0 1.02-.2 1.41-.59l7.78-7.78 2.81-2.81c.8-.78.8-2.07 0-2.86zM5.41 20L4 18.59l7.72-7.72 1.47 1.35L5.41 20z\"/>\n",
              "  </svg>\n",
              "      </button>\n",
              "      \n",
              "  <style>\n",
              "    .colab-df-container {\n",
              "      display:flex;\n",
              "      flex-wrap:wrap;\n",
              "      gap: 12px;\n",
              "    }\n",
              "\n",
              "    .colab-df-convert {\n",
              "      background-color: #E8F0FE;\n",
              "      border: none;\n",
              "      border-radius: 50%;\n",
              "      cursor: pointer;\n",
              "      display: none;\n",
              "      fill: #1967D2;\n",
              "      height: 32px;\n",
              "      padding: 0 0 0 0;\n",
              "      width: 32px;\n",
              "    }\n",
              "\n",
              "    .colab-df-convert:hover {\n",
              "      background-color: #E2EBFA;\n",
              "      box-shadow: 0px 1px 2px rgba(60, 64, 67, 0.3), 0px 1px 3px 1px rgba(60, 64, 67, 0.15);\n",
              "      fill: #174EA6;\n",
              "    }\n",
              "\n",
              "    [theme=dark] .colab-df-convert {\n",
              "      background-color: #3B4455;\n",
              "      fill: #D2E3FC;\n",
              "    }\n",
              "\n",
              "    [theme=dark] .colab-df-convert:hover {\n",
              "      background-color: #434B5C;\n",
              "      box-shadow: 0px 1px 3px 1px rgba(0, 0, 0, 0.15);\n",
              "      filter: drop-shadow(0px 1px 2px rgba(0, 0, 0, 0.3));\n",
              "      fill: #FFFFFF;\n",
              "    }\n",
              "  </style>\n",
              "\n",
              "      <script>\n",
              "        const buttonEl =\n",
              "          document.querySelector('#df-0816ba02-7b3a-4720-b1d9-2191b15086d2 button.colab-df-convert');\n",
              "        buttonEl.style.display =\n",
              "          google.colab.kernel.accessAllowed ? 'block' : 'none';\n",
              "\n",
              "        async function convertToInteractive(key) {\n",
              "          const element = document.querySelector('#df-0816ba02-7b3a-4720-b1d9-2191b15086d2');\n",
              "          const dataTable =\n",
              "            await google.colab.kernel.invokeFunction('convertToInteractive',\n",
              "                                                     [key], {});\n",
              "          if (!dataTable) return;\n",
              "\n",
              "          const docLinkHtml = 'Like what you see? Visit the ' +\n",
              "            '<a target=\"_blank\" href=https://colab.research.google.com/notebooks/data_table.ipynb>data table notebook</a>'\n",
              "            + ' to learn more about interactive tables.';\n",
              "          element.innerHTML = '';\n",
              "          dataTable['output_type'] = 'display_data';\n",
              "          await google.colab.output.renderOutput(dataTable, element);\n",
              "          const docLink = document.createElement('div');\n",
              "          docLink.innerHTML = docLinkHtml;\n",
              "          element.appendChild(docLink);\n",
              "        }\n",
              "      </script>\n",
              "    </div>\n",
              "  </div>\n",
              "  "
            ]
          },
          "metadata": {},
          "execution_count": 40
        }
      ]
    },
    {
      "cell_type": "markdown",
      "source": [
        "# 2. Data preparation\n",
        "\n",
        "Missing values or errors --> NO\n",
        "\n",
        "Therefore, we dont need to go through this phase."
      ],
      "metadata": {
        "id": "bm__W2kU_Js5"
      }
    },
    {
      "cell_type": "code",
      "source": [
        "# 3. Feature Extraction and Engineering\n",
        "\n",
        "features_names = ['OverallGrade','Obedient','ResearchScore','ProjectScore']\n",
        "training_features = df[features_names]\n",
        "training_features"
      ],
      "metadata": {
        "id": "DgYtlXf24joc"
      },
      "execution_count": null,
      "outputs": []
    },
    {
      "cell_type": "code",
      "source": [
        "outcome_name = ['Recommend']\n",
        "outcome_labels = df[outcome_name]\n",
        "outcome_labels"
      ],
      "metadata": {
        "id": "Xu1W7pAY_QTB"
      },
      "execution_count": null,
      "outputs": []
    },
    {
      "cell_type": "code",
      "source": [
        "training_features"
      ],
      "metadata": {
        "id": "BG6kO8hI_W70"
      },
      "execution_count": null,
      "outputs": []
    },
    {
      "cell_type": "code",
      "source": [
        "numeric_feature_names = ['ResearchScore','ProjectScore']\n",
        "categorical_feature_names = ['OverallGrade','Obedient']"
      ],
      "metadata": {
        "id": "sdF45t0G_ctG"
      },
      "execution_count": null,
      "outputs": []
    },
    {
      "cell_type": "code",
      "source": [
        "training_features[numeric_feature_names]"
      ],
      "metadata": {
        "id": "EnrQY667_nLx"
      },
      "execution_count": null,
      "outputs": []
    },
    {
      "cell_type": "code",
      "source": [
        "from sklearn.preprocessing import StandardScaler\n",
        "ss = StandardScaler()\n",
        "# ss, now u go and study these numeric columns --> i.e. fit() over it\n",
        "ss.fit(training_features[numeric_feature_names])\n",
        "# ss, now appear for the test\n",
        "training_features[numeric_feature_names] = ss.transform(training_features[numeric_feature_names])\n",
        "training_features"
      ],
      "metadata": {
        "id": "miMu14Ow_2u_"
      },
      "execution_count": null,
      "outputs": []
    },
    {
      "cell_type": "code",
      "source": [
        "# Engineering Categorical features\n",
        "\n",
        "training_features = pd.get_dummies(training_features, columns=categorical_feature_names)\n",
        "training_features"
      ],
      "metadata": {
        "id": "bwpRCrYT_8bN"
      },
      "execution_count": null,
      "outputs": []
    },
    {
      "cell_type": "code",
      "source": [
        "training_features.columns"
      ],
      "metadata": {
        "id": "MWXnvQz_ABuD"
      },
      "execution_count": null,
      "outputs": []
    },
    {
      "cell_type": "code",
      "source": [
        "numeric_feature_names"
      ],
      "metadata": {
        "id": "JW8kqozVAFBd"
      },
      "execution_count": null,
      "outputs": []
    },
    {
      "cell_type": "code",
      "source": [
        "list(set(training_features.columns) - set(numeric_feature_names))"
      ],
      "metadata": {
        "id": "9AQhPy01ALwi"
      },
      "execution_count": null,
      "outputs": []
    },
    {
      "cell_type": "code",
      "source": [
        "categorical_engineered_features = list(set(training_features.columns) - set(numeric_feature_names))\n",
        "categorical_engineered_features"
      ],
      "metadata": {
        "id": "_-7VAvm7APi7"
      },
      "execution_count": null,
      "outputs": []
    },
    {
      "cell_type": "code",
      "source": [
        "training_features"
      ],
      "metadata": {
        "id": "2wij-oCWATa2"
      },
      "execution_count": null,
      "outputs": []
    },
    {
      "cell_type": "code",
      "source": [
        "outcome_labels"
      ],
      "metadata": {
        "id": "y32lk7SfAZXA"
      },
      "execution_count": null,
      "outputs": []
    },
    {
      "cell_type": "code",
      "source": [
        "outcome_labels.shape"
      ],
      "metadata": {
        "id": "Ox6hoiZOAd0J"
      },
      "execution_count": null,
      "outputs": []
    },
    {
      "cell_type": "code",
      "source": [
        "y = np.array(outcome_labels['Recommend'])\n",
        "y"
      ],
      "metadata": {
        "id": "dXKmeo72Ai6L"
      },
      "execution_count": null,
      "outputs": []
    },
    {
      "cell_type": "code",
      "source": [
        "y.shape"
      ],
      "metadata": {
        "id": "-dsaa80pAmqV"
      },
      "execution_count": null,
      "outputs": []
    },
    {
      "cell_type": "code",
      "source": [
        "# 4. Modeling\n",
        "\n",
        "from sklearn.linear_model import LogisticRegression\n",
        "lr = LogisticRegression()\n",
        "model = lr.fit(training_features, y )"
      ],
      "metadata": {
        "id": "Sb2CMz99A-Ik"
      },
      "execution_count": null,
      "outputs": []
    },
    {
      "cell_type": "code",
      "source": [
        "print(model)"
      ],
      "metadata": {
        "id": "hwMb_jGSA_bC"
      },
      "execution_count": null,
      "outputs": []
    },
    {
      "cell_type": "code",
      "source": [
        "# 5. Model Evaluation\n",
        "\n",
        "pred_labels = model.predict(training_features)\n",
        "actual_labels = np.array(outcome_labels['Recommend'])\n",
        "print(pred_labels)\n",
        "print()\n",
        "print(actual_labels)"
      ],
      "metadata": {
        "id": "PrCbUccrBHTT"
      },
      "execution_count": null,
      "outputs": []
    },
    {
      "cell_type": "code",
      "source": [
        "model.predict([[0.899583,1.376650,1,0,0,0,0,0,1]])"
      ],
      "metadata": {
        "id": "XPyvKZRwBM6b"
      },
      "execution_count": null,
      "outputs": []
    },
    {
      "cell_type": "code",
      "source": [
        "model.predict([[0.5,0.5,1,0,0,0,0,0,1]])"
      ],
      "metadata": {
        "id": "jLuCLx-4BU1-"
      },
      "execution_count": null,
      "outputs": []
    },
    {
      "cell_type": "code",
      "source": [
        "model.predict([[0.5,0.5,1,0,0,0,0,1,0]])"
      ],
      "metadata": {
        "id": "RYHpono0Bb3I"
      },
      "execution_count": null,
      "outputs": []
    },
    {
      "cell_type": "code",
      "source": [
        "model.predict([[0.5,0.5,0,0,0,0,1,0,1]])"
      ],
      "metadata": {
        "id": "5ilscLHPB6t0"
      },
      "execution_count": null,
      "outputs": []
    },
    {
      "cell_type": "code",
      "source": [
        "print(pred_labels,\"\\n\\n\",actual_labels)"
      ],
      "metadata": {
        "colab": {
          "base_uri": "https://localhost:8080/"
        },
        "id": "LP3N2jj4CC2A",
        "outputId": "f21cd7ca-0dcb-4228-b0b4-f618c51fd458"
      },
      "execution_count": null,
      "outputs": [
        {
          "output_type": "stream",
          "name": "stdout",
          "text": [
            "['Yes' 'Yes' 'No' 'No' 'No' 'Yes' 'No' 'No'] \n",
            "\n",
            " ['Yes' 'Yes' 'No' 'No' 'No' 'Yes' 'No' 'No']\n"
          ]
        }
      ]
    },
    {
      "cell_type": "code",
      "source": [
        "# Performance of the model\n",
        "\n",
        "from sklearn.metrics import accuracy_score, confusion_matrix, classification_report\n",
        "print(\"Accuracy:\\n\")\n",
        "accuracy_score(actual_labels,pred_labels)"
      ],
      "metadata": {
        "colab": {
          "base_uri": "https://localhost:8080/"
        },
        "id": "yGnKpD1SCO3_",
        "outputId": "13fe48f7-5b0a-4c31-ab77-3dd0f42c822d"
      },
      "execution_count": null,
      "outputs": [
        {
          "output_type": "stream",
          "name": "stdout",
          "text": [
            "Accuracy:\n",
            "\n"
          ]
        },
        {
          "output_type": "execute_result",
          "data": {
            "text/plain": [
              "1.0"
            ]
          },
          "metadata": {},
          "execution_count": 67
        }
      ]
    },
    {
      "cell_type": "code",
      "source": [
        "print(\"Confusion Matrix:\\n\")\n",
        "confusion_matrix(actual_labels,pred_labels)"
      ],
      "metadata": {
        "colab": {
          "base_uri": "https://localhost:8080/"
        },
        "id": "XejCLD2ACXpZ",
        "outputId": "e121a528-9076-4565-a112-3a6929229e48"
      },
      "execution_count": null,
      "outputs": [
        {
          "output_type": "stream",
          "name": "stdout",
          "text": [
            "Confusion Matrix:\n",
            "\n"
          ]
        },
        {
          "output_type": "execute_result",
          "data": {
            "text/plain": [
              "array([[5, 0],\n",
              "       [0, 3]])"
            ]
          },
          "metadata": {},
          "execution_count": 68
        }
      ]
    },
    {
      "cell_type": "code",
      "source": [
        "print(\"Classification Report:\\n\")\n",
        "print(classification_report(actual_labels,pred_labels))"
      ],
      "metadata": {
        "colab": {
          "base_uri": "https://localhost:8080/"
        },
        "id": "naL14JDVCcOM",
        "outputId": "d5879994-6033-4ff1-d44b-7eba787e44f5"
      },
      "execution_count": null,
      "outputs": [
        {
          "output_type": "stream",
          "name": "stdout",
          "text": [
            "Classification Report:\n",
            "\n",
            "              precision    recall  f1-score   support\n",
            "\n",
            "          No       1.00      1.00      1.00         5\n",
            "         Yes       1.00      1.00      1.00         3\n",
            "\n",
            "    accuracy                           1.00         8\n",
            "   macro avg       1.00      1.00      1.00         8\n",
            "weighted avg       1.00      1.00      1.00         8\n",
            "\n"
          ]
        }
      ]
    },
    {
      "cell_type": "code",
      "source": [
        "# Model Deployment\n",
        "\n",
        "import joblib\n",
        "import os\n",
        "\n",
        "if not os.path.exists('Model'):\n",
        "    os.mkdir(\"Model\")\n",
        "if not os.path.exists('Scaler'):\n",
        "    os.mkdir(\"Scaler\")\n",
        "    \n",
        "joblib.dump(model,r\"Model/cliet_model.pickle\")\n",
        "joblib.dump(ss,r\"Scaler/client_ss.pickle\")"
      ],
      "metadata": {
        "colab": {
          "base_uri": "https://localhost:8080/"
        },
        "id": "1knxGhbUCfx3",
        "outputId": "c6b3611f-dff9-473c-9422-7aaeaac7dc97"
      },
      "execution_count": null,
      "outputs": [
        {
          "output_type": "execute_result",
          "data": {
            "text/plain": [
              "['Scaler/client_ss.pickle']"
            ]
          },
          "metadata": {},
          "execution_count": 70
        }
      ]
    },
    {
      "cell_type": "code",
      "source": [],
      "metadata": {
        "id": "OMytnI2cCtlB"
      },
      "execution_count": null,
      "outputs": []
    },
    {
      "cell_type": "markdown",
      "source": [
        "**Decision Trees in Python with Scikit-Learn**\n",
        "\n",
        "**Introduction**\n",
        "\n",
        "A decision tree is one of most frequently and widely used supervised machine learning algorithms that can perform both regression and classification tasks.\n",
        "\n",
        "For each attribute in the dataset, the decision tree algorithm forms a node, where the most important attribute is placed at the root node. For evaluation we start at the root node and work our way down the tree by following the corresponding node that meets our condition or \"decision\". This process continues until a leaf node is reached, which contains the prediction or the outcome of the decision tree.\n",
        "\n",
        "Consider a scenario where a person asks you to lend them your car for a day, and you have to make a decision whether or not to lend them the car. There are several factors that help determine your decision, some of which have been listed below:\n",
        "![decison_tree_image.png](data:image/png;base64,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)\")"
      ],
      "metadata": {
        "id": "hXlnF9QBPfaa"
      }
    },
    {
      "cell_type": "markdown",
      "source": [
        "**Advantages of Decision Trees:**\n",
        "\n",
        "There are several advantages of using decision treess for predictive analysis:\n",
        "\n",
        "1) Decision trees can be used to predict both continuous and discrete values i.e. they work well for both regression and classification tasks.\n",
        "\n",
        "2) They require relatively less effort for training the algorithm.\n",
        "\n",
        "3) They can be used to classify non-linearly separable data.\n",
        "\n",
        "4) They're very fast and efficient compared to KNN and other classification algorithms."
      ],
      "metadata": {
        "id": "k3RAeVf_PmrD"
      }
    },
    {
      "cell_type": "markdown",
      "source": [
        "**1. Decision Tree for Classification**\n",
        "\n",
        "Here, we will predict whether a bank note is authentic or fake depending upon the four different attributes of the image of the note. The attributes are Variance of wavelet transformed image, kurtosis of the image, entropy, and skewness of the image."
      ],
      "metadata": {
        "id": "asv8J2jZQXvl"
      }
    },
    {
      "cell_type": "code",
      "source": [
        "# doing the minimum necessary imports\n",
        "# more modules would be imported as and when needed\n",
        "\n",
        "import pandas as pd  \n",
        "import numpy as np  \n",
        "import matplotlib.pyplot as plt  \n",
        "%matplotlib inline\n",
        "#try %matplotlib notebook\n",
        "\n",
        "# reading data from CSV file. \n",
        "# reading bank currency note data into pandas dataframe.\n",
        "bankdata = pd.read_csv(\"/content/drive/MyDrive/ML data/bill_authentication.csv\")  \n",
        "\n",
        "# Exploratory Data Analysis(EDA)\n",
        "print(bankdata.shape)  \n",
        "print(\"------------\")\n",
        "print(bankdata.head()) \n",
        "#class=0 Not fake\n",
        "#Class=1 Fake\n",
        "print(\"------------\")\n",
        "print(bankdata.columns)"
      ],
      "metadata": {
        "colab": {
          "base_uri": "https://localhost:8080/"
        },
        "id": "EQNiboiAQd6f",
        "outputId": "cf0194f1-056f-4312-c385-6732f9c27dcd"
      },
      "execution_count": null,
      "outputs": [
        {
          "output_type": "stream",
          "name": "stdout",
          "text": [
            "(1372, 5)\n",
            "------------\n",
            "   Variance  Skewness  Curtosis  Entropy  Class\n",
            "0   3.62160    8.6661   -2.8073 -0.44699      0\n",
            "1   4.54590    8.1674   -2.4586 -1.46210      0\n",
            "2   3.86600   -2.6383    1.9242  0.10645      0\n",
            "3   3.45660    9.5228   -4.0112 -3.59440      0\n",
            "4   0.32924   -4.4552    4.5718 -0.98880      0\n",
            "------------\n",
            "Index(['Variance', 'Skewness', 'Curtosis', 'Entropy', 'Class'], dtype='object')\n"
          ]
        }
      ]
    },
    {
      "cell_type": "code",
      "source": [
        "# Data Preprocessing\n",
        "# Data preprocessing involves \n",
        "# (1) Dividing the data into attributes and labels and \n",
        "# (2) dividing the data into training and testing sets.\n",
        "\n",
        "# To divide the data into attributes and labels, do :\n",
        "X=bankdata.drop('Class',axis=1)\n",
        "y=bankdata['Class']\n",
        "# the final preprocessing step is to divide data into training and test sets\n",
        "from sklearn.model_selection import train_test_split\n",
        "X_train, X_test, y_train, y_test = train_test_split(X, y, test_size=0.20)\n",
        "# Training the Algorithm. Here we would use DecisionTreeClassifier\n",
        "from sklearn.tree import DecisionTreeClassifier  \n",
        "classifier = DecisionTreeClassifier()  \n",
        "classifier.fit(X_train, y_train)\n",
        "# make predictions on the test data\n",
        "y_pred=classifier.predict(X_test)\n",
        "# Evaluating the Algorithm\n",
        "from sklearn.metrics import classification_report, confusion_matrix  \n",
        "print(\"Confusion Matrix:\\n\",confusion_matrix(y_test, y_pred),\"\\n\")  \n",
        "print(\"\\nclassification_report:\\n\",classification_report(y_test, y_pred))\n",
        "# Remember : for evaluating classification-based ML algo use  \n",
        "# confusion_matrix, classification_report and accuracy_score.\n",
        "# And for evaluating regression-based ML Algo use Mean Squared Error(MSE), ..."
      ],
      "metadata": {
        "colab": {
          "base_uri": "https://localhost:8080/"
        },
        "id": "Cv0Zc-DNRNtb",
        "outputId": "7bac01aa-ecac-440e-ac86-2dda60290fbf"
      },
      "execution_count": null,
      "outputs": [
        {
          "output_type": "stream",
          "name": "stdout",
          "text": [
            "Confusion Matrix:\n",
            " [[144   2]\n",
            " [  4 125]] \n",
            "\n",
            "\n",
            "classification_report:\n",
            "               precision    recall  f1-score   support\n",
            "\n",
            "           0       0.97      0.99      0.98       146\n",
            "           1       0.98      0.97      0.98       129\n",
            "\n",
            "    accuracy                           0.98       275\n",
            "   macro avg       0.98      0.98      0.98       275\n",
            "weighted avg       0.98      0.98      0.98       275\n",
            "\n"
          ]
        }
      ]
    },
    {
      "cell_type": "markdown",
      "source": [
        "**Conclusion :** Try 1: From the confusion matrix, you can see that out of 275 test instances, our algorithm misclassified only 2. This is 98.5% accuracy. This will change everytime depending upon weighted avg precision value. Try 2: From the confusion matrix, you can see that out of 275 test instances, our algorithm misclassified only 2. This is 99.27% accuracy."
      ],
      "metadata": {
        "id": "fsMWrrNxSa0i"
      }
    },
    {
      "cell_type": "code",
      "source": [
        "#Loop the above process\n",
        "from sklearn.model_selection import train_test_split\n",
        "i=1\n",
        "x=0.05\n",
        "test_sz=.85\n",
        "for i in range(1,10):\n",
        " X_train, X_test, y_train, y_test = train_test_split(X, y, test_size=.85-x)\n",
        "\n",
        "\n",
        " # Training the Algorithm. Here we would use DecisionTreeClassifier\n",
        " from sklearn.tree import DecisionTreeClassifier  \n",
        " classifier = DecisionTreeClassifier()  \n",
        " classifier.fit(X_train, y_train)\n",
        "\n",
        " # make predictions on the test data\n",
        " y_pred=classifier.predict(X_test)\n",
        "\n",
        "\n",
        "\n",
        " # Evaluating the Algorithm\n",
        " from sklearn.metrics import classification_report, confusion_matrix\n",
        " print(\"Iteration\",i,\":\\n\")\n",
        " print(\"Confusion Matrix:\\n\",confusion_matrix(y_test, y_pred),\"\\n\")  \n",
        " print(\"\\nclassification_report:\\n\",classification_report(y_test, y_pred))\n",
        " x=test_sz-0.05\n",
        "\n",
        "# Remember : for evaluating classification-based ML algo use  \n",
        "# confusion_matrix, classification_report and accuracy_score.\n",
        "# And for evaluating regression-based ML Algo use Mean Squared Error(MSE), ..."
      ],
      "metadata": {
        "colab": {
          "base_uri": "https://localhost:8080/"
        },
        "id": "K--aGq3iR2PY",
        "outputId": "80fa0aa5-e418-41d5-eb2b-b1cf5bb83386"
      },
      "execution_count": null,
      "outputs": [
        {
          "output_type": "stream",
          "name": "stdout",
          "text": [
            "Iteration 1 :\n",
            "\n",
            "Confusion Matrix:\n",
            " [[588  24]\n",
            " [ 26 460]] \n",
            "\n",
            "\n",
            "classification_report:\n",
            "               precision    recall  f1-score   support\n",
            "\n",
            "           0       0.96      0.96      0.96       612\n",
            "           1       0.95      0.95      0.95       486\n",
            "\n",
            "    accuracy                           0.95      1098\n",
            "   macro avg       0.95      0.95      0.95      1098\n",
            "weighted avg       0.95      0.95      0.95      1098\n",
            "\n",
            "Iteration 2 :\n",
            "\n",
            "Confusion Matrix:\n",
            " [[47  0]\n",
            " [ 0 22]] \n",
            "\n",
            "\n",
            "classification_report:\n",
            "               precision    recall  f1-score   support\n",
            "\n",
            "           0       1.00      1.00      1.00        47\n",
            "           1       1.00      1.00      1.00        22\n",
            "\n",
            "    accuracy                           1.00        69\n",
            "   macro avg       1.00      1.00      1.00        69\n",
            "weighted avg       1.00      1.00      1.00        69\n",
            "\n",
            "Iteration 3 :\n",
            "\n",
            "Confusion Matrix:\n",
            " [[43  1]\n",
            " [ 0 25]] \n",
            "\n",
            "\n",
            "classification_report:\n",
            "               precision    recall  f1-score   support\n",
            "\n",
            "           0       1.00      0.98      0.99        44\n",
            "           1       0.96      1.00      0.98        25\n",
            "\n",
            "    accuracy                           0.99        69\n",
            "   macro avg       0.98      0.99      0.98        69\n",
            "weighted avg       0.99      0.99      0.99        69\n",
            "\n",
            "Iteration 4 :\n",
            "\n",
            "Confusion Matrix:\n",
            " [[33  0]\n",
            " [ 0 36]] \n",
            "\n",
            "\n",
            "classification_report:\n",
            "               precision    recall  f1-score   support\n",
            "\n",
            "           0       1.00      1.00      1.00        33\n",
            "           1       1.00      1.00      1.00        36\n",
            "\n",
            "    accuracy                           1.00        69\n",
            "   macro avg       1.00      1.00      1.00        69\n",
            "weighted avg       1.00      1.00      1.00        69\n",
            "\n",
            "Iteration 5 :\n",
            "\n",
            "Confusion Matrix:\n",
            " [[36  1]\n",
            " [ 1 31]] \n",
            "\n",
            "\n",
            "classification_report:\n",
            "               precision    recall  f1-score   support\n",
            "\n",
            "           0       0.97      0.97      0.97        37\n",
            "           1       0.97      0.97      0.97        32\n",
            "\n",
            "    accuracy                           0.97        69\n",
            "   macro avg       0.97      0.97      0.97        69\n",
            "weighted avg       0.97      0.97      0.97        69\n",
            "\n",
            "Iteration 6 :\n",
            "\n",
            "Confusion Matrix:\n",
            " [[40  0]\n",
            " [ 1 28]] \n",
            "\n",
            "\n",
            "classification_report:\n",
            "               precision    recall  f1-score   support\n",
            "\n",
            "           0       0.98      1.00      0.99        40\n",
            "           1       1.00      0.97      0.98        29\n",
            "\n",
            "    accuracy                           0.99        69\n",
            "   macro avg       0.99      0.98      0.99        69\n",
            "weighted avg       0.99      0.99      0.99        69\n",
            "\n",
            "Iteration 7 :\n",
            "\n",
            "Confusion Matrix:\n",
            " [[39  0]\n",
            " [ 0 30]] \n",
            "\n",
            "\n",
            "classification_report:\n",
            "               precision    recall  f1-score   support\n",
            "\n",
            "           0       1.00      1.00      1.00        39\n",
            "           1       1.00      1.00      1.00        30\n",
            "\n",
            "    accuracy                           1.00        69\n",
            "   macro avg       1.00      1.00      1.00        69\n",
            "weighted avg       1.00      1.00      1.00        69\n",
            "\n",
            "Iteration 8 :\n",
            "\n",
            "Confusion Matrix:\n",
            " [[34  1]\n",
            " [ 0 34]] \n",
            "\n",
            "\n",
            "classification_report:\n",
            "               precision    recall  f1-score   support\n",
            "\n",
            "           0       1.00      0.97      0.99        35\n",
            "           1       0.97      1.00      0.99        34\n",
            "\n",
            "    accuracy                           0.99        69\n",
            "   macro avg       0.99      0.99      0.99        69\n",
            "weighted avg       0.99      0.99      0.99        69\n",
            "\n",
            "Iteration 9 :\n",
            "\n",
            "Confusion Matrix:\n",
            " [[35  0]\n",
            " [ 1 33]] \n",
            "\n",
            "\n",
            "classification_report:\n",
            "               precision    recall  f1-score   support\n",
            "\n",
            "           0       0.97      1.00      0.99        35\n",
            "           1       1.00      0.97      0.99        34\n",
            "\n",
            "    accuracy                           0.99        69\n",
            "   macro avg       0.99      0.99      0.99        69\n",
            "weighted avg       0.99      0.99      0.99        69\n",
            "\n"
          ]
        }
      ]
    },
    {
      "cell_type": "markdown",
      "source": [
        "**2. Decision Tree for Regression**\n",
        "------------------------------------------------------\n",
        "\n",
        "We will petrol_consumption.csv dataset to try and predict gas consumptions (in millions of gallons) in 48 US states based upon gas tax (in cents), per capita income (dollars), paved highways (in miles) and the proportion of population with a drivers license."
      ],
      "metadata": {
        "id": "zCrur9PcS0r8"
      }
    },
    {
      "cell_type": "code",
      "source": [
        "# Importing Libraries\n",
        "import pandas as pd  \n",
        "import numpy as np  \n",
        "import matplotlib.pyplot as plt  \n",
        "%matplotlib inline\n",
        "\n",
        "# Importing the Dataset\n",
        "dataset = pd.read_csv('/content/drive/MyDrive/ML data/petrol_consumption.csv')\n",
        "dataset.head()"
      ],
      "metadata": {
        "colab": {
          "base_uri": "https://localhost:8080/",
          "height": 206
        },
        "id": "ILKMMLpZS8Aa",
        "outputId": "0ca80d9e-16ba-4f76-e913-a7ea8dce6f83"
      },
      "execution_count": null,
      "outputs": [
        {
          "output_type": "execute_result",
          "data": {
            "text/plain": [
              "   Petrol_tax  Average_income  Paved_Highways  Population_Driver_licence(%)  \\\n",
              "0         9.0            3571            1976                         0.525   \n",
              "1         9.0            4092            1250                         0.572   \n",
              "2         9.0            3865            1586                         0.580   \n",
              "3         7.5            4870            2351                         0.529   \n",
              "4         8.0            4399             431                         0.544   \n",
              "\n",
              "   Petrol_Consumption  \n",
              "0                 541  \n",
              "1                 524  \n",
              "2                 561  \n",
              "3                 414  \n",
              "4                 410  "
            ],
            "text/html": [
              "\n",
              "  <div id=\"df-dcd5c3e6-352d-4736-8d0a-4a84dd56431b\">\n",
              "    <div class=\"colab-df-container\">\n",
              "      <div>\n",
              "<style scoped>\n",
              "    .dataframe tbody tr th:only-of-type {\n",
              "        vertical-align: middle;\n",
              "    }\n",
              "\n",
              "    .dataframe tbody tr th {\n",
              "        vertical-align: top;\n",
              "    }\n",
              "\n",
              "    .dataframe thead th {\n",
              "        text-align: right;\n",
              "    }\n",
              "</style>\n",
              "<table border=\"1\" class=\"dataframe\">\n",
              "  <thead>\n",
              "    <tr style=\"text-align: right;\">\n",
              "      <th></th>\n",
              "      <th>Petrol_tax</th>\n",
              "      <th>Average_income</th>\n",
              "      <th>Paved_Highways</th>\n",
              "      <th>Population_Driver_licence(%)</th>\n",
              "      <th>Petrol_Consumption</th>\n",
              "    </tr>\n",
              "  </thead>\n",
              "  <tbody>\n",
              "    <tr>\n",
              "      <th>0</th>\n",
              "      <td>9.0</td>\n",
              "      <td>3571</td>\n",
              "      <td>1976</td>\n",
              "      <td>0.525</td>\n",
              "      <td>541</td>\n",
              "    </tr>\n",
              "    <tr>\n",
              "      <th>1</th>\n",
              "      <td>9.0</td>\n",
              "      <td>4092</td>\n",
              "      <td>1250</td>\n",
              "      <td>0.572</td>\n",
              "      <td>524</td>\n",
              "    </tr>\n",
              "    <tr>\n",
              "      <th>2</th>\n",
              "      <td>9.0</td>\n",
              "      <td>3865</td>\n",
              "      <td>1586</td>\n",
              "      <td>0.580</td>\n",
              "      <td>561</td>\n",
              "    </tr>\n",
              "    <tr>\n",
              "      <th>3</th>\n",
              "      <td>7.5</td>\n",
              "      <td>4870</td>\n",
              "      <td>2351</td>\n",
              "      <td>0.529</td>\n",
              "      <td>414</td>\n",
              "    </tr>\n",
              "    <tr>\n",
              "      <th>4</th>\n",
              "      <td>8.0</td>\n",
              "      <td>4399</td>\n",
              "      <td>431</td>\n",
              "      <td>0.544</td>\n",
              "      <td>410</td>\n",
              "    </tr>\n",
              "  </tbody>\n",
              "</table>\n",
              "</div>\n",
              "      <button class=\"colab-df-convert\" onclick=\"convertToInteractive('df-dcd5c3e6-352d-4736-8d0a-4a84dd56431b')\"\n",
              "              title=\"Convert this dataframe to an interactive table.\"\n",
              "              style=\"display:none;\">\n",
              "        \n",
              "  <svg xmlns=\"http://www.w3.org/2000/svg\" height=\"24px\"viewBox=\"0 0 24 24\"\n",
              "       width=\"24px\">\n",
              "    <path d=\"M0 0h24v24H0V0z\" fill=\"none\"/>\n",
              "    <path d=\"M18.56 5.44l.94 2.06.94-2.06 2.06-.94-2.06-.94-.94-2.06-.94 2.06-2.06.94zm-11 1L8.5 8.5l.94-2.06 2.06-.94-2.06-.94L8.5 2.5l-.94 2.06-2.06.94zm10 10l.94 2.06.94-2.06 2.06-.94-2.06-.94-.94-2.06-.94 2.06-2.06.94z\"/><path d=\"M17.41 7.96l-1.37-1.37c-.4-.4-.92-.59-1.43-.59-.52 0-1.04.2-1.43.59L10.3 9.45l-7.72 7.72c-.78.78-.78 2.05 0 2.83L4 21.41c.39.39.9.59 1.41.59.51 0 1.02-.2 1.41-.59l7.78-7.78 2.81-2.81c.8-.78.8-2.07 0-2.86zM5.41 20L4 18.59l7.72-7.72 1.47 1.35L5.41 20z\"/>\n",
              "  </svg>\n",
              "      </button>\n",
              "      \n",
              "  <style>\n",
              "    .colab-df-container {\n",
              "      display:flex;\n",
              "      flex-wrap:wrap;\n",
              "      gap: 12px;\n",
              "    }\n",
              "\n",
              "    .colab-df-convert {\n",
              "      background-color: #E8F0FE;\n",
              "      border: none;\n",
              "      border-radius: 50%;\n",
              "      cursor: pointer;\n",
              "      display: none;\n",
              "      fill: #1967D2;\n",
              "      height: 32px;\n",
              "      padding: 0 0 0 0;\n",
              "      width: 32px;\n",
              "    }\n",
              "\n",
              "    .colab-df-convert:hover {\n",
              "      background-color: #E2EBFA;\n",
              "      box-shadow: 0px 1px 2px rgba(60, 64, 67, 0.3), 0px 1px 3px 1px rgba(60, 64, 67, 0.15);\n",
              "      fill: #174EA6;\n",
              "    }\n",
              "\n",
              "    [theme=dark] .colab-df-convert {\n",
              "      background-color: #3B4455;\n",
              "      fill: #D2E3FC;\n",
              "    }\n",
              "\n",
              "    [theme=dark] .colab-df-convert:hover {\n",
              "      background-color: #434B5C;\n",
              "      box-shadow: 0px 1px 3px 1px rgba(0, 0, 0, 0.15);\n",
              "      filter: drop-shadow(0px 1px 2px rgba(0, 0, 0, 0.3));\n",
              "      fill: #FFFFFF;\n",
              "    }\n",
              "  </style>\n",
              "\n",
              "      <script>\n",
              "        const buttonEl =\n",
              "          document.querySelector('#df-dcd5c3e6-352d-4736-8d0a-4a84dd56431b button.colab-df-convert');\n",
              "        buttonEl.style.display =\n",
              "          google.colab.kernel.accessAllowed ? 'block' : 'none';\n",
              "\n",
              "        async function convertToInteractive(key) {\n",
              "          const element = document.querySelector('#df-dcd5c3e6-352d-4736-8d0a-4a84dd56431b');\n",
              "          const dataTable =\n",
              "            await google.colab.kernel.invokeFunction('convertToInteractive',\n",
              "                                                     [key], {});\n",
              "          if (!dataTable) return;\n",
              "\n",
              "          const docLinkHtml = 'Like what you see? Visit the ' +\n",
              "            '<a target=\"_blank\" href=https://colab.research.google.com/notebooks/data_table.ipynb>data table notebook</a>'\n",
              "            + ' to learn more about interactive tables.';\n",
              "          element.innerHTML = '';\n",
              "          dataTable['output_type'] = 'display_data';\n",
              "          await google.colab.output.renderOutput(dataTable, element);\n",
              "          const docLink = document.createElement('div');\n",
              "          docLink.innerHTML = docLinkHtml;\n",
              "          element.appendChild(docLink);\n",
              "        }\n",
              "      </script>\n",
              "    </div>\n",
              "  </div>\n",
              "  "
            ]
          },
          "metadata": {},
          "execution_count": 1
        }
      ]
    },
    {
      "cell_type": "code",
      "source": [
        "# To see statistical details of the dataset, execute the following command:\n",
        "dataset.describe()"
      ],
      "metadata": {
        "colab": {
          "base_uri": "https://localhost:8080/",
          "height": 300
        },
        "id": "IyZ7qpdVSrga",
        "outputId": "00f6c9f9-a7e2-4f2e-f423-468d3d38e245"
      },
      "execution_count": null,
      "outputs": [
        {
          "output_type": "execute_result",
          "data": {
            "text/plain": [
              "       Petrol_tax  Average_income  Paved_Highways  \\\n",
              "count   48.000000       48.000000       48.000000   \n",
              "mean     7.668333     4241.833333     5565.416667   \n",
              "std      0.950770      573.623768     3491.507166   \n",
              "min      5.000000     3063.000000      431.000000   \n",
              "25%      7.000000     3739.000000     3110.250000   \n",
              "50%      7.500000     4298.000000     4735.500000   \n",
              "75%      8.125000     4578.750000     7156.000000   \n",
              "max     10.000000     5342.000000    17782.000000   \n",
              "\n",
              "       Population_Driver_licence(%)  Petrol_Consumption  \n",
              "count                     48.000000           48.000000  \n",
              "mean                       0.570333          576.770833  \n",
              "std                        0.055470          111.885816  \n",
              "min                        0.451000          344.000000  \n",
              "25%                        0.529750          509.500000  \n",
              "50%                        0.564500          568.500000  \n",
              "75%                        0.595250          632.750000  \n",
              "max                        0.724000          968.000000  "
            ],
            "text/html": [
              "\n",
              "  <div id=\"df-a3ccd551-f035-47ac-a0d3-8255c990b1f5\">\n",
              "    <div class=\"colab-df-container\">\n",
              "      <div>\n",
              "<style scoped>\n",
              "    .dataframe tbody tr th:only-of-type {\n",
              "        vertical-align: middle;\n",
              "    }\n",
              "\n",
              "    .dataframe tbody tr th {\n",
              "        vertical-align: top;\n",
              "    }\n",
              "\n",
              "    .dataframe thead th {\n",
              "        text-align: right;\n",
              "    }\n",
              "</style>\n",
              "<table border=\"1\" class=\"dataframe\">\n",
              "  <thead>\n",
              "    <tr style=\"text-align: right;\">\n",
              "      <th></th>\n",
              "      <th>Petrol_tax</th>\n",
              "      <th>Average_income</th>\n",
              "      <th>Paved_Highways</th>\n",
              "      <th>Population_Driver_licence(%)</th>\n",
              "      <th>Petrol_Consumption</th>\n",
              "    </tr>\n",
              "  </thead>\n",
              "  <tbody>\n",
              "    <tr>\n",
              "      <th>count</th>\n",
              "      <td>48.000000</td>\n",
              "      <td>48.000000</td>\n",
              "      <td>48.000000</td>\n",
              "      <td>48.000000</td>\n",
              "      <td>48.000000</td>\n",
              "    </tr>\n",
              "    <tr>\n",
              "      <th>mean</th>\n",
              "      <td>7.668333</td>\n",
              "      <td>4241.833333</td>\n",
              "      <td>5565.416667</td>\n",
              "      <td>0.570333</td>\n",
              "      <td>576.770833</td>\n",
              "    </tr>\n",
              "    <tr>\n",
              "      <th>std</th>\n",
              "      <td>0.950770</td>\n",
              "      <td>573.623768</td>\n",
              "      <td>3491.507166</td>\n",
              "      <td>0.055470</td>\n",
              "      <td>111.885816</td>\n",
              "    </tr>\n",
              "    <tr>\n",
              "      <th>min</th>\n",
              "      <td>5.000000</td>\n",
              "      <td>3063.000000</td>\n",
              "      <td>431.000000</td>\n",
              "      <td>0.451000</td>\n",
              "      <td>344.000000</td>\n",
              "    </tr>\n",
              "    <tr>\n",
              "      <th>25%</th>\n",
              "      <td>7.000000</td>\n",
              "      <td>3739.000000</td>\n",
              "      <td>3110.250000</td>\n",
              "      <td>0.529750</td>\n",
              "      <td>509.500000</td>\n",
              "    </tr>\n",
              "    <tr>\n",
              "      <th>50%</th>\n",
              "      <td>7.500000</td>\n",
              "      <td>4298.000000</td>\n",
              "      <td>4735.500000</td>\n",
              "      <td>0.564500</td>\n",
              "      <td>568.500000</td>\n",
              "    </tr>\n",
              "    <tr>\n",
              "      <th>75%</th>\n",
              "      <td>8.125000</td>\n",
              "      <td>4578.750000</td>\n",
              "      <td>7156.000000</td>\n",
              "      <td>0.595250</td>\n",
              "      <td>632.750000</td>\n",
              "    </tr>\n",
              "    <tr>\n",
              "      <th>max</th>\n",
              "      <td>10.000000</td>\n",
              "      <td>5342.000000</td>\n",
              "      <td>17782.000000</td>\n",
              "      <td>0.724000</td>\n",
              "      <td>968.000000</td>\n",
              "    </tr>\n",
              "  </tbody>\n",
              "</table>\n",
              "</div>\n",
              "      <button class=\"colab-df-convert\" onclick=\"convertToInteractive('df-a3ccd551-f035-47ac-a0d3-8255c990b1f5')\"\n",
              "              title=\"Convert this dataframe to an interactive table.\"\n",
              "              style=\"display:none;\">\n",
              "        \n",
              "  <svg xmlns=\"http://www.w3.org/2000/svg\" height=\"24px\"viewBox=\"0 0 24 24\"\n",
              "       width=\"24px\">\n",
              "    <path d=\"M0 0h24v24H0V0z\" fill=\"none\"/>\n",
              "    <path d=\"M18.56 5.44l.94 2.06.94-2.06 2.06-.94-2.06-.94-.94-2.06-.94 2.06-2.06.94zm-11 1L8.5 8.5l.94-2.06 2.06-.94-2.06-.94L8.5 2.5l-.94 2.06-2.06.94zm10 10l.94 2.06.94-2.06 2.06-.94-2.06-.94-.94-2.06-.94 2.06-2.06.94z\"/><path d=\"M17.41 7.96l-1.37-1.37c-.4-.4-.92-.59-1.43-.59-.52 0-1.04.2-1.43.59L10.3 9.45l-7.72 7.72c-.78.78-.78 2.05 0 2.83L4 21.41c.39.39.9.59 1.41.59.51 0 1.02-.2 1.41-.59l7.78-7.78 2.81-2.81c.8-.78.8-2.07 0-2.86zM5.41 20L4 18.59l7.72-7.72 1.47 1.35L5.41 20z\"/>\n",
              "  </svg>\n",
              "      </button>\n",
              "      \n",
              "  <style>\n",
              "    .colab-df-container {\n",
              "      display:flex;\n",
              "      flex-wrap:wrap;\n",
              "      gap: 12px;\n",
              "    }\n",
              "\n",
              "    .colab-df-convert {\n",
              "      background-color: #E8F0FE;\n",
              "      border: none;\n",
              "      border-radius: 50%;\n",
              "      cursor: pointer;\n",
              "      display: none;\n",
              "      fill: #1967D2;\n",
              "      height: 32px;\n",
              "      padding: 0 0 0 0;\n",
              "      width: 32px;\n",
              "    }\n",
              "\n",
              "    .colab-df-convert:hover {\n",
              "      background-color: #E2EBFA;\n",
              "      box-shadow: 0px 1px 2px rgba(60, 64, 67, 0.3), 0px 1px 3px 1px rgba(60, 64, 67, 0.15);\n",
              "      fill: #174EA6;\n",
              "    }\n",
              "\n",
              "    [theme=dark] .colab-df-convert {\n",
              "      background-color: #3B4455;\n",
              "      fill: #D2E3FC;\n",
              "    }\n",
              "\n",
              "    [theme=dark] .colab-df-convert:hover {\n",
              "      background-color: #434B5C;\n",
              "      box-shadow: 0px 1px 3px 1px rgba(0, 0, 0, 0.15);\n",
              "      filter: drop-shadow(0px 1px 2px rgba(0, 0, 0, 0.3));\n",
              "      fill: #FFFFFF;\n",
              "    }\n",
              "  </style>\n",
              "\n",
              "      <script>\n",
              "        const buttonEl =\n",
              "          document.querySelector('#df-a3ccd551-f035-47ac-a0d3-8255c990b1f5 button.colab-df-convert');\n",
              "        buttonEl.style.display =\n",
              "          google.colab.kernel.accessAllowed ? 'block' : 'none';\n",
              "\n",
              "        async function convertToInteractive(key) {\n",
              "          const element = document.querySelector('#df-a3ccd551-f035-47ac-a0d3-8255c990b1f5');\n",
              "          const dataTable =\n",
              "            await google.colab.kernel.invokeFunction('convertToInteractive',\n",
              "                                                     [key], {});\n",
              "          if (!dataTable) return;\n",
              "\n",
              "          const docLinkHtml = 'Like what you see? Visit the ' +\n",
              "            '<a target=\"_blank\" href=https://colab.research.google.com/notebooks/data_table.ipynb>data table notebook</a>'\n",
              "            + ' to learn more about interactive tables.';\n",
              "          element.innerHTML = '';\n",
              "          dataTable['output_type'] = 'display_data';\n",
              "          await google.colab.output.renderOutput(dataTable, element);\n",
              "          const docLink = document.createElement('div');\n",
              "          docLink.innerHTML = docLinkHtml;\n",
              "          element.appendChild(docLink);\n",
              "        }\n",
              "      </script>\n",
              "    </div>\n",
              "  </div>\n",
              "  "
            ]
          },
          "metadata": {},
          "execution_count": 6
        }
      ]
    },
    {
      "cell_type": "code",
      "source": [
        "# Preparing the Data\n",
        "# divide the data into attributes and labels\n",
        "\n",
        "X = dataset.drop('Petrol_Consumption', axis=1)  \n",
        "y = dataset['Petrol_Consumption']  \n",
        "# dividing data into training and testing set\n",
        "from sklearn.model_selection import train_test_split\n",
        "X_train, X_test, y_train, y_test = train_test_split(X, y, test_size=0.10,random_state=0)\n",
        "# Training and Making Predictions\n",
        "# Note : we will using DecisionTreeRegressor class , not DecisionTreeClassifier\n",
        "from sklearn.tree import DecisionTreeRegressor \n",
        "regressor = DecisionTreeRegressor()  \n",
        "regressor.fit(X_train, y_train)\n",
        "# To make predictions on the test set, \n",
        "y_pred = regressor.predict(X_test)  \n",
        "# Now let's compare some of our predicted values with the actual values \n",
        "df=pd.DataFrame({'Actual':y_test, 'Predicted':y_pred})  \n",
        "df  "
      ],
      "metadata": {
        "colab": {
          "base_uri": "https://localhost:8080/",
          "height": 206
        },
        "id": "PNPBnD0qTfxo",
        "outputId": "65c1feea-9b5e-4a27-aa6f-986b213f7c7b"
      },
      "execution_count": null,
      "outputs": [
        {
          "output_type": "execute_result",
          "data": {
            "text/plain": [
              "    Actual  Predicted\n",
              "29     534      541.0\n",
              "4      410      524.0\n",
              "26     577      487.0\n",
              "30     571      554.0\n",
              "32     577      487.0"
            ],
            "text/html": [
              "\n",
              "  <div id=\"df-ca52e0be-f9ee-44fe-b5a1-31a12e1d77f0\">\n",
              "    <div class=\"colab-df-container\">\n",
              "      <div>\n",
              "<style scoped>\n",
              "    .dataframe tbody tr th:only-of-type {\n",
              "        vertical-align: middle;\n",
              "    }\n",
              "\n",
              "    .dataframe tbody tr th {\n",
              "        vertical-align: top;\n",
              "    }\n",
              "\n",
              "    .dataframe thead th {\n",
              "        text-align: right;\n",
              "    }\n",
              "</style>\n",
              "<table border=\"1\" class=\"dataframe\">\n",
              "  <thead>\n",
              "    <tr style=\"text-align: right;\">\n",
              "      <th></th>\n",
              "      <th>Actual</th>\n",
              "      <th>Predicted</th>\n",
              "    </tr>\n",
              "  </thead>\n",
              "  <tbody>\n",
              "    <tr>\n",
              "      <th>29</th>\n",
              "      <td>534</td>\n",
              "      <td>541.0</td>\n",
              "    </tr>\n",
              "    <tr>\n",
              "      <th>4</th>\n",
              "      <td>410</td>\n",
              "      <td>524.0</td>\n",
              "    </tr>\n",
              "    <tr>\n",
              "      <th>26</th>\n",
              "      <td>577</td>\n",
              "      <td>487.0</td>\n",
              "    </tr>\n",
              "    <tr>\n",
              "      <th>30</th>\n",
              "      <td>571</td>\n",
              "      <td>554.0</td>\n",
              "    </tr>\n",
              "    <tr>\n",
              "      <th>32</th>\n",
              "      <td>577</td>\n",
              "      <td>487.0</td>\n",
              "    </tr>\n",
              "  </tbody>\n",
              "</table>\n",
              "</div>\n",
              "      <button class=\"colab-df-convert\" onclick=\"convertToInteractive('df-ca52e0be-f9ee-44fe-b5a1-31a12e1d77f0')\"\n",
              "              title=\"Convert this dataframe to an interactive table.\"\n",
              "              style=\"display:none;\">\n",
              "        \n",
              "  <svg xmlns=\"http://www.w3.org/2000/svg\" height=\"24px\"viewBox=\"0 0 24 24\"\n",
              "       width=\"24px\">\n",
              "    <path d=\"M0 0h24v24H0V0z\" fill=\"none\"/>\n",
              "    <path d=\"M18.56 5.44l.94 2.06.94-2.06 2.06-.94-2.06-.94-.94-2.06-.94 2.06-2.06.94zm-11 1L8.5 8.5l.94-2.06 2.06-.94-2.06-.94L8.5 2.5l-.94 2.06-2.06.94zm10 10l.94 2.06.94-2.06 2.06-.94-2.06-.94-.94-2.06-.94 2.06-2.06.94z\"/><path d=\"M17.41 7.96l-1.37-1.37c-.4-.4-.92-.59-1.43-.59-.52 0-1.04.2-1.43.59L10.3 9.45l-7.72 7.72c-.78.78-.78 2.05 0 2.83L4 21.41c.39.39.9.59 1.41.59.51 0 1.02-.2 1.41-.59l7.78-7.78 2.81-2.81c.8-.78.8-2.07 0-2.86zM5.41 20L4 18.59l7.72-7.72 1.47 1.35L5.41 20z\"/>\n",
              "  </svg>\n",
              "      </button>\n",
              "      \n",
              "  <style>\n",
              "    .colab-df-container {\n",
              "      display:flex;\n",
              "      flex-wrap:wrap;\n",
              "      gap: 12px;\n",
              "    }\n",
              "\n",
              "    .colab-df-convert {\n",
              "      background-color: #E8F0FE;\n",
              "      border: none;\n",
              "      border-radius: 50%;\n",
              "      cursor: pointer;\n",
              "      display: none;\n",
              "      fill: #1967D2;\n",
              "      height: 32px;\n",
              "      padding: 0 0 0 0;\n",
              "      width: 32px;\n",
              "    }\n",
              "\n",
              "    .colab-df-convert:hover {\n",
              "      background-color: #E2EBFA;\n",
              "      box-shadow: 0px 1px 2px rgba(60, 64, 67, 0.3), 0px 1px 3px 1px rgba(60, 64, 67, 0.15);\n",
              "      fill: #174EA6;\n",
              "    }\n",
              "\n",
              "    [theme=dark] .colab-df-convert {\n",
              "      background-color: #3B4455;\n",
              "      fill: #D2E3FC;\n",
              "    }\n",
              "\n",
              "    [theme=dark] .colab-df-convert:hover {\n",
              "      background-color: #434B5C;\n",
              "      box-shadow: 0px 1px 3px 1px rgba(0, 0, 0, 0.15);\n",
              "      filter: drop-shadow(0px 1px 2px rgba(0, 0, 0, 0.3));\n",
              "      fill: #FFFFFF;\n",
              "    }\n",
              "  </style>\n",
              "\n",
              "      <script>\n",
              "        const buttonEl =\n",
              "          document.querySelector('#df-ca52e0be-f9ee-44fe-b5a1-31a12e1d77f0 button.colab-df-convert');\n",
              "        buttonEl.style.display =\n",
              "          google.colab.kernel.accessAllowed ? 'block' : 'none';\n",
              "\n",
              "        async function convertToInteractive(key) {\n",
              "          const element = document.querySelector('#df-ca52e0be-f9ee-44fe-b5a1-31a12e1d77f0');\n",
              "          const dataTable =\n",
              "            await google.colab.kernel.invokeFunction('convertToInteractive',\n",
              "                                                     [key], {});\n",
              "          if (!dataTable) return;\n",
              "\n",
              "          const docLinkHtml = 'Like what you see? Visit the ' +\n",
              "            '<a target=\"_blank\" href=https://colab.research.google.com/notebooks/data_table.ipynb>data table notebook</a>'\n",
              "            + ' to learn more about interactive tables.';\n",
              "          element.innerHTML = '';\n",
              "          dataTable['output_type'] = 'display_data';\n",
              "          await google.colab.output.renderOutput(dataTable, element);\n",
              "          const docLink = document.createElement('div');\n",
              "          docLink.innerHTML = docLinkHtml;\n",
              "          element.appendChild(docLink);\n",
              "        }\n",
              "      </script>\n",
              "    </div>\n",
              "  </div>\n",
              "  "
            ]
          },
          "metadata": {},
          "execution_count": 7
        }
      ]
    },
    {
      "cell_type": "markdown",
      "source": [
        "**Remember :\n",
        "\n",
        "that in your case the records compared may be different, depending upon the training and testing split. Since the train_test_split method randomly splits the data we likely won't have the same training and test sets."
      ],
      "metadata": {
        "id": "T6cwU6ebTus8"
      }
    },
    {
      "cell_type": "code",
      "source": [
        "# Evaluating the Algorithm\n",
        "from sklearn import metrics  \n",
        "print('Mean Absolute Error:', metrics.mean_absolute_error(y_test, y_pred))  \n",
        "print('Mean Squared Error:', metrics.mean_squared_error(y_test, y_pred))  \n",
        "print('Root Mean Squared Error:', np.sqrt(metrics.mean_squared_error(y_test, y_pred)))  "
      ],
      "metadata": {
        "colab": {
          "base_uri": "https://localhost:8080/"
        },
        "id": "aSj8-eeeTk5x",
        "outputId": "9af0f2b2-f601-43c7-dae7-4a82734ebfb1"
      },
      "execution_count": null,
      "outputs": [
        {
          "output_type": "stream",
          "name": "stdout",
          "text": [
            "Mean Absolute Error: 63.6\n",
            "Mean Squared Error: 5906.8\n",
            "Root Mean Squared Error: 76.855708961664\n"
          ]
        }
      ]
    },
    {
      "cell_type": "markdown",
      "source": [
        "The mean absolute error for our algorithm is 56.09, which is less than 10% of 576.77 i.e. 57.677 of all the values in the 'Petrol_Consumption' column. This means that our algorithm did a fine prediction job. All though getting a value <10% would have been better.\n",
        "\n",
        "Lets find another model for prediction which gives rmse within 57.6(i.e. 10% of 576)"
      ],
      "metadata": {
        "id": "LhAb5RQ7Uagg"
      }
    },
    {
      "cell_type": "code",
      "source": [
        "dataset = pd.read_csv('/content/drive/MyDrive/ML data/petrol_consumption.csv')\n",
        "print(dataset.head())\n",
        "print(\".......................\")\n",
        "print(dataset.describe())"
      ],
      "metadata": {
        "colab": {
          "base_uri": "https://localhost:8080/"
        },
        "id": "4n4v5mNOT3jz",
        "outputId": "ab00d443-48f5-47fc-b95d-9ba0cc6322f0"
      },
      "execution_count": null,
      "outputs": [
        {
          "output_type": "stream",
          "name": "stdout",
          "text": [
            "   Petrol_tax  Average_income  Paved_Highways  Population_Driver_licence(%)  \\\n",
            "0         9.0            3571            1976                         0.525   \n",
            "1         9.0            4092            1250                         0.572   \n",
            "2         9.0            3865            1586                         0.580   \n",
            "3         7.5            4870            2351                         0.529   \n",
            "4         8.0            4399             431                         0.544   \n",
            "\n",
            "   Petrol_Consumption  \n",
            "0                 541  \n",
            "1                 524  \n",
            "2                 561  \n",
            "3                 414  \n",
            "4                 410  \n",
            ".......................\n",
            "       Petrol_tax  Average_income  Paved_Highways  \\\n",
            "count   48.000000       48.000000       48.000000   \n",
            "mean     7.668333     4241.833333     5565.416667   \n",
            "std      0.950770      573.623768     3491.507166   \n",
            "min      5.000000     3063.000000      431.000000   \n",
            "25%      7.000000     3739.000000     3110.250000   \n",
            "50%      7.500000     4298.000000     4735.500000   \n",
            "75%      8.125000     4578.750000     7156.000000   \n",
            "max     10.000000     5342.000000    17782.000000   \n",
            "\n",
            "       Population_Driver_licence(%)  Petrol_Consumption  \n",
            "count                     48.000000           48.000000  \n",
            "mean                       0.570333          576.770833  \n",
            "std                        0.055470          111.885816  \n",
            "min                        0.451000          344.000000  \n",
            "25%                        0.529750          509.500000  \n",
            "50%                        0.564500          568.500000  \n",
            "75%                        0.595250          632.750000  \n",
            "max                        0.724000          968.000000  \n"
          ]
        }
      ]
    },
    {
      "cell_type": "code",
      "source": [
        "X = dataset.drop('Petrol_Consumption', axis=1)  \n",
        "y = dataset['Petrol_Consumption']"
      ],
      "metadata": {
        "id": "1Ptr_EdhXJrH"
      },
      "execution_count": null,
      "outputs": []
    },
    {
      "cell_type": "code",
      "source": [
        "from sklearn.model_selection import train_test_split  \n",
        "X_train, X_test, y_train, y_test = train_test_split(X, y, test_size=0., random_state=0) #default tset_size=0.25,\n",
        "                                                                                            #random_state=seedvalue\n",
        "\n",
        "# Training the Algorithm\n",
        "from sklearn.linear_model import LinearRegression  \n",
        "regressor = LinearRegression()  \n",
        "regressor.fit(X_train, y_train)"
      ],
      "metadata": {
        "colab": {
          "base_uri": "https://localhost:8080/",
          "height": 75
        },
        "id": "wwoBslt0XnHR",
        "outputId": "67433824-b0ca-40ca-c98e-91b73d5f920c"
      },
      "execution_count": null,
      "outputs": [
        {
          "output_type": "execute_result",
          "data": {
            "text/plain": [
              "LinearRegression()"
            ],
            "text/html": [
              "<style>#sk-container-id-2 {color: black;background-color: white;}#sk-container-id-2 pre{padding: 0;}#sk-container-id-2 div.sk-toggleable {background-color: white;}#sk-container-id-2 label.sk-toggleable__label {cursor: pointer;display: block;width: 100%;margin-bottom: 0;padding: 0.3em;box-sizing: border-box;text-align: center;}#sk-container-id-2 label.sk-toggleable__label-arrow:before {content: \"▸\";float: left;margin-right: 0.25em;color: #696969;}#sk-container-id-2 label.sk-toggleable__label-arrow:hover:before {color: black;}#sk-container-id-2 div.sk-estimator:hover label.sk-toggleable__label-arrow:before {color: black;}#sk-container-id-2 div.sk-toggleable__content {max-height: 0;max-width: 0;overflow: hidden;text-align: left;background-color: #f0f8ff;}#sk-container-id-2 div.sk-toggleable__content pre {margin: 0.2em;color: black;border-radius: 0.25em;background-color: #f0f8ff;}#sk-container-id-2 input.sk-toggleable__control:checked~div.sk-toggleable__content {max-height: 200px;max-width: 100%;overflow: auto;}#sk-container-id-2 input.sk-toggleable__control:checked~label.sk-toggleable__label-arrow:before {content: \"▾\";}#sk-container-id-2 div.sk-estimator input.sk-toggleable__control:checked~label.sk-toggleable__label {background-color: #d4ebff;}#sk-container-id-2 div.sk-label input.sk-toggleable__control:checked~label.sk-toggleable__label {background-color: #d4ebff;}#sk-container-id-2 input.sk-hidden--visually {border: 0;clip: rect(1px 1px 1px 1px);clip: rect(1px, 1px, 1px, 1px);height: 1px;margin: -1px;overflow: hidden;padding: 0;position: absolute;width: 1px;}#sk-container-id-2 div.sk-estimator {font-family: monospace;background-color: #f0f8ff;border: 1px dotted black;border-radius: 0.25em;box-sizing: border-box;margin-bottom: 0.5em;}#sk-container-id-2 div.sk-estimator:hover {background-color: #d4ebff;}#sk-container-id-2 div.sk-parallel-item::after {content: \"\";width: 100%;border-bottom: 1px solid gray;flex-grow: 1;}#sk-container-id-2 div.sk-label:hover label.sk-toggleable__label {background-color: #d4ebff;}#sk-container-id-2 div.sk-serial::before {content: \"\";position: absolute;border-left: 1px solid gray;box-sizing: border-box;top: 0;bottom: 0;left: 50%;z-index: 0;}#sk-container-id-2 div.sk-serial {display: flex;flex-direction: column;align-items: center;background-color: white;padding-right: 0.2em;padding-left: 0.2em;position: relative;}#sk-container-id-2 div.sk-item {position: relative;z-index: 1;}#sk-container-id-2 div.sk-parallel {display: flex;align-items: stretch;justify-content: center;background-color: white;position: relative;}#sk-container-id-2 div.sk-item::before, #sk-container-id-2 div.sk-parallel-item::before {content: \"\";position: absolute;border-left: 1px solid gray;box-sizing: border-box;top: 0;bottom: 0;left: 50%;z-index: -1;}#sk-container-id-2 div.sk-parallel-item {display: flex;flex-direction: column;z-index: 1;position: relative;background-color: white;}#sk-container-id-2 div.sk-parallel-item:first-child::after {align-self: flex-end;width: 50%;}#sk-container-id-2 div.sk-parallel-item:last-child::after {align-self: flex-start;width: 50%;}#sk-container-id-2 div.sk-parallel-item:only-child::after {width: 0;}#sk-container-id-2 div.sk-dashed-wrapped {border: 1px dashed gray;margin: 0 0.4em 0.5em 0.4em;box-sizing: border-box;padding-bottom: 0.4em;background-color: white;}#sk-container-id-2 div.sk-label label {font-family: monospace;font-weight: bold;display: inline-block;line-height: 1.2em;}#sk-container-id-2 div.sk-label-container {text-align: center;}#sk-container-id-2 div.sk-container {/* jupyter's `normalize.less` sets `[hidden] { display: none; }` but bootstrap.min.css set `[hidden] { display: none !important; }` so we also need the `!important` here to be able to override the default hidden behavior on the sphinx rendered scikit-learn.org. See: https://github.com/scikit-learn/scikit-learn/issues/21755 */display: inline-block !important;position: relative;}#sk-container-id-2 div.sk-text-repr-fallback {display: none;}</style><div id=\"sk-container-id-2\" class=\"sk-top-container\"><div class=\"sk-text-repr-fallback\"><pre>LinearRegression()</pre><b>In a Jupyter environment, please rerun this cell to show the HTML representation or trust the notebook. <br />On GitHub, the HTML representation is unable to render, please try loading this page with nbviewer.org.</b></div><div class=\"sk-container\" hidden><div class=\"sk-item\"><div class=\"sk-estimator sk-toggleable\"><input class=\"sk-toggleable__control sk-hidden--visually\" id=\"sk-estimator-id-2\" type=\"checkbox\" checked><label for=\"sk-estimator-id-2\" class=\"sk-toggleable__label sk-toggleable__label-arrow\">LinearRegression</label><div class=\"sk-toggleable__content\"><pre>LinearRegression()</pre></div></div></div></div></div>"
            ]
          },
          "metadata": {},
          "execution_count": 14
        }
      ]
    },
    {
      "cell_type": "code",
      "source": [
        "y_pred = regressor.predict(X_test)  \n",
        "# Now let's compare some of our predicted values with the actual values \n",
        "df=pd.DataFrame({'Actual':y_test, 'Predicted':y_pred})  \n",
        "df"
      ],
      "metadata": {
        "colab": {
          "base_uri": "https://localhost:8080/",
          "height": 802
        },
        "id": "l2Us6f_LXxfv",
        "outputId": "6be16ee2-884f-4222-e92d-90bd3c572308"
      },
      "execution_count": null,
      "outputs": [
        {
          "output_type": "execute_result",
          "data": {
            "text/plain": [
              "    Actual   Predicted\n",
              "29     534  468.446949\n",
              "4      410  550.475773\n",
              "26     577  589.922533\n",
              "30     571  572.151628\n",
              "32     577  648.442611\n",
              "37     704  645.441003\n",
              "34     487  517.913312\n",
              "40     587  669.802235\n",
              "7      467  499.668226\n",
              "10     580  496.656659\n",
              "11     471  406.347089\n",
              "31     554  589.356261\n",
              "33     628  625.694916\n",
              "27     631  600.115638\n",
              "47     524  554.212026\n",
              "2      561  582.575412\n",
              "46     610  680.359903\n",
              "18     865  769.369480\n",
              "15     635  589.741398\n",
              "28     574  553.409075\n",
              "22     464  414.937462\n",
              "16     603  591.583736\n",
              "41     699  648.467615\n",
              "20     649  686.483997"
            ],
            "text/html": [
              "\n",
              "  <div id=\"df-5217e57b-e886-466a-b09a-1656d9780ecd\">\n",
              "    <div class=\"colab-df-container\">\n",
              "      <div>\n",
              "<style scoped>\n",
              "    .dataframe tbody tr th:only-of-type {\n",
              "        vertical-align: middle;\n",
              "    }\n",
              "\n",
              "    .dataframe tbody tr th {\n",
              "        vertical-align: top;\n",
              "    }\n",
              "\n",
              "    .dataframe thead th {\n",
              "        text-align: right;\n",
              "    }\n",
              "</style>\n",
              "<table border=\"1\" class=\"dataframe\">\n",
              "  <thead>\n",
              "    <tr style=\"text-align: right;\">\n",
              "      <th></th>\n",
              "      <th>Actual</th>\n",
              "      <th>Predicted</th>\n",
              "    </tr>\n",
              "  </thead>\n",
              "  <tbody>\n",
              "    <tr>\n",
              "      <th>29</th>\n",
              "      <td>534</td>\n",
              "      <td>468.446949</td>\n",
              "    </tr>\n",
              "    <tr>\n",
              "      <th>4</th>\n",
              "      <td>410</td>\n",
              "      <td>550.475773</td>\n",
              "    </tr>\n",
              "    <tr>\n",
              "      <th>26</th>\n",
              "      <td>577</td>\n",
              "      <td>589.922533</td>\n",
              "    </tr>\n",
              "    <tr>\n",
              "      <th>30</th>\n",
              "      <td>571</td>\n",
              "      <td>572.151628</td>\n",
              "    </tr>\n",
              "    <tr>\n",
              "      <th>32</th>\n",
              "      <td>577</td>\n",
              "      <td>648.442611</td>\n",
              "    </tr>\n",
              "    <tr>\n",
              "      <th>37</th>\n",
              "      <td>704</td>\n",
              "      <td>645.441003</td>\n",
              "    </tr>\n",
              "    <tr>\n",
              "      <th>34</th>\n",
              "      <td>487</td>\n",
              "      <td>517.913312</td>\n",
              "    </tr>\n",
              "    <tr>\n",
              "      <th>40</th>\n",
              "      <td>587</td>\n",
              "      <td>669.802235</td>\n",
              "    </tr>\n",
              "    <tr>\n",
              "      <th>7</th>\n",
              "      <td>467</td>\n",
              "      <td>499.668226</td>\n",
              "    </tr>\n",
              "    <tr>\n",
              "      <th>10</th>\n",
              "      <td>580</td>\n",
              "      <td>496.656659</td>\n",
              "    </tr>\n",
              "    <tr>\n",
              "      <th>11</th>\n",
              "      <td>471</td>\n",
              "      <td>406.347089</td>\n",
              "    </tr>\n",
              "    <tr>\n",
              "      <th>31</th>\n",
              "      <td>554</td>\n",
              "      <td>589.356261</td>\n",
              "    </tr>\n",
              "    <tr>\n",
              "      <th>33</th>\n",
              "      <td>628</td>\n",
              "      <td>625.694916</td>\n",
              "    </tr>\n",
              "    <tr>\n",
              "      <th>27</th>\n",
              "      <td>631</td>\n",
              "      <td>600.115638</td>\n",
              "    </tr>\n",
              "    <tr>\n",
              "      <th>47</th>\n",
              "      <td>524</td>\n",
              "      <td>554.212026</td>\n",
              "    </tr>\n",
              "    <tr>\n",
              "      <th>2</th>\n",
              "      <td>561</td>\n",
              "      <td>582.575412</td>\n",
              "    </tr>\n",
              "    <tr>\n",
              "      <th>46</th>\n",
              "      <td>610</td>\n",
              "      <td>680.359903</td>\n",
              "    </tr>\n",
              "    <tr>\n",
              "      <th>18</th>\n",
              "      <td>865</td>\n",
              "      <td>769.369480</td>\n",
              "    </tr>\n",
              "    <tr>\n",
              "      <th>15</th>\n",
              "      <td>635</td>\n",
              "      <td>589.741398</td>\n",
              "    </tr>\n",
              "    <tr>\n",
              "      <th>28</th>\n",
              "      <td>574</td>\n",
              "      <td>553.409075</td>\n",
              "    </tr>\n",
              "    <tr>\n",
              "      <th>22</th>\n",
              "      <td>464</td>\n",
              "      <td>414.937462</td>\n",
              "    </tr>\n",
              "    <tr>\n",
              "      <th>16</th>\n",
              "      <td>603</td>\n",
              "      <td>591.583736</td>\n",
              "    </tr>\n",
              "    <tr>\n",
              "      <th>41</th>\n",
              "      <td>699</td>\n",
              "      <td>648.467615</td>\n",
              "    </tr>\n",
              "    <tr>\n",
              "      <th>20</th>\n",
              "      <td>649</td>\n",
              "      <td>686.483997</td>\n",
              "    </tr>\n",
              "  </tbody>\n",
              "</table>\n",
              "</div>\n",
              "      <button class=\"colab-df-convert\" onclick=\"convertToInteractive('df-5217e57b-e886-466a-b09a-1656d9780ecd')\"\n",
              "              title=\"Convert this dataframe to an interactive table.\"\n",
              "              style=\"display:none;\">\n",
              "        \n",
              "  <svg xmlns=\"http://www.w3.org/2000/svg\" height=\"24px\"viewBox=\"0 0 24 24\"\n",
              "       width=\"24px\">\n",
              "    <path d=\"M0 0h24v24H0V0z\" fill=\"none\"/>\n",
              "    <path d=\"M18.56 5.44l.94 2.06.94-2.06 2.06-.94-2.06-.94-.94-2.06-.94 2.06-2.06.94zm-11 1L8.5 8.5l.94-2.06 2.06-.94-2.06-.94L8.5 2.5l-.94 2.06-2.06.94zm10 10l.94 2.06.94-2.06 2.06-.94-2.06-.94-.94-2.06-.94 2.06-2.06.94z\"/><path d=\"M17.41 7.96l-1.37-1.37c-.4-.4-.92-.59-1.43-.59-.52 0-1.04.2-1.43.59L10.3 9.45l-7.72 7.72c-.78.78-.78 2.05 0 2.83L4 21.41c.39.39.9.59 1.41.59.51 0 1.02-.2 1.41-.59l7.78-7.78 2.81-2.81c.8-.78.8-2.07 0-2.86zM5.41 20L4 18.59l7.72-7.72 1.47 1.35L5.41 20z\"/>\n",
              "  </svg>\n",
              "      </button>\n",
              "      \n",
              "  <style>\n",
              "    .colab-df-container {\n",
              "      display:flex;\n",
              "      flex-wrap:wrap;\n",
              "      gap: 12px;\n",
              "    }\n",
              "\n",
              "    .colab-df-convert {\n",
              "      background-color: #E8F0FE;\n",
              "      border: none;\n",
              "      border-radius: 50%;\n",
              "      cursor: pointer;\n",
              "      display: none;\n",
              "      fill: #1967D2;\n",
              "      height: 32px;\n",
              "      padding: 0 0 0 0;\n",
              "      width: 32px;\n",
              "    }\n",
              "\n",
              "    .colab-df-convert:hover {\n",
              "      background-color: #E2EBFA;\n",
              "      box-shadow: 0px 1px 2px rgba(60, 64, 67, 0.3), 0px 1px 3px 1px rgba(60, 64, 67, 0.15);\n",
              "      fill: #174EA6;\n",
              "    }\n",
              "\n",
              "    [theme=dark] .colab-df-convert {\n",
              "      background-color: #3B4455;\n",
              "      fill: #D2E3FC;\n",
              "    }\n",
              "\n",
              "    [theme=dark] .colab-df-convert:hover {\n",
              "      background-color: #434B5C;\n",
              "      box-shadow: 0px 1px 3px 1px rgba(0, 0, 0, 0.15);\n",
              "      filter: drop-shadow(0px 1px 2px rgba(0, 0, 0, 0.3));\n",
              "      fill: #FFFFFF;\n",
              "    }\n",
              "  </style>\n",
              "\n",
              "      <script>\n",
              "        const buttonEl =\n",
              "          document.querySelector('#df-5217e57b-e886-466a-b09a-1656d9780ecd button.colab-df-convert');\n",
              "        buttonEl.style.display =\n",
              "          google.colab.kernel.accessAllowed ? 'block' : 'none';\n",
              "\n",
              "        async function convertToInteractive(key) {\n",
              "          const element = document.querySelector('#df-5217e57b-e886-466a-b09a-1656d9780ecd');\n",
              "          const dataTable =\n",
              "            await google.colab.kernel.invokeFunction('convertToInteractive',\n",
              "                                                     [key], {});\n",
              "          if (!dataTable) return;\n",
              "\n",
              "          const docLinkHtml = 'Like what you see? Visit the ' +\n",
              "            '<a target=\"_blank\" href=https://colab.research.google.com/notebooks/data_table.ipynb>data table notebook</a>'\n",
              "            + ' to learn more about interactive tables.';\n",
              "          element.innerHTML = '';\n",
              "          dataTable['output_type'] = 'display_data';\n",
              "          await google.colab.output.renderOutput(dataTable, element);\n",
              "          const docLink = document.createElement('div');\n",
              "          docLink.innerHTML = docLinkHtml;\n",
              "          element.appendChild(docLink);\n",
              "        }\n",
              "      </script>\n",
              "    </div>\n",
              "  </div>\n",
              "  "
            ]
          },
          "metadata": {},
          "execution_count": 15
        }
      ]
    },
    {
      "cell_type": "code",
      "source": [
        "# Evaluating the Algorithm\n",
        "from sklearn import metrics  \n",
        "print('Mean Absolute Error:', metrics.mean_absolute_error(y_test, y_pred))  \n",
        "print('Mean Squared Error:', metrics.mean_squared_error(y_test, y_pred))  \n",
        "print('Root Mean Squared Error:', np.sqrt(metrics.mean_squared_error(y_test, y_pred)))"
      ],
      "metadata": {
        "colab": {
          "base_uri": "https://localhost:8080/"
        },
        "id": "nI01pBQ4Xzw6",
        "outputId": "df37746e-e6dc-4e6f-d628-f39f092aa20e"
      },
      "execution_count": null,
      "outputs": [
        {
          "output_type": "stream",
          "name": "stdout",
          "text": [
            "Mean Absolute Error: 47.71470395631451\n",
            "Mean Squared Error: 3307.870663967293\n",
            "Root Mean Squared Error: 57.51409100357314\n"
          ]
        }
      ]
    },
    {
      "cell_type": "code",
      "source": [],
      "metadata": {
        "id": "wz--Q5j2X5aK"
      },
      "execution_count": null,
      "outputs": []
    },
    {
      "cell_type": "markdown",
      "source": [
        "**Random Forest Algorithm with Python and Scikit-Learn**\n",
        "\n",
        "Random forest is a type of supervised machine learning algorithm based on ensemble learning. Ensemble learning is a type of learning where you join different types of algorithms or same algorithm multiple times to form a more powerful prediction model. The random forest algorithm combines multiple algorithm of the same type i.e. multiple decision trees, resulting in a forest of trees, hence the name \"Random Forest\". The random forest algorithm can be used for both regression and classification tasks.\n",
        "\n",
        "**How the Random Forest Algorithm Works:**\n",
        "\n",
        "The following are the basic steps involved in performing the random forest algorithm:\n",
        "\n",
        "1 Pick N random records from the dataset.\n",
        "\n",
        "2 Build a decision tree based on these N records.\n",
        "\n",
        "3 Choose the number of trees you want in your algorithm and repeat steps 1 and 2.\n",
        "\n",
        "4 In case of a regression problem, for a new record, each tree in the forest predicts a value for Y (output). The final value can be calculated by taking the average of all the values predicted by all the trees in forest.\n",
        "\n",
        "Or, in case of a classification problem, each tree in the forest predicts the category to which the new record belongs. Finally, the new record is assigned to the category that wins the majority vote."
      ],
      "metadata": {
        "id": "14FrF6cmlfk4"
      }
    },
    {
      "cell_type": "markdown",
      "source": [
        "**Advantages of using Random Forest**\n",
        "As with any algorithm, there are advantages and disadvantages to using it. In the next two sections we'll take a look at the pros and cons of using random forest for classification and regression.\n",
        "\n",
        "1> The random forest algorithm is not biased, since, there are multiple trees and each tree is trained on a subset of data. Basically, the random forest algorithm relies on the power of \"the crowd\"; therefore the overall biasedness of the algorithm is reduced.\n",
        "\n",
        "2> This algorithm is very stable. Even if a new data point is introduced in the dataset the overall algorithm is not affected much since new data may impact one tree, but it is very hard for it to impact all the trees.\n",
        "\n",
        "3> The random forest algorithm works well when you have both categorical and numerical features.\n",
        "\n",
        "4> The random forest algorithm also works well when data has missing values or it has not been scaled well.\n",
        "\n",
        "**Disadvantages of using Random Forest**\n",
        "\n",
        "1> A major disadvantage of random forests lies in their complexity. They required much more computational resources, owing to the large number of decision trees joined together.\n",
        "\n",
        "2> Due to their complexity, they require much more time to train; than other comparable algorithms.\n",
        "\n",
        "**1> Using Random Forest for Regression**\n",
        "\n",
        "Problem Definition : The problem here is to predict the gas consumption (in millions of gallons) in 48 of the US states based on petrol tax (in cents), per capita income (dollars), paved highways (in miles) and the proportion of population with the driving license."
      ],
      "metadata": {
        "id": "ZKukIhblmDsY"
      }
    },
    {
      "cell_type": "code",
      "source": [
        "dataset = pd.read_csv('/content/drive/MyDrive/ML data/petrol_consumption.csv')  \n",
        "dataset.head()"
      ],
      "metadata": {
        "colab": {
          "base_uri": "https://localhost:8080/",
          "height": 206
        },
        "id": "vekJ458olvbt",
        "outputId": "ca77f07b-9772-4d72-b99f-5862ed31d04d"
      },
      "execution_count": null,
      "outputs": [
        {
          "output_type": "execute_result",
          "data": {
            "text/plain": [
              "   Petrol_tax  Average_income  Paved_Highways  Population_Driver_licence(%)  \\\n",
              "0         9.0            3571            1976                         0.525   \n",
              "1         9.0            4092            1250                         0.572   \n",
              "2         9.0            3865            1586                         0.580   \n",
              "3         7.5            4870            2351                         0.529   \n",
              "4         8.0            4399             431                         0.544   \n",
              "\n",
              "   Petrol_Consumption  \n",
              "0                 541  \n",
              "1                 524  \n",
              "2                 561  \n",
              "3                 414  \n",
              "4                 410  "
            ],
            "text/html": [
              "\n",
              "  <div id=\"df-10b67081-ddc9-49e4-b261-52dd188606b5\">\n",
              "    <div class=\"colab-df-container\">\n",
              "      <div>\n",
              "<style scoped>\n",
              "    .dataframe tbody tr th:only-of-type {\n",
              "        vertical-align: middle;\n",
              "    }\n",
              "\n",
              "    .dataframe tbody tr th {\n",
              "        vertical-align: top;\n",
              "    }\n",
              "\n",
              "    .dataframe thead th {\n",
              "        text-align: right;\n",
              "    }\n",
              "</style>\n",
              "<table border=\"1\" class=\"dataframe\">\n",
              "  <thead>\n",
              "    <tr style=\"text-align: right;\">\n",
              "      <th></th>\n",
              "      <th>Petrol_tax</th>\n",
              "      <th>Average_income</th>\n",
              "      <th>Paved_Highways</th>\n",
              "      <th>Population_Driver_licence(%)</th>\n",
              "      <th>Petrol_Consumption</th>\n",
              "    </tr>\n",
              "  </thead>\n",
              "  <tbody>\n",
              "    <tr>\n",
              "      <th>0</th>\n",
              "      <td>9.0</td>\n",
              "      <td>3571</td>\n",
              "      <td>1976</td>\n",
              "      <td>0.525</td>\n",
              "      <td>541</td>\n",
              "    </tr>\n",
              "    <tr>\n",
              "      <th>1</th>\n",
              "      <td>9.0</td>\n",
              "      <td>4092</td>\n",
              "      <td>1250</td>\n",
              "      <td>0.572</td>\n",
              "      <td>524</td>\n",
              "    </tr>\n",
              "    <tr>\n",
              "      <th>2</th>\n",
              "      <td>9.0</td>\n",
              "      <td>3865</td>\n",
              "      <td>1586</td>\n",
              "      <td>0.580</td>\n",
              "      <td>561</td>\n",
              "    </tr>\n",
              "    <tr>\n",
              "      <th>3</th>\n",
              "      <td>7.5</td>\n",
              "      <td>4870</td>\n",
              "      <td>2351</td>\n",
              "      <td>0.529</td>\n",
              "      <td>414</td>\n",
              "    </tr>\n",
              "    <tr>\n",
              "      <th>4</th>\n",
              "      <td>8.0</td>\n",
              "      <td>4399</td>\n",
              "      <td>431</td>\n",
              "      <td>0.544</td>\n",
              "      <td>410</td>\n",
              "    </tr>\n",
              "  </tbody>\n",
              "</table>\n",
              "</div>\n",
              "      <button class=\"colab-df-convert\" onclick=\"convertToInteractive('df-10b67081-ddc9-49e4-b261-52dd188606b5')\"\n",
              "              title=\"Convert this dataframe to an interactive table.\"\n",
              "              style=\"display:none;\">\n",
              "        \n",
              "  <svg xmlns=\"http://www.w3.org/2000/svg\" height=\"24px\"viewBox=\"0 0 24 24\"\n",
              "       width=\"24px\">\n",
              "    <path d=\"M0 0h24v24H0V0z\" fill=\"none\"/>\n",
              "    <path d=\"M18.56 5.44l.94 2.06.94-2.06 2.06-.94-2.06-.94-.94-2.06-.94 2.06-2.06.94zm-11 1L8.5 8.5l.94-2.06 2.06-.94-2.06-.94L8.5 2.5l-.94 2.06-2.06.94zm10 10l.94 2.06.94-2.06 2.06-.94-2.06-.94-.94-2.06-.94 2.06-2.06.94z\"/><path d=\"M17.41 7.96l-1.37-1.37c-.4-.4-.92-.59-1.43-.59-.52 0-1.04.2-1.43.59L10.3 9.45l-7.72 7.72c-.78.78-.78 2.05 0 2.83L4 21.41c.39.39.9.59 1.41.59.51 0 1.02-.2 1.41-.59l7.78-7.78 2.81-2.81c.8-.78.8-2.07 0-2.86zM5.41 20L4 18.59l7.72-7.72 1.47 1.35L5.41 20z\"/>\n",
              "  </svg>\n",
              "      </button>\n",
              "      \n",
              "  <style>\n",
              "    .colab-df-container {\n",
              "      display:flex;\n",
              "      flex-wrap:wrap;\n",
              "      gap: 12px;\n",
              "    }\n",
              "\n",
              "    .colab-df-convert {\n",
              "      background-color: #E8F0FE;\n",
              "      border: none;\n",
              "      border-radius: 50%;\n",
              "      cursor: pointer;\n",
              "      display: none;\n",
              "      fill: #1967D2;\n",
              "      height: 32px;\n",
              "      padding: 0 0 0 0;\n",
              "      width: 32px;\n",
              "    }\n",
              "\n",
              "    .colab-df-convert:hover {\n",
              "      background-color: #E2EBFA;\n",
              "      box-shadow: 0px 1px 2px rgba(60, 64, 67, 0.3), 0px 1px 3px 1px rgba(60, 64, 67, 0.15);\n",
              "      fill: #174EA6;\n",
              "    }\n",
              "\n",
              "    [theme=dark] .colab-df-convert {\n",
              "      background-color: #3B4455;\n",
              "      fill: #D2E3FC;\n",
              "    }\n",
              "\n",
              "    [theme=dark] .colab-df-convert:hover {\n",
              "      background-color: #434B5C;\n",
              "      box-shadow: 0px 1px 3px 1px rgba(0, 0, 0, 0.15);\n",
              "      filter: drop-shadow(0px 1px 2px rgba(0, 0, 0, 0.3));\n",
              "      fill: #FFFFFF;\n",
              "    }\n",
              "  </style>\n",
              "\n",
              "      <script>\n",
              "        const buttonEl =\n",
              "          document.querySelector('#df-10b67081-ddc9-49e4-b261-52dd188606b5 button.colab-df-convert');\n",
              "        buttonEl.style.display =\n",
              "          google.colab.kernel.accessAllowed ? 'block' : 'none';\n",
              "\n",
              "        async function convertToInteractive(key) {\n",
              "          const element = document.querySelector('#df-10b67081-ddc9-49e4-b261-52dd188606b5');\n",
              "          const dataTable =\n",
              "            await google.colab.kernel.invokeFunction('convertToInteractive',\n",
              "                                                     [key], {});\n",
              "          if (!dataTable) return;\n",
              "\n",
              "          const docLinkHtml = 'Like what you see? Visit the ' +\n",
              "            '<a target=\"_blank\" href=https://colab.research.google.com/notebooks/data_table.ipynb>data table notebook</a>'\n",
              "            + ' to learn more about interactive tables.';\n",
              "          element.innerHTML = '';\n",
              "          dataTable['output_type'] = 'display_data';\n",
              "          await google.colab.output.renderOutput(dataTable, element);\n",
              "          const docLink = document.createElement('div');\n",
              "          docLink.innerHTML = docLinkHtml;\n",
              "          element.appendChild(docLink);\n",
              "        }\n",
              "      </script>\n",
              "    </div>\n",
              "  </div>\n",
              "  "
            ]
          },
          "metadata": {},
          "execution_count": 2
        }
      ]
    },
    {
      "cell_type": "code",
      "source": [
        "dataset.describe()"
      ],
      "metadata": {
        "colab": {
          "base_uri": "https://localhost:8080/",
          "height": 300
        },
        "id": "llP9CjO0ntEp",
        "outputId": "2aaf2e0b-9df0-44fc-8565-4eb5c4941e0b"
      },
      "execution_count": null,
      "outputs": [
        {
          "output_type": "execute_result",
          "data": {
            "text/plain": [
              "       Petrol_tax  Average_income  Paved_Highways  \\\n",
              "count   48.000000       48.000000       48.000000   \n",
              "mean     7.668333     4241.833333     5565.416667   \n",
              "std      0.950770      573.623768     3491.507166   \n",
              "min      5.000000     3063.000000      431.000000   \n",
              "25%      7.000000     3739.000000     3110.250000   \n",
              "50%      7.500000     4298.000000     4735.500000   \n",
              "75%      8.125000     4578.750000     7156.000000   \n",
              "max     10.000000     5342.000000    17782.000000   \n",
              "\n",
              "       Population_Driver_licence(%)  Petrol_Consumption  \n",
              "count                     48.000000           48.000000  \n",
              "mean                       0.570333          576.770833  \n",
              "std                        0.055470          111.885816  \n",
              "min                        0.451000          344.000000  \n",
              "25%                        0.529750          509.500000  \n",
              "50%                        0.564500          568.500000  \n",
              "75%                        0.595250          632.750000  \n",
              "max                        0.724000          968.000000  "
            ],
            "text/html": [
              "\n",
              "  <div id=\"df-01aab1a9-8dd8-45c4-ba80-4c091d328270\">\n",
              "    <div class=\"colab-df-container\">\n",
              "      <div>\n",
              "<style scoped>\n",
              "    .dataframe tbody tr th:only-of-type {\n",
              "        vertical-align: middle;\n",
              "    }\n",
              "\n",
              "    .dataframe tbody tr th {\n",
              "        vertical-align: top;\n",
              "    }\n",
              "\n",
              "    .dataframe thead th {\n",
              "        text-align: right;\n",
              "    }\n",
              "</style>\n",
              "<table border=\"1\" class=\"dataframe\">\n",
              "  <thead>\n",
              "    <tr style=\"text-align: right;\">\n",
              "      <th></th>\n",
              "      <th>Petrol_tax</th>\n",
              "      <th>Average_income</th>\n",
              "      <th>Paved_Highways</th>\n",
              "      <th>Population_Driver_licence(%)</th>\n",
              "      <th>Petrol_Consumption</th>\n",
              "    </tr>\n",
              "  </thead>\n",
              "  <tbody>\n",
              "    <tr>\n",
              "      <th>count</th>\n",
              "      <td>48.000000</td>\n",
              "      <td>48.000000</td>\n",
              "      <td>48.000000</td>\n",
              "      <td>48.000000</td>\n",
              "      <td>48.000000</td>\n",
              "    </tr>\n",
              "    <tr>\n",
              "      <th>mean</th>\n",
              "      <td>7.668333</td>\n",
              "      <td>4241.833333</td>\n",
              "      <td>5565.416667</td>\n",
              "      <td>0.570333</td>\n",
              "      <td>576.770833</td>\n",
              "    </tr>\n",
              "    <tr>\n",
              "      <th>std</th>\n",
              "      <td>0.950770</td>\n",
              "      <td>573.623768</td>\n",
              "      <td>3491.507166</td>\n",
              "      <td>0.055470</td>\n",
              "      <td>111.885816</td>\n",
              "    </tr>\n",
              "    <tr>\n",
              "      <th>min</th>\n",
              "      <td>5.000000</td>\n",
              "      <td>3063.000000</td>\n",
              "      <td>431.000000</td>\n",
              "      <td>0.451000</td>\n",
              "      <td>344.000000</td>\n",
              "    </tr>\n",
              "    <tr>\n",
              "      <th>25%</th>\n",
              "      <td>7.000000</td>\n",
              "      <td>3739.000000</td>\n",
              "      <td>3110.250000</td>\n",
              "      <td>0.529750</td>\n",
              "      <td>509.500000</td>\n",
              "    </tr>\n",
              "    <tr>\n",
              "      <th>50%</th>\n",
              "      <td>7.500000</td>\n",
              "      <td>4298.000000</td>\n",
              "      <td>4735.500000</td>\n",
              "      <td>0.564500</td>\n",
              "      <td>568.500000</td>\n",
              "    </tr>\n",
              "    <tr>\n",
              "      <th>75%</th>\n",
              "      <td>8.125000</td>\n",
              "      <td>4578.750000</td>\n",
              "      <td>7156.000000</td>\n",
              "      <td>0.595250</td>\n",
              "      <td>632.750000</td>\n",
              "    </tr>\n",
              "    <tr>\n",
              "      <th>max</th>\n",
              "      <td>10.000000</td>\n",
              "      <td>5342.000000</td>\n",
              "      <td>17782.000000</td>\n",
              "      <td>0.724000</td>\n",
              "      <td>968.000000</td>\n",
              "    </tr>\n",
              "  </tbody>\n",
              "</table>\n",
              "</div>\n",
              "      <button class=\"colab-df-convert\" onclick=\"convertToInteractive('df-01aab1a9-8dd8-45c4-ba80-4c091d328270')\"\n",
              "              title=\"Convert this dataframe to an interactive table.\"\n",
              "              style=\"display:none;\">\n",
              "        \n",
              "  <svg xmlns=\"http://www.w3.org/2000/svg\" height=\"24px\"viewBox=\"0 0 24 24\"\n",
              "       width=\"24px\">\n",
              "    <path d=\"M0 0h24v24H0V0z\" fill=\"none\"/>\n",
              "    <path d=\"M18.56 5.44l.94 2.06.94-2.06 2.06-.94-2.06-.94-.94-2.06-.94 2.06-2.06.94zm-11 1L8.5 8.5l.94-2.06 2.06-.94-2.06-.94L8.5 2.5l-.94 2.06-2.06.94zm10 10l.94 2.06.94-2.06 2.06-.94-2.06-.94-.94-2.06-.94 2.06-2.06.94z\"/><path d=\"M17.41 7.96l-1.37-1.37c-.4-.4-.92-.59-1.43-.59-.52 0-1.04.2-1.43.59L10.3 9.45l-7.72 7.72c-.78.78-.78 2.05 0 2.83L4 21.41c.39.39.9.59 1.41.59.51 0 1.02-.2 1.41-.59l7.78-7.78 2.81-2.81c.8-.78.8-2.07 0-2.86zM5.41 20L4 18.59l7.72-7.72 1.47 1.35L5.41 20z\"/>\n",
              "  </svg>\n",
              "      </button>\n",
              "      \n",
              "  <style>\n",
              "    .colab-df-container {\n",
              "      display:flex;\n",
              "      flex-wrap:wrap;\n",
              "      gap: 12px;\n",
              "    }\n",
              "\n",
              "    .colab-df-convert {\n",
              "      background-color: #E8F0FE;\n",
              "      border: none;\n",
              "      border-radius: 50%;\n",
              "      cursor: pointer;\n",
              "      display: none;\n",
              "      fill: #1967D2;\n",
              "      height: 32px;\n",
              "      padding: 0 0 0 0;\n",
              "      width: 32px;\n",
              "    }\n",
              "\n",
              "    .colab-df-convert:hover {\n",
              "      background-color: #E2EBFA;\n",
              "      box-shadow: 0px 1px 2px rgba(60, 64, 67, 0.3), 0px 1px 3px 1px rgba(60, 64, 67, 0.15);\n",
              "      fill: #174EA6;\n",
              "    }\n",
              "\n",
              "    [theme=dark] .colab-df-convert {\n",
              "      background-color: #3B4455;\n",
              "      fill: #D2E3FC;\n",
              "    }\n",
              "\n",
              "    [theme=dark] .colab-df-convert:hover {\n",
              "      background-color: #434B5C;\n",
              "      box-shadow: 0px 1px 3px 1px rgba(0, 0, 0, 0.15);\n",
              "      filter: drop-shadow(0px 1px 2px rgba(0, 0, 0, 0.3));\n",
              "      fill: #FFFFFF;\n",
              "    }\n",
              "  </style>\n",
              "\n",
              "      <script>\n",
              "        const buttonEl =\n",
              "          document.querySelector('#df-01aab1a9-8dd8-45c4-ba80-4c091d328270 button.colab-df-convert');\n",
              "        buttonEl.style.display =\n",
              "          google.colab.kernel.accessAllowed ? 'block' : 'none';\n",
              "\n",
              "        async function convertToInteractive(key) {\n",
              "          const element = document.querySelector('#df-01aab1a9-8dd8-45c4-ba80-4c091d328270');\n",
              "          const dataTable =\n",
              "            await google.colab.kernel.invokeFunction('convertToInteractive',\n",
              "                                                     [key], {});\n",
              "          if (!dataTable) return;\n",
              "\n",
              "          const docLinkHtml = 'Like what you see? Visit the ' +\n",
              "            '<a target=\"_blank\" href=https://colab.research.google.com/notebooks/data_table.ipynb>data table notebook</a>'\n",
              "            + ' to learn more about interactive tables.';\n",
              "          element.innerHTML = '';\n",
              "          dataTable['output_type'] = 'display_data';\n",
              "          await google.colab.output.renderOutput(dataTable, element);\n",
              "          const docLink = document.createElement('div');\n",
              "          docLink.innerHTML = docLinkHtml;\n",
              "          element.appendChild(docLink);\n",
              "        }\n",
              "      </script>\n",
              "    </div>\n",
              "  </div>\n",
              "  "
            ]
          },
          "metadata": {},
          "execution_count": 3
        }
      ]
    },
    {
      "cell_type": "code",
      "source": [
        "# Preparing the Data\n",
        "# divide the data into attributes and labels\n",
        "\n",
        "X = dataset.drop('Petrol_Consumption', axis=1)  \n",
        "y = dataset['Petrol_Consumption']  \n",
        "\n",
        "# dividing data into training and testing set .. type your code here\n",
        "\n",
        "from sklearn.model_selection import train_test_split  \n",
        "X_train, X_test, y_train, y_test = train_test_split(X, y, test_size=0.50, random_state=0) #default tset_size=0.25,\n",
        "                                                                                            #random_state=seedvalue\n",
        "# Training and Making Predictions\n",
        "from sklearn.ensemble import RandomForestRegressor\n",
        "\n",
        "regressor = RandomForestRegressor(n_estimators=20, random_state=0)  \n",
        "regressor.fit(X_train, y_train)  \n",
        "y_pred = regressor.predict(X_test)  \n",
        "\n",
        "# The RandomForestRegressor class of the sklearn.ensemble library\n",
        "# is used to solve regression problems via random forest. \n",
        "# The most important parameter of the RandomForestRegressor class \n",
        "# is the n_estimators parameter. \n",
        "# This parameter defines the number of trees in the random forest.\n",
        "\n",
        "# Evaluating the Algorithm\n",
        "from sklearn import metrics\n",
        "\n",
        "print('Mean Absolute Error:', metrics.mean_absolute_error(y_test, y_pred))  \n",
        "print('Mean Squared Error:', metrics.mean_squared_error(y_test, y_pred))  \n",
        "print('Root Mean Squared Error:', np.sqrt(metrics.mean_squared_error(y_test, y_pred)))"
      ],
      "metadata": {
        "colab": {
          "base_uri": "https://localhost:8080/"
        },
        "id": "POgNO8pan46S",
        "outputId": "603d2718-4729-4134-decc-2669257e89e6"
      },
      "execution_count": null,
      "outputs": [
        {
          "output_type": "stream",
          "name": "stdout",
          "text": [
            "Mean Absolute Error: 49.97291666666667\n",
            "Mean Squared Error: 3873.2832291666673\n",
            "Root Mean Squared Error: 62.235707027129266\n"
          ]
        }
      ]
    },
    {
      "cell_type": "markdown",
      "source": [
        "With 20 trees, the root mean squared error is 62.23 which is greater than 10 percent of the average petrol consumption i.e. 576.77. This may indicate, among other things, that we have not used enough estimators (trees)."
      ],
      "metadata": {
        "id": "abM7vijRoMPw"
      }
    },
    {
      "cell_type": "code",
      "source": [
        "# If the number of estimators is changed to 50, the results are as follows:\n",
        "regressor = RandomForestRegressor(n_estimators=50, random_state=0)  \n",
        "regressor.fit(X_train, y_train)  \n",
        "y_pred = regressor.predict(X_test)  \n",
        "# Evaluating the Algorithm\n",
        "from sklearn import metrics\n",
        "\n",
        "print('Mean Absolute Error:', metrics.mean_absolute_error(y_test, y_pred))  \n",
        "print('Mean Squared Error:', metrics.mean_squared_error(y_test, y_pred))  \n",
        "print('Root Mean Squared Error:', np.sqrt(metrics.mean_squared_error(y_test, y_pred)))"
      ],
      "metadata": {
        "colab": {
          "base_uri": "https://localhost:8080/"
        },
        "id": "65xL8kYwn_8e",
        "outputId": "ea3af716-713f-4e62-e6f6-35dbebbf0122"
      },
      "execution_count": null,
      "outputs": [
        {
          "output_type": "stream",
          "name": "stdout",
          "text": [
            "Mean Absolute Error: 48.13999999999999\n",
            "Mean Squared Error: 3392.6936999999984\n",
            "Root Mean Squared Error: 58.246834248738345\n"
          ]
        }
      ]
    },
    {
      "cell_type": "markdown",
      "source": [
        "With 50 trees, the root mean squared error is 58.24 which is close to 10 percent of the average petrol consumption i.e. 576.77. (~ these values may change depending upon the train-test data set).\n",
        "\n",
        "**2: Using Random Forest for Classification**\n",
        "\n",
        "Problem Definition : The task here is to predict whether a bank currency note is authentic or not based on four attributes i.e. variance of the image wavelet transformed image, skewness, entropy, and curtosis of the image."
      ],
      "metadata": {
        "id": "cP2QqhsEoex4"
      }
    },
    {
      "cell_type": "code",
      "source": [
        "# doing the minimum necessary imports\n",
        "# more modules would be imported as and when needed\n",
        "import pandas as pd  \n",
        "import numpy as np  \n",
        "import matplotlib.pyplot as plt  \n",
        "%matplotlib inline\n",
        "\n",
        "# reading data from CSV file. \n",
        "# reading bank currency note data into pandas dataframe.\n",
        "bankdata = pd.read_csv(\"/content/drive/MyDrive/ML data/bill_authentication.csv\")  \n",
        "\n",
        "# Exploratory Data Analysis\n",
        "print(bankdata.shape)  \n",
        "print(\"------------\")\n",
        "print(bankdata.head())"
      ],
      "metadata": {
        "colab": {
          "base_uri": "https://localhost:8080/"
        },
        "id": "hNIqLzIeojLo",
        "outputId": "220a9cd0-1629-45b1-ca9c-54dae12da640"
      },
      "execution_count": null,
      "outputs": [
        {
          "output_type": "stream",
          "name": "stdout",
          "text": [
            "(1372, 5)\n",
            "------------\n",
            "   Variance  Skewness  Curtosis  Entropy  Class\n",
            "0   3.62160    8.6661   -2.8073 -0.44699      0\n",
            "1   4.54590    8.1674   -2.4586 -1.46210      0\n",
            "2   3.86600   -2.6383    1.9242  0.10645      0\n",
            "3   3.45660    9.5228   -4.0112 -3.59440      0\n",
            "4   0.32924   -4.4552    4.5718 -0.98880      0\n"
          ]
        }
      ]
    },
    {
      "cell_type": "code",
      "source": [
        "# Data Preprocessing\n",
        "# Data preprocessing involves \n",
        "# (1) Dividing the data into attributes and labels and \n",
        "# (2) dividing the data into training and testing sets.\n",
        "\n",
        "# To divide the data into attributes and labels -- type your code\n",
        "X=bankdata.drop('Class',axis=1)\n",
        "y=bankdata['Class']\n",
        "\n",
        "\n",
        "# the final preprocessing step is to divide data into training and test sets\n",
        "from sklearn.model_selection import train_test_split\n",
        "X_train, X_test, y_train, y_test = train_test_split(X, y, test_size=0.20)\n",
        "\n",
        "\n",
        "\n",
        "# Training the Algorithm.\n",
        "from sklearn.ensemble import RandomForestClassifier\n",
        "regressor = RandomForestClassifier(n_estimators=20, random_state=0)  \n",
        "regressor.fit(X_train, y_train)\n",
        "y_pred=regressor.predict(X_test)\n",
        "\n",
        "\n",
        "# Evaluating the Algorithm\n",
        "from sklearn.metrics import classification_report, confusion_matrix, accuracy_score\n",
        "\n",
        "print(confusion_matrix(y_test,y_pred))  \n",
        "print(classification_report(y_test,y_pred))  \n",
        "print(accuracy_score(y_test, y_pred))"
      ],
      "metadata": {
        "colab": {
          "base_uri": "https://localhost:8080/"
        },
        "id": "wf-315PwpOpT",
        "outputId": "ab989308-1516-4868-c3e3-6292433fd176"
      },
      "execution_count": null,
      "outputs": [
        {
          "output_type": "stream",
          "name": "stdout",
          "text": [
            "[[149   1]\n",
            " [  3 122]]\n",
            "              precision    recall  f1-score   support\n",
            "\n",
            "           0       0.98      0.99      0.99       150\n",
            "           1       0.99      0.98      0.98       125\n",
            "\n",
            "    accuracy                           0.99       275\n",
            "   macro avg       0.99      0.98      0.99       275\n",
            "weighted avg       0.99      0.99      0.99       275\n",
            "\n",
            "0.9854545454545455\n"
          ]
        }
      ]
    },
    {
      "cell_type": "markdown",
      "source": [
        "The accuracy achieved for by our random forest classifier with 20 trees is 100%.\n",
        "\n",
        "The learner / Student is expected to try n_estimators values of 10 and 50. Do you observe any difference ? We find that n_estimators=20 gives best gradient descent point. Also, pl note that we can get multiple gradient descent points at regular intervals too may be 20,40,60,...\n",
        "\n",
        "Note: We will never get 100 percent. Ideal results in realtime datasets is between 85 to 97."
      ],
      "metadata": {
        "id": "Bp-rHgFzqBvx"
      }
    },
    {
      "cell_type": "code",
      "source": [],
      "metadata": {
        "id": "mqy5C6KhqGEL"
      },
      "execution_count": null,
      "outputs": []
    }
  ]
}